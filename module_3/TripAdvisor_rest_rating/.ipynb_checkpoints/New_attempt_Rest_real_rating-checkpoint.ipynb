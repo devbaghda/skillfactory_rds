{
 "cells": [
  {
   "cell_type": "markdown",
   "metadata": {},
   "source": [
    "### INTRO AND DESCRIPTION"
   ]
  },
  {
   "cell_type": "markdown",
   "metadata": {},
   "source": [
    "This training notebook* is an attempt to solve the problem of the unfair ranking of restaurants in Trip Advisor. \n",
    "\n",
    "The task is the following. Based on the dataset provided, build a model which will evaluate and predict the real rating of the restaurant. In case of significant difference between the predicted rating and the current rating we may conclude that the current rating of the restaurant is most probably wrong.\n",
    "\n",
    "Description of dataset: \n",
    "\n",
    "- **Restaurant_id**: identification number of the restaurant;\n",
    "- **City**: the city of restaurant allocation;\n",
    "- **Cuisine Style**: the cuisine(s) the restaurant offers;\n",
    "- **Ranking**: position of the restaurant within in-city ranking;\n",
    "- **Rating**: rating of the restaurant according to Trip Advisor data (this is the indicator the model should predict);\n",
    "- **Price Range**: price range in the restaurant;\n",
    "- **Number of Reviews**: number of reviews on the restaurant;\n",
    "- **Reviews**: info on 2 reviews placed on the restaurant web-page;\n",
    "- **URL_TA**: URL of the restaurant web-page on Trip Advisor;\n",
    "- **ID_TA**: the restaurant id in Trip Advisor database\n",
    "\n",
    "Modeling process is divided into logical steps, therefore for better user experience, please, *use TOC*\n",
    "\n",
    "\\* - *Python v3 code is written in Jupyter Notebook*  \n",
    "\\** - *restaurant is for restaurant / chain of restaurants* \n",
    "  "
   ]
  },
  {
   "cell_type": "markdown",
   "metadata": {},
   "source": [
    "### LIBRARIES AND TOOLS"
   ]
  },
  {
   "cell_type": "code",
   "execution_count": 184,
   "metadata": {},
   "outputs": [],
   "source": [
    "import pandas as pd\n",
    "import numpy as np\n",
    "import math\n",
    "import datetime\n",
    "\n",
    "from collections import Counter, defaultdict\n",
    "\n",
    "import seaborn as sns\n",
    "import matplotlib.pyplot as plt\n",
    "\n",
    "import warnings\n",
    "warnings.simplefilter(\"ignore\")"
   ]
  },
  {
   "cell_type": "code",
   "execution_count": 185,
   "metadata": {},
   "outputs": [],
   "source": [
    "RANDOM_SEED = 42"
   ]
  },
  {
   "cell_type": "code",
   "execution_count": 186,
   "metadata": {},
   "outputs": [],
   "source": [
    "!pip freeze > requirements.txt"
   ]
  },
  {
   "cell_type": "markdown",
   "metadata": {},
   "source": [
    "### DATA PREVIEW AND CLEANING"
   ]
  },
  {
   "cell_type": "code",
   "execution_count": 187,
   "metadata": {},
   "outputs": [],
   "source": [
    "data=pd.read_csv('main_task.csv')"
   ]
  },
  {
   "cell_type": "code",
   "execution_count": 188,
   "metadata": {
    "scrolled": false
   },
   "outputs": [
    {
     "data": {
      "text/html": [
       "<div>\n",
       "<style scoped>\n",
       "    .dataframe tbody tr th:only-of-type {\n",
       "        vertical-align: middle;\n",
       "    }\n",
       "\n",
       "    .dataframe tbody tr th {\n",
       "        vertical-align: top;\n",
       "    }\n",
       "\n",
       "    .dataframe thead th {\n",
       "        text-align: right;\n",
       "    }\n",
       "</style>\n",
       "<table border=\"1\" class=\"dataframe\">\n",
       "  <thead>\n",
       "    <tr style=\"text-align: right;\">\n",
       "      <th></th>\n",
       "      <th>Restaurant_id</th>\n",
       "      <th>City</th>\n",
       "      <th>Cuisine Style</th>\n",
       "      <th>Ranking</th>\n",
       "      <th>Rating</th>\n",
       "      <th>Price Range</th>\n",
       "      <th>Number of Reviews</th>\n",
       "      <th>Reviews</th>\n",
       "      <th>URL_TA</th>\n",
       "      <th>ID_TA</th>\n",
       "    </tr>\n",
       "  </thead>\n",
       "  <tbody>\n",
       "    <tr>\n",
       "      <th>9643</th>\n",
       "      <td>id_908</td>\n",
       "      <td>Paris</td>\n",
       "      <td>['Asian', 'Thai', 'Vietnamese', 'Vegetarian Fr...</td>\n",
       "      <td>909.0</td>\n",
       "      <td>4.5</td>\n",
       "      <td>$$ - $$$</td>\n",
       "      <td>224.0</td>\n",
       "      <td>[['Very good asian food', 'Excellent Place and...</td>\n",
       "      <td>/Restaurant_Review-g187147-d7171607-Reviews-Th...</td>\n",
       "      <td>d7171607</td>\n",
       "    </tr>\n",
       "    <tr>\n",
       "      <th>8272</th>\n",
       "      <td>id_3422</td>\n",
       "      <td>Barcelona</td>\n",
       "      <td>NaN</td>\n",
       "      <td>3423.0</td>\n",
       "      <td>5.0</td>\n",
       "      <td>NaN</td>\n",
       "      <td>8.0</td>\n",
       "      <td>[['A great place to be', 'Just what we were lo...</td>\n",
       "      <td>/Restaurant_Review-g187497-d8462225-Reviews-Bi...</td>\n",
       "      <td>d8462225</td>\n",
       "    </tr>\n",
       "    <tr>\n",
       "      <th>6025</th>\n",
       "      <td>id_3176</td>\n",
       "      <td>Barcelona</td>\n",
       "      <td>['Latin', 'Argentinean']</td>\n",
       "      <td>3177.0</td>\n",
       "      <td>4.0</td>\n",
       "      <td>$</td>\n",
       "      <td>136.0</td>\n",
       "      <td>[['Empanadas buenas', 'Nice find'], ['08/14/20...</td>\n",
       "      <td>/Restaurant_Review-g187497-d3649232-Reviews-La...</td>\n",
       "      <td>d3649232</td>\n",
       "    </tr>\n",
       "    <tr>\n",
       "      <th>37796</th>\n",
       "      <td>id_196</td>\n",
       "      <td>Prague</td>\n",
       "      <td>['Bar', 'European', 'Pub', 'Czech', 'Eastern E...</td>\n",
       "      <td>197.0</td>\n",
       "      <td>4.5</td>\n",
       "      <td>$$ - $$$</td>\n",
       "      <td>572.0</td>\n",
       "      <td>[['Great Food', 'A must in Prague!'], ['01/06/...</td>\n",
       "      <td>/Restaurant_Review-g274707-d1569917-Reviews-U_...</td>\n",
       "      <td>d1569917</td>\n",
       "    </tr>\n",
       "    <tr>\n",
       "      <th>19591</th>\n",
       "      <td>id_995</td>\n",
       "      <td>Paris</td>\n",
       "      <td>['French', 'American', 'Fast Food', 'Vegetaria...</td>\n",
       "      <td>996.0</td>\n",
       "      <td>5.0</td>\n",
       "      <td>$$ - $$$</td>\n",
       "      <td>46.0</td>\n",
       "      <td>[['Delightful !', 'Best burgers'], ['12/16/201...</td>\n",
       "      <td>/Restaurant_Review-g187147-d12503729-Reviews-B...</td>\n",
       "      <td>d12503729</td>\n",
       "    </tr>\n",
       "    <tr>\n",
       "      <th>2617</th>\n",
       "      <td>id_1773</td>\n",
       "      <td>Copenhagen</td>\n",
       "      <td>NaN</td>\n",
       "      <td>1796.0</td>\n",
       "      <td>3.0</td>\n",
       "      <td>NaN</td>\n",
       "      <td>NaN</td>\n",
       "      <td>[['It is what it is.'], ['12/29/2017']]</td>\n",
       "      <td>/Restaurant_Review-g806262-d13008535-Reviews-J...</td>\n",
       "      <td>d13008535</td>\n",
       "    </tr>\n",
       "    <tr>\n",
       "      <th>9338</th>\n",
       "      <td>id_966</td>\n",
       "      <td>Rome</td>\n",
       "      <td>['Italian', 'Pizza', 'Vegetarian Friendly', 'V...</td>\n",
       "      <td>967.0</td>\n",
       "      <td>4.0</td>\n",
       "      <td>$</td>\n",
       "      <td>1171.0</td>\n",
       "      <td>[['Good but not great pizza... popular destin....</td>\n",
       "      <td>/Restaurant_Review-g187791-d1231075-Reviews-Al...</td>\n",
       "      <td>d1231075</td>\n",
       "    </tr>\n",
       "    <tr>\n",
       "      <th>9085</th>\n",
       "      <td>id_6133</td>\n",
       "      <td>Paris</td>\n",
       "      <td>['Healthy']</td>\n",
       "      <td>6134.0</td>\n",
       "      <td>4.0</td>\n",
       "      <td>$$ - $$$</td>\n",
       "      <td>55.0</td>\n",
       "      <td>[['Great value for price', 'good and resonable...</td>\n",
       "      <td>/Restaurant_Review-g187147-d3571359-Reviews-Ca...</td>\n",
       "      <td>d3571359</td>\n",
       "    </tr>\n",
       "    <tr>\n",
       "      <th>32236</th>\n",
       "      <td>id_1468</td>\n",
       "      <td>Brussels</td>\n",
       "      <td>['Lebanese', 'Mediterranean']</td>\n",
       "      <td>1469.0</td>\n",
       "      <td>4.5</td>\n",
       "      <td>NaN</td>\n",
       "      <td>4.0</td>\n",
       "      <td>[['A nice place!', 'Great food, but high price...</td>\n",
       "      <td>/Restaurant_Review-g188644-d13220914-Reviews-B...</td>\n",
       "      <td>d13220914</td>\n",
       "    </tr>\n",
       "    <tr>\n",
       "      <th>6214</th>\n",
       "      <td>id_2336</td>\n",
       "      <td>Lyon</td>\n",
       "      <td>NaN</td>\n",
       "      <td>2337.0</td>\n",
       "      <td>3.0</td>\n",
       "      <td>NaN</td>\n",
       "      <td>12.0</td>\n",
       "      <td>[[\"Just below Burger King's standards !\", 'Lun...</td>\n",
       "      <td>/Restaurant_Review-g187265-d11929254-Reviews-B...</td>\n",
       "      <td>d11929254</td>\n",
       "    </tr>\n",
       "  </tbody>\n",
       "</table>\n",
       "</div>"
      ],
      "text/plain": [
       "      Restaurant_id        City  \\\n",
       "9643         id_908       Paris   \n",
       "8272        id_3422   Barcelona   \n",
       "6025        id_3176   Barcelona   \n",
       "37796        id_196      Prague   \n",
       "19591        id_995       Paris   \n",
       "2617        id_1773  Copenhagen   \n",
       "9338         id_966        Rome   \n",
       "9085        id_6133       Paris   \n",
       "32236       id_1468    Brussels   \n",
       "6214        id_2336        Lyon   \n",
       "\n",
       "                                           Cuisine Style  Ranking  Rating  \\\n",
       "9643   ['Asian', 'Thai', 'Vietnamese', 'Vegetarian Fr...    909.0     4.5   \n",
       "8272                                                 NaN   3423.0     5.0   \n",
       "6025                            ['Latin', 'Argentinean']   3177.0     4.0   \n",
       "37796  ['Bar', 'European', 'Pub', 'Czech', 'Eastern E...    197.0     4.5   \n",
       "19591  ['French', 'American', 'Fast Food', 'Vegetaria...    996.0     5.0   \n",
       "2617                                                 NaN   1796.0     3.0   \n",
       "9338   ['Italian', 'Pizza', 'Vegetarian Friendly', 'V...    967.0     4.0   \n",
       "9085                                         ['Healthy']   6134.0     4.0   \n",
       "32236                      ['Lebanese', 'Mediterranean']   1469.0     4.5   \n",
       "6214                                                 NaN   2337.0     3.0   \n",
       "\n",
       "      Price Range  Number of Reviews  \\\n",
       "9643     $$ - $$$              224.0   \n",
       "8272          NaN                8.0   \n",
       "6025            $              136.0   \n",
       "37796    $$ - $$$              572.0   \n",
       "19591    $$ - $$$               46.0   \n",
       "2617          NaN                NaN   \n",
       "9338            $             1171.0   \n",
       "9085     $$ - $$$               55.0   \n",
       "32236         NaN                4.0   \n",
       "6214          NaN               12.0   \n",
       "\n",
       "                                                 Reviews  \\\n",
       "9643   [['Very good asian food', 'Excellent Place and...   \n",
       "8272   [['A great place to be', 'Just what we were lo...   \n",
       "6025   [['Empanadas buenas', 'Nice find'], ['08/14/20...   \n",
       "37796  [['Great Food', 'A must in Prague!'], ['01/06/...   \n",
       "19591  [['Delightful !', 'Best burgers'], ['12/16/201...   \n",
       "2617             [['It is what it is.'], ['12/29/2017']]   \n",
       "9338   [['Good but not great pizza... popular destin....   \n",
       "9085   [['Great value for price', 'good and resonable...   \n",
       "32236  [['A nice place!', 'Great food, but high price...   \n",
       "6214   [[\"Just below Burger King's standards !\", 'Lun...   \n",
       "\n",
       "                                                  URL_TA      ID_TA  \n",
       "9643   /Restaurant_Review-g187147-d7171607-Reviews-Th...   d7171607  \n",
       "8272   /Restaurant_Review-g187497-d8462225-Reviews-Bi...   d8462225  \n",
       "6025   /Restaurant_Review-g187497-d3649232-Reviews-La...   d3649232  \n",
       "37796  /Restaurant_Review-g274707-d1569917-Reviews-U_...   d1569917  \n",
       "19591  /Restaurant_Review-g187147-d12503729-Reviews-B...  d12503729  \n",
       "2617   /Restaurant_Review-g806262-d13008535-Reviews-J...  d13008535  \n",
       "9338   /Restaurant_Review-g187791-d1231075-Reviews-Al...   d1231075  \n",
       "9085   /Restaurant_Review-g187147-d3571359-Reviews-Ca...   d3571359  \n",
       "32236  /Restaurant_Review-g188644-d13220914-Reviews-B...  d13220914  \n",
       "6214   /Restaurant_Review-g187265-d11929254-Reviews-B...  d11929254  "
      ]
     },
     "execution_count": 188,
     "metadata": {},
     "output_type": "execute_result"
    }
   ],
   "source": [
    "data.sample(10)"
   ]
  },
  {
   "cell_type": "code",
   "execution_count": 189,
   "metadata": {},
   "outputs": [],
   "source": [
    "data.columns=['Rest_ID', 'City', 'Cuisine_Style', 'Ranking', 'Rating',\n",
    "       'Price_Range', 'Number_of_Reviews', 'Reviews', 'URL_TA', 'ID_TA']"
   ]
  },
  {
   "cell_type": "code",
   "execution_count": 190,
   "metadata": {
    "scrolled": false
   },
   "outputs": [
    {
     "name": "stdout",
     "output_type": "stream",
     "text": [
      "<class 'pandas.core.frame.DataFrame'>\n",
      "RangeIndex: 40000 entries, 0 to 39999\n",
      "Data columns (total 10 columns):\n",
      " #   Column             Non-Null Count  Dtype  \n",
      "---  ------             --------------  -----  \n",
      " 0   Rest_ID            40000 non-null  object \n",
      " 1   City               40000 non-null  object \n",
      " 2   Cuisine_Style      30717 non-null  object \n",
      " 3   Ranking            40000 non-null  float64\n",
      " 4   Rating             40000 non-null  float64\n",
      " 5   Price_Range        26114 non-null  object \n",
      " 6   Number_of_Reviews  37457 non-null  float64\n",
      " 7   Reviews            40000 non-null  object \n",
      " 8   URL_TA             40000 non-null  object \n",
      " 9   ID_TA              40000 non-null  object \n",
      "dtypes: float64(3), object(7)\n",
      "memory usage: 3.1+ MB\n"
     ]
    }
   ],
   "source": [
    "data.info()"
   ]
  },
  {
   "cell_type": "markdown",
   "metadata": {},
   "source": [
    "есть пропуски в данных Cuisine_Style, Price_range, Number_of_Reviews"
   ]
  },
  {
   "cell_type": "markdown",
   "metadata": {},
   "source": [
    "#### Restaurant_ID"
   ]
  },
  {
   "cell_type": "code",
   "execution_count": 191,
   "metadata": {},
   "outputs": [
    {
     "data": {
      "text/plain": [
       "11909"
      ]
     },
     "execution_count": 191,
     "metadata": {},
     "output_type": "execute_result"
    }
   ],
   "source": [
    "data.Rest_ID.nunique()"
   ]
  },
  {
   "cell_type": "markdown",
   "metadata": {},
   "source": [
    "т.е из 40 000 записей Restaurant_id около 28 000 повторяющиеся. Возможно, ID ресторана уникально в рамках своего или имеется огромное количество дублирующей информации. Проверим "
   ]
  },
  {
   "cell_type": "code",
   "execution_count": 192,
   "metadata": {},
   "outputs": [
    {
     "data": {
      "text/plain": [
       "City\n",
       "Amsterdam     1086\n",
       "Athens         628\n",
       "Barcelona     2734\n",
       "Berlin        2155\n",
       "Bratislava     301\n",
       "Brussels      1060\n",
       "Budapest       816\n",
       "Copenhagen     659\n",
       "Dublin         673\n",
       "Edinburgh      596\n",
       "Geneva         481\n",
       "Hamburg        949\n",
       "Helsinki       376\n",
       "Krakow         443\n",
       "Lisbon        1300\n",
       "Ljubljana      183\n",
       "London        5757\n",
       "Luxembourg     210\n",
       "Lyon           892\n",
       "Madrid        3108\n",
       "Milan         2133\n",
       "Munich         893\n",
       "Oporto         513\n",
       "Oslo           385\n",
       "Paris         4897\n",
       "Prague        1443\n",
       "Rome          2078\n",
       "Stockholm      820\n",
       "Vienna        1166\n",
       "Warsaw         727\n",
       "Zurich         538\n",
       "Name: Rest_ID, dtype: int64"
      ]
     },
     "metadata": {},
     "output_type": "display_data"
    },
    {
     "data": {
      "text/plain": [
       "40000"
      ]
     },
     "metadata": {},
     "output_type": "display_data"
    }
   ],
   "source": [
    "gr_b_city=data.groupby('City').Rest_ID.nunique()\n",
    "display (gr_b_city, gr_b_city.sum())"
   ]
  },
  {
   "cell_type": "markdown",
   "metadata": {},
   "source": [
    "Разбитые по городам ID уникальны и в сумме дают 40 000 записей, что подтверждает первую догадку: ID уникальны в рамках одного города. \n",
    "Однако этот столбец смысловой нагрузки не несет, поэтому в модель его включать не будем"
   ]
  },
  {
   "cell_type": "markdown",
   "metadata": {},
   "source": [
    "#### ID_TA"
   ]
  },
  {
   "cell_type": "code",
   "execution_count": 193,
   "metadata": {},
   "outputs": [
    {
     "data": {
      "text/plain": [
       "39980"
      ]
     },
     "execution_count": 193,
     "metadata": {},
     "output_type": "execute_result"
    }
   ],
   "source": [
    "data.ID_TA.nunique()"
   ]
  },
  {
   "cell_type": "markdown",
   "metadata": {},
   "source": [
    "т.е. есть 20 строк с повторяющимися ID_TA"
   ]
  },
  {
   "cell_type": "code",
   "execution_count": 194,
   "metadata": {},
   "outputs": [
    {
     "data": {
      "text/plain": [
       "Index(['d10047799', 'd11674463', 'd11698990', 'd11921719', 'd11999956',\n",
       "       'd13002276', 'd1315077', 'd2477531', 'd3161682', 'd3685055', 'd4600226',\n",
       "       'd697406', 'd7337366', 'd7342803', 'd7809594', 'd793170', 'd8753348',\n",
       "       'd9802625', 'd9877640', 'd987900'],\n",
       "      dtype='object', name='ID_TA')"
      ]
     },
     "execution_count": 194,
     "metadata": {},
     "output_type": "execute_result"
    }
   ],
   "source": [
    "id_ta_check=data.groupby('ID_TA').City.count()\n",
    "chklist=id_ta_check.index[id_ta_check>1]\n",
    "chklist"
   ]
  },
  {
   "cell_type": "code",
   "execution_count": 195,
   "metadata": {
    "scrolled": true
   },
   "outputs": [
    {
     "data": {
      "text/html": [
       "<div>\n",
       "<style scoped>\n",
       "    .dataframe tbody tr th:only-of-type {\n",
       "        vertical-align: middle;\n",
       "    }\n",
       "\n",
       "    .dataframe tbody tr th {\n",
       "        vertical-align: top;\n",
       "    }\n",
       "\n",
       "    .dataframe thead th {\n",
       "        text-align: right;\n",
       "    }\n",
       "</style>\n",
       "<table border=\"1\" class=\"dataframe\">\n",
       "  <thead>\n",
       "    <tr style=\"text-align: right;\">\n",
       "      <th></th>\n",
       "      <th>Rest_ID</th>\n",
       "      <th>City</th>\n",
       "      <th>Cuisine_Style</th>\n",
       "      <th>Ranking</th>\n",
       "      <th>Rating</th>\n",
       "      <th>Price_Range</th>\n",
       "      <th>Number_of_Reviews</th>\n",
       "      <th>Reviews</th>\n",
       "      <th>URL_TA</th>\n",
       "      <th>ID_TA</th>\n",
       "    </tr>\n",
       "  </thead>\n",
       "  <tbody>\n",
       "    <tr>\n",
       "      <th>13980</th>\n",
       "      <td>id_3239</td>\n",
       "      <td>Madrid</td>\n",
       "      <td>NaN</td>\n",
       "      <td>3241.0</td>\n",
       "      <td>5.0</td>\n",
       "      <td>NaN</td>\n",
       "      <td>13.0</td>\n",
       "      <td>[[], []]</td>\n",
       "      <td>/Restaurant_Review-g187514-d10047799-Reviews-E...</td>\n",
       "      <td>d10047799</td>\n",
       "    </tr>\n",
       "    <tr>\n",
       "      <th>38946</th>\n",
       "      <td>id_3242</td>\n",
       "      <td>Madrid</td>\n",
       "      <td>NaN</td>\n",
       "      <td>3244.0</td>\n",
       "      <td>5.0</td>\n",
       "      <td>NaN</td>\n",
       "      <td>13.0</td>\n",
       "      <td>[[], []]</td>\n",
       "      <td>/Restaurant_Review-g187514-d10047799-Reviews-E...</td>\n",
       "      <td>d10047799</td>\n",
       "    </tr>\n",
       "  </tbody>\n",
       "</table>\n",
       "</div>"
      ],
      "text/plain": [
       "       Rest_ID    City Cuisine_Style  Ranking  Rating Price_Range  \\\n",
       "13980  id_3239  Madrid           NaN   3241.0     5.0         NaN   \n",
       "38946  id_3242  Madrid           NaN   3244.0     5.0         NaN   \n",
       "\n",
       "       Number_of_Reviews   Reviews  \\\n",
       "13980               13.0  [[], []]   \n",
       "38946               13.0  [[], []]   \n",
       "\n",
       "                                                  URL_TA      ID_TA  \n",
       "13980  /Restaurant_Review-g187514-d10047799-Reviews-E...  d10047799  \n",
       "38946  /Restaurant_Review-g187514-d10047799-Reviews-E...  d10047799  "
      ]
     },
     "execution_count": 195,
     "metadata": {},
     "output_type": "execute_result"
    }
   ],
   "source": [
    "data[data.ID_TA=='d10047799']"
   ]
  },
  {
   "cell_type": "markdown",
   "metadata": {},
   "source": [
    "По данному конкретному ID_TA видно, что данные по ресторану в основном идентичны, а в двух столбцах различаются несущественно. Предположительно, такая же картина будет по остальным 20 повторяющимся ID_TA. Сопоставим их по соответствующим столбцам и уберем дубликаты."
   ]
  },
  {
   "cell_type": "code",
   "execution_count": 196,
   "metadata": {
    "scrolled": true
   },
   "outputs": [],
   "source": [
    "data=data.drop_duplicates(subset=['ID_TA','URL_TA','Reviews'],ignore_index=True)"
   ]
  },
  {
   "cell_type": "markdown",
   "metadata": {},
   "source": [
    "Столбцы Restaurant_ID, URL_TA, ID_TA теперь можно отбросить, так как никакой важной дополнительной информации они более не несут"
   ]
  },
  {
   "cell_type": "code",
   "execution_count": 197,
   "metadata": {
    "scrolled": true
   },
   "outputs": [
    {
     "name": "stdout",
     "output_type": "stream",
     "text": [
      "<class 'pandas.core.frame.DataFrame'>\n",
      "RangeIndex: 39980 entries, 0 to 39979\n",
      "Data columns (total 7 columns):\n",
      " #   Column             Non-Null Count  Dtype  \n",
      "---  ------             --------------  -----  \n",
      " 0   City               39980 non-null  object \n",
      " 1   Cuisine_Style      30701 non-null  object \n",
      " 2   Ranking            39980 non-null  float64\n",
      " 3   Rating             39980 non-null  float64\n",
      " 4   Price_Range        26101 non-null  object \n",
      " 5   Number_of_Reviews  37437 non-null  float64\n",
      " 6   Reviews            39980 non-null  object \n",
      "dtypes: float64(3), object(4)\n",
      "memory usage: 2.1+ MB\n"
     ]
    }
   ],
   "source": [
    "data=data.drop(['Rest_ID','URL_TA', 'ID_TA'],axis=1)\n",
    "data.info()"
   ]
  },
  {
   "cell_type": "markdown",
   "metadata": {},
   "source": [
    "#### Cuisine_Style"
   ]
  },
  {
   "cell_type": "code",
   "execution_count": 198,
   "metadata": {
    "scrolled": true
   },
   "outputs": [
    {
     "data": {
      "text/plain": [
       "36584                                    ['Mediterranean']\n",
       "31725    ['French', 'Cafe', 'European', 'Vegetarian Fri...\n",
       "6621              ['Mediterranean', 'Spanish', 'European']\n",
       "4709                                            ['Indian']\n",
       "3546                                                   NaN\n",
       "18916                                                  NaN\n",
       "33418                                            ['Pizza']\n",
       "326                                                    NaN\n",
       "4172                          ['Delicatessen', 'Wine Bar']\n",
       "26277                                          ['Italian']\n",
       "Name: Cuisine_Style, dtype: object"
      ]
     },
     "execution_count": 198,
     "metadata": {},
     "output_type": "execute_result"
    }
   ],
   "source": [
    "data.Cuisine_Style.sample(10)"
   ]
  },
  {
   "cell_type": "code",
   "execution_count": 199,
   "metadata": {},
   "outputs": [
    {
     "data": {
      "text/plain": [
       "str"
      ]
     },
     "execution_count": 199,
     "metadata": {},
     "output_type": "execute_result"
    }
   ],
   "source": [
    "type(data.iloc[18283].Cuisine_Style)"
   ]
  },
  {
   "cell_type": "markdown",
   "metadata": {},
   "source": [
    "Элементы столбца Cuisine_Style хоть и выглядят как списки с текстовыми элементами, но являются одной сплошной строкой с символами ' \"\",[,] ' . Для удобства работы исправим это также имея ввиду,что в столбце есть значения NaN, которые мы пока заменить не можем. "
   ]
  },
  {
   "cell_type": "code",
   "execution_count": 200,
   "metadata": {},
   "outputs": [],
   "source": [
    "symbs=[\"[\",\"]\",\"'\",\" \"]"
   ]
  },
  {
   "cell_type": "code",
   "execution_count": 201,
   "metadata": {},
   "outputs": [],
   "source": [
    "for symb in symbs:\n",
    "    data.Cuisine_Style=data.Cuisine_Style.map(lambda x: x.replace(symb,'') if type(x)==str else x)"
   ]
  },
  {
   "cell_type": "code",
   "execution_count": 202,
   "metadata": {},
   "outputs": [],
   "source": [
    "data.Cuisine_Style=data.Cuisine_Style.map(lambda x: x.split(',') if type(x)!=float else x)"
   ]
  },
  {
   "cell_type": "markdown",
   "metadata": {},
   "source": [
    "Просчитаем частоту появления той или иной кухни в ресторанах мира. Далее, если в ресторане просутствуют блюда из нескольких кухонь, то в доп. столбце проставим сумму рангов, присвоенных кухням.  "
   ]
  },
  {
   "cell_type": "code",
   "execution_count": 203,
   "metadata": {},
   "outputs": [],
   "source": [
    "cuisines_count=defaultdict(int) #создаю словарь с начальным нулевым значением "
   ]
  },
  {
   "cell_type": "code",
   "execution_count": 204,
   "metadata": {},
   "outputs": [],
   "source": [
    "#вывожу все кухни от каждого ресторана в общий список и подсчитываю частоту их появления\n",
    "for cuisine in [cuisine for record in data.Cuisine_Style if type(record)==list\n",
    "                        for cuisine in record]:\n",
    "    cuisines_count[cuisine]+=1"
   ]
  },
  {
   "cell_type": "code",
   "execution_count": 205,
   "metadata": {
    "code_folding": [],
    "deletable": false,
    "editable": false
   },
   "outputs": [],
   "source": [
    "#функция по суммированию \"популярности\" кухонь, приготавливаемых в каждом отдельно взятом ресторане \n",
    "def popularity_calc (record):\n",
    "    pop_total=0\n",
    "    if str(record)=='nan': pop_total=np.nan\n",
    "    else: \n",
    "        for cuisine in record:\n",
    "            pop_total+=cuisines_count[cuisine]\n",
    "    return pop_total"
   ]
  },
  {
   "cell_type": "code",
   "execution_count": 206,
   "metadata": {
    "run_control": {
     "marked": true
    }
   },
   "outputs": [],
   "source": [
    "data['Cuisine_Popularity']=data.Cuisine_Style.map(popularity_calc)"
   ]
  },
  {
   "cell_type": "code",
   "execution_count": 207,
   "metadata": {},
   "outputs": [
    {
     "data": {
      "text/plain": [
       "0        14828.0\n",
       "1            NaN\n",
       "2        25894.0\n",
       "3            NaN\n",
       "4        13236.0\n",
       "          ...   \n",
       "39975    25738.0\n",
       "39976    29036.0\n",
       "39977     2619.0\n",
       "39978    23492.0\n",
       "39979     2788.0\n",
       "Name: Cuisine_Popularity, Length: 39980, dtype: float64"
      ]
     },
     "execution_count": 207,
     "metadata": {},
     "output_type": "execute_result"
    }
   ],
   "source": [
    "data['Cuisine_Popularity']"
   ]
  },
  {
   "cell_type": "code",
   "execution_count": 208,
   "metadata": {},
   "outputs": [
    {
     "data": {
      "text/plain": [
       "1        NaN\n",
       "3        NaN\n",
       "5        NaN\n",
       "8        NaN\n",
       "10       NaN\n",
       "        ... \n",
       "39961    NaN\n",
       "39963    NaN\n",
       "39966    NaN\n",
       "39968    NaN\n",
       "39973    NaN\n",
       "Name: Cuisine_Style, Length: 9279, dtype: object"
      ]
     },
     "execution_count": 208,
     "metadata": {},
     "output_type": "execute_result"
    }
   ],
   "source": [
    "data[data.Cuisine_Popularity.isna()].Cuisine_Style"
   ]
  },
  {
   "cell_type": "markdown",
   "metadata": {},
   "source": [
    "Слишком много пропусков: 9279 из 39973, т.е. больше 20%; замена на среднее по всему списку может сильно исказить картину. Будем заменять пропуски на медианное значение в рамках каждого отдельного города."
   ]
  },
  {
   "cell_type": "code",
   "execution_count": 209,
   "metadata": {},
   "outputs": [],
   "source": [
    "grouped_by_city=data.groupby(['City'])\n",
    "#создаю датафрейм с медианным значением \"популярности\" для каждого города\n",
    "#столбец 'City' мне нужен для следующего шага, поэтому применяю reset_index\n",
    "median=grouped_by_city.Cuisine_Popularity.quantile(0.5).reset_index()"
   ]
  },
  {
   "cell_type": "code",
   "execution_count": 210,
   "metadata": {
    "scrolled": true
   },
   "outputs": [
    {
     "data": {
      "text/html": [
       "<div>\n",
       "<style scoped>\n",
       "    .dataframe tbody tr th:only-of-type {\n",
       "        vertical-align: middle;\n",
       "    }\n",
       "\n",
       "    .dataframe tbody tr th {\n",
       "        vertical-align: top;\n",
       "    }\n",
       "\n",
       "    .dataframe thead th {\n",
       "        text-align: right;\n",
       "    }\n",
       "</style>\n",
       "<table border=\"1\" class=\"dataframe\">\n",
       "  <thead>\n",
       "    <tr style=\"text-align: right;\">\n",
       "      <th></th>\n",
       "      <th>City</th>\n",
       "      <th>Cuisine_Popularity</th>\n",
       "    </tr>\n",
       "  </thead>\n",
       "  <tbody>\n",
       "    <tr>\n",
       "      <th>0</th>\n",
       "      <td>Amsterdam</td>\n",
       "      <td>16313.0</td>\n",
       "    </tr>\n",
       "    <tr>\n",
       "      <th>1</th>\n",
       "      <td>Athens</td>\n",
       "      <td>7049.0</td>\n",
       "    </tr>\n",
       "    <tr>\n",
       "      <th>2</th>\n",
       "      <td>Barcelona</td>\n",
       "      <td>10333.0</td>\n",
       "    </tr>\n",
       "    <tr>\n",
       "      <th>3</th>\n",
       "      <td>Berlin</td>\n",
       "      <td>11163.0</td>\n",
       "    </tr>\n",
       "    <tr>\n",
       "      <th>4</th>\n",
       "      <td>Bratislava</td>\n",
       "      <td>10651.0</td>\n",
       "    </tr>\n",
       "    <tr>\n",
       "      <th>5</th>\n",
       "      <td>Brussels</td>\n",
       "      <td>12234.0</td>\n",
       "    </tr>\n",
       "    <tr>\n",
       "      <th>6</th>\n",
       "      <td>Budapest</td>\n",
       "      <td>13280.0</td>\n",
       "    </tr>\n",
       "    <tr>\n",
       "      <th>7</th>\n",
       "      <td>Copenhagen</td>\n",
       "      <td>12558.0</td>\n",
       "    </tr>\n",
       "    <tr>\n",
       "      <th>8</th>\n",
       "      <td>Dublin</td>\n",
       "      <td>15801.0</td>\n",
       "    </tr>\n",
       "    <tr>\n",
       "      <th>9</th>\n",
       "      <td>Edinburgh</td>\n",
       "      <td>16791.5</td>\n",
       "    </tr>\n",
       "    <tr>\n",
       "      <th>10</th>\n",
       "      <td>Geneva</td>\n",
       "      <td>14366.5</td>\n",
       "    </tr>\n",
       "    <tr>\n",
       "      <th>11</th>\n",
       "      <td>Hamburg</td>\n",
       "      <td>8956.0</td>\n",
       "    </tr>\n",
       "    <tr>\n",
       "      <th>12</th>\n",
       "      <td>Helsinki</td>\n",
       "      <td>11373.5</td>\n",
       "    </tr>\n",
       "    <tr>\n",
       "      <th>13</th>\n",
       "      <td>Krakow</td>\n",
       "      <td>15602.5</td>\n",
       "    </tr>\n",
       "    <tr>\n",
       "      <th>14</th>\n",
       "      <td>Lisbon</td>\n",
       "      <td>12489.0</td>\n",
       "    </tr>\n",
       "    <tr>\n",
       "      <th>15</th>\n",
       "      <td>Ljubljana</td>\n",
       "      <td>12770.0</td>\n",
       "    </tr>\n",
       "    <tr>\n",
       "      <th>16</th>\n",
       "      <td>London</td>\n",
       "      <td>11653.0</td>\n",
       "    </tr>\n",
       "    <tr>\n",
       "      <th>17</th>\n",
       "      <td>Luxembourg</td>\n",
       "      <td>13245.0</td>\n",
       "    </tr>\n",
       "    <tr>\n",
       "      <th>18</th>\n",
       "      <td>Lyon</td>\n",
       "      <td>3695.5</td>\n",
       "    </tr>\n",
       "    <tr>\n",
       "      <th>19</th>\n",
       "      <td>Madrid</td>\n",
       "      <td>6271.0</td>\n",
       "    </tr>\n",
       "    <tr>\n",
       "      <th>20</th>\n",
       "      <td>Milan</td>\n",
       "      <td>12169.5</td>\n",
       "    </tr>\n",
       "    <tr>\n",
       "      <th>21</th>\n",
       "      <td>Munich</td>\n",
       "      <td>12229.0</td>\n",
       "    </tr>\n",
       "    <tr>\n",
       "      <th>22</th>\n",
       "      <td>Oporto</td>\n",
       "      <td>13128.0</td>\n",
       "    </tr>\n",
       "    <tr>\n",
       "      <th>23</th>\n",
       "      <td>Oslo</td>\n",
       "      <td>11981.0</td>\n",
       "    </tr>\n",
       "    <tr>\n",
       "      <th>24</th>\n",
       "      <td>Paris</td>\n",
       "      <td>8803.0</td>\n",
       "    </tr>\n",
       "    <tr>\n",
       "      <th>25</th>\n",
       "      <td>Prague</td>\n",
       "      <td>10651.0</td>\n",
       "    </tr>\n",
       "    <tr>\n",
       "      <th>26</th>\n",
       "      <td>Rome</td>\n",
       "      <td>17146.0</td>\n",
       "    </tr>\n",
       "    <tr>\n",
       "      <th>27</th>\n",
       "      <td>Stockholm</td>\n",
       "      <td>11639.0</td>\n",
       "    </tr>\n",
       "    <tr>\n",
       "      <th>28</th>\n",
       "      <td>Vienna</td>\n",
       "      <td>12247.0</td>\n",
       "    </tr>\n",
       "    <tr>\n",
       "      <th>29</th>\n",
       "      <td>Warsaw</td>\n",
       "      <td>11733.0</td>\n",
       "    </tr>\n",
       "    <tr>\n",
       "      <th>30</th>\n",
       "      <td>Zurich</td>\n",
       "      <td>16346.0</td>\n",
       "    </tr>\n",
       "  </tbody>\n",
       "</table>\n",
       "</div>"
      ],
      "text/plain": [
       "          City  Cuisine_Popularity\n",
       "0    Amsterdam             16313.0\n",
       "1       Athens              7049.0\n",
       "2    Barcelona             10333.0\n",
       "3       Berlin             11163.0\n",
       "4   Bratislava             10651.0\n",
       "5     Brussels             12234.0\n",
       "6     Budapest             13280.0\n",
       "7   Copenhagen             12558.0\n",
       "8       Dublin             15801.0\n",
       "9    Edinburgh             16791.5\n",
       "10      Geneva             14366.5\n",
       "11     Hamburg              8956.0\n",
       "12    Helsinki             11373.5\n",
       "13      Krakow             15602.5\n",
       "14      Lisbon             12489.0\n",
       "15   Ljubljana             12770.0\n",
       "16      London             11653.0\n",
       "17  Luxembourg             13245.0\n",
       "18        Lyon              3695.5\n",
       "19      Madrid              6271.0\n",
       "20       Milan             12169.5\n",
       "21      Munich             12229.0\n",
       "22      Oporto             13128.0\n",
       "23        Oslo             11981.0\n",
       "24       Paris              8803.0\n",
       "25      Prague             10651.0\n",
       "26        Rome             17146.0\n",
       "27   Stockholm             11639.0\n",
       "28      Vienna             12247.0\n",
       "29      Warsaw             11733.0\n",
       "30      Zurich             16346.0"
      ]
     },
     "execution_count": 210,
     "metadata": {},
     "output_type": "execute_result"
    }
   ],
   "source": [
    "median"
   ]
  },
  {
   "cell_type": "code",
   "execution_count": 211,
   "metadata": {},
   "outputs": [],
   "source": [
    "#создаю клон датафрейма data.City и создаю привязку город - медианная \"популярность\"\n",
    "#при этом в клоне сохраняю индексацию родительского датасета \n",
    "data_clone=data[['City']].merge(median, how='left',on=\"City\")"
   ]
  },
  {
   "cell_type": "code",
   "execution_count": 212,
   "metadata": {},
   "outputs": [],
   "source": [
    "#заменяю NaN в родительском датасете используя маску, заполненную медианными \n",
    "#значениями. Благодаря одинаковым названиям столбцов в клоне и родительском датасете\n",
    "#и сохраненному индексу маска ложится правильно\n",
    "data.Cuisine_Popularity.fillna(data_clone.Cuisine_Popularity,inplace=True)"
   ]
  },
  {
   "cell_type": "code",
   "execution_count": 213,
   "metadata": {},
   "outputs": [],
   "source": [
    "#столбец Cuisine_Style можно отбросить\n",
    "data=data.drop(['Cuisine_Style'],axis=1)"
   ]
  },
  {
   "cell_type": "markdown",
   "metadata": {},
   "source": [
    "#### Price_Range"
   ]
  },
  {
   "cell_type": "code",
   "execution_count": 214,
   "metadata": {},
   "outputs": [
    {
     "data": {
      "text/plain": [
       "31040    $$ - $$$\n",
       "29393           $\n",
       "29388           $\n",
       "14930         NaN\n",
       "8555     $$ - $$$\n",
       "21884        $$$$\n",
       "21822         NaN\n",
       "15139    $$ - $$$\n",
       "37104         NaN\n",
       "18742    $$ - $$$\n",
       "Name: Price_Range, dtype: object"
      ]
     },
     "execution_count": 214,
     "metadata": {},
     "output_type": "execute_result"
    }
   ],
   "source": [
    "data.Price_Range.sample(10)"
   ]
  },
  {
   "cell_type": "code",
   "execution_count": 215,
   "metadata": {},
   "outputs": [
    {
     "data": {
      "text/plain": [
       "$$ - $$$    18402\n",
       "$            6276\n",
       "$$$$         1423\n",
       "Name: Price_Range, dtype: int64"
      ]
     },
     "execution_count": 215,
     "metadata": {},
     "output_type": "execute_result"
    }
   ],
   "source": [
    "data.Price_Range.value_counts()"
   ]
  },
  {
   "cell_type": "code",
   "execution_count": 216,
   "metadata": {},
   "outputs": [],
   "source": [
    "#в датасете представлены рестораны трех ценовых категорий \n",
    "#для удобства заменяю названия категорий\n",
    "data.Price_Range.replace({'$$ - $$$':'Med','$':'Low', '$$$$':'High'},inplace=True)"
   ]
  },
  {
   "cell_type": "code",
   "execution_count": 217,
   "metadata": {},
   "outputs": [
    {
     "data": {
      "text/plain": [
       "1        NaN\n",
       "3        NaN\n",
       "5        NaN\n",
       "7        NaN\n",
       "8        NaN\n",
       "        ... \n",
       "39968    NaN\n",
       "39969    NaN\n",
       "39970    NaN\n",
       "39973    NaN\n",
       "39977    NaN\n",
       "Name: Price_Range, Length: 13879, dtype: object"
      ]
     },
     "execution_count": 217,
     "metadata": {},
     "output_type": "execute_result"
    }
   ],
   "source": [
    "data[data.Price_Range.isna()].Price_Range"
   ]
  },
  {
   "cell_type": "markdown",
   "metadata": {},
   "source": [
    "Слишком много пропусков, заполнение каким-либо значением сильно исказит реальную картину. Но эти данные могут быть для получения dummy индикаторов  "
   ]
  },
  {
   "cell_type": "code",
   "execution_count": 218,
   "metadata": {},
   "outputs": [],
   "source": [
    "#вывожу dummy столбцы\n",
    "#данные с пропусками будут отмечены в отдельном столбце NaN\n",
    "dummies=pd.get_dummies(data.Price_Range,dummy_na=True)\n",
    "#добавляю dummy столбцы к материнскому датасету с правого края\n",
    "for i in range(len(dummies.columns)):\n",
    "    data.insert(7+i,dummies.columns[i],dummies[dummies.columns[i]])"
   ]
  },
  {
   "cell_type": "code",
   "execution_count": 219,
   "metadata": {},
   "outputs": [],
   "source": [
    "#столбец Price Range более не нужен, удаляю\n",
    "data.drop('Price_Range',inplace=True,axis=1);"
   ]
  },
  {
   "cell_type": "markdown",
   "metadata": {},
   "source": [
    "#### Reviews"
   ]
  },
  {
   "cell_type": "code",
   "execution_count": 220,
   "metadata": {},
   "outputs": [
    {
     "data": {
      "text/plain": [
       "30547    [['Great food, but bring a dictionary'], ['03/...\n",
       "29301    [['Wow! What an experience!', 'Find your happi...\n",
       "36854                                             [[], []]\n",
       "34294    [['Nice food and wine but expensive', 'Great f...\n",
       "17348    [['Excellent acoustics and view', 'Club Ziggo'...\n",
       "33634                                             [[], []]\n",
       "16016    [['Eat there only if you absolutely will only....\n",
       "16448    [['Takeaway Menu', 'Takeaway'], ['06/06/2017',...\n",
       "27950    [['Excellent place to dine @ Courtyard Marrio....\n",
       "1118     [['Nice place good food', 'Nice and cozy'], ['...\n",
       "Name: Reviews, dtype: object"
      ]
     },
     "execution_count": 220,
     "metadata": {},
     "output_type": "execute_result"
    }
   ],
   "source": [
    "data.Reviews.sample(10)"
   ]
  },
  {
   "cell_type": "code",
   "execution_count": 221,
   "metadata": {
    "scrolled": true
   },
   "outputs": [
    {
     "data": {
      "text/plain": [
       "\"[['Good', 'Best croissants in Lisbon'], ['05/30/2017', '08/16/2015']]\""
      ]
     },
     "execution_count": 221,
     "metadata": {},
     "output_type": "execute_result"
    }
   ],
   "source": [
    "data.Reviews[8911]"
   ]
  },
  {
   "cell_type": "code",
   "execution_count": 222,
   "metadata": {},
   "outputs": [
    {
     "data": {
      "text/plain": [
       "\"[['Good food, good price.'], ['09/18/2016']]\""
      ]
     },
     "execution_count": 222,
     "metadata": {},
     "output_type": "execute_result"
    }
   ],
   "source": [
    "data.Reviews[2626]"
   ]
  },
  {
   "cell_type": "code",
   "execution_count": 223,
   "metadata": {},
   "outputs": [
    {
     "data": {
      "text/plain": [
       "'[[], []]'"
      ]
     },
     "execution_count": 223,
     "metadata": {},
     "output_type": "execute_result"
    }
   ],
   "source": [
    "data.Reviews[11785]"
   ]
  },
  {
   "cell_type": "markdown",
   "metadata": {},
   "source": [
    "формат данных в столбце Reviews текстовый и выглядит как [[....], [...]], где вместо .... и ... либо пустота, либо текст отзыва и дата (1 или 2), соответственно"
   ]
  },
  {
   "cell_type": "code",
   "execution_count": 224,
   "metadata": {
    "deletable": false,
    "editable": false
   },
   "outputs": [],
   "source": [
    "#функция удаления лишних символов\n",
    "def remove_symb(record,symbs): #symbs - внешняя переменная, содержит перечень символов на удаление \n",
    "    for symb in symbs:\n",
    "        if type(record)==str:\n",
    "            record=record.replace(symb,\"\")\n",
    "        else: continue\n",
    "    return record"
   ]
  },
  {
   "cell_type": "code",
   "execution_count": 225,
   "metadata": {
    "deletable": false,
    "editable": false
   },
   "outputs": [],
   "source": [
    "#функция для разбивки записей в столбце Reviews. \n",
    "#На выходе получаем данные для 3 столбцов: текста отзыва, первой даты и второй, если таковая есть\n",
    "def rev_split (record):\n",
    "    \n",
    "    global symbs\n",
    "    temp=record.split('], [')\n",
    "    if temp==['[[', ']]']:\n",
    "        Rev_txt='NA'\n",
    "    else: Rev_txt=remove_symb(temp[0],[symb for symb in symbs])\n",
    "        \n",
    "    if ',' in temp[1]:\n",
    "        F_rev_date=remove_symb(temp[1],[symb for symb in symbs]).split(',')[0]\n",
    "        S_rev_date=remove_symb(temp[1],[symb for symb in symbs]).split(',')[1]\n",
    "    else: \n",
    "        F_rev_date=remove_symb(temp[1],[symb for symb in symbs])\n",
    "        S_rev_date=0\n",
    "    \n",
    "    return Rev_txt, F_rev_date, S_rev_date"
   ]
  },
  {
   "cell_type": "code",
   "execution_count": 226,
   "metadata": {},
   "outputs": [],
   "source": [
    "#создаю временный датасет с тремя столбцами \n",
    "temp_db=data.Reviews.map(rev_split)"
   ]
  },
  {
   "cell_type": "code",
   "execution_count": 227,
   "metadata": {},
   "outputs": [],
   "source": [
    "#добавляю полученные столбцы в материнский датасет\n",
    "Rev_txt=[]\n",
    "F_rev_date=[]\n",
    "S_rev_date=[]\n",
    "\n",
    "for record in temp_db:\n",
    "    Rev_txt.append(record[0])\n",
    "    F_rev_date.append(record[1])\n",
    "    S_rev_date.append(record[2])\n",
    "    \n",
    "data['Rev_txt']=Rev_txt\n",
    "data['F_rev_date']=F_rev_date\n",
    "data['S_rev_date']=S_rev_date"
   ]
  },
  {
   "cell_type": "code",
   "execution_count": 228,
   "metadata": {
    "run_control": {
     "marked": true
    },
    "scrolled": true
   },
   "outputs": [],
   "source": [
    "#выставляю формат даты в полученных столбцах\n",
    "data[['F_rev_date','S_rev_date']]=data[['F_rev_date','S_rev_date']].applymap(lambda x: pd.to_datetime(x))"
   ]
  },
  {
   "cell_type": "code",
   "execution_count": 229,
   "metadata": {},
   "outputs": [
    {
     "data": {
      "image/png": "[encoded data removed]",
      "text/plain": [
       "<Figure size 432x288 with 1 Axes>"
      ]
     },
     "metadata": {
      "needs_background": "light"
     },
     "output_type": "display_data"
    }
   ],
   "source": [
    "data.F_rev_date.hist();"
   ]
  },
  {
   "cell_type": "code",
   "execution_count": 230,
   "metadata": {},
   "outputs": [
    {
     "data": {
      "image/png": "[encoded data removed]",
      "text/plain": [
       "<Figure size 432x288 with 1 Axes>"
      ]
     },
     "metadata": {
      "needs_background": "light"
     },
     "output_type": "display_data"
    }
   ],
   "source": [
    "data.S_rev_date.hist();"
   ]
  },
  {
   "cell_type": "code",
   "execution_count": 231,
   "metadata": {},
   "outputs": [
    {
     "data": {
      "text/plain": [
       "Series([], Name: Reviews, dtype: object)"
      ]
     },
     "execution_count": 231,
     "metadata": {},
     "output_type": "execute_result"
    }
   ],
   "source": [
    "data[data.Number_of_Reviews==0].Reviews"
   ]
  },
  {
   "cell_type": "markdown",
   "metadata": {},
   "source": [
    "из графиков видно, что основной объем отзывов приходится на даты от 2018-2019 годов. При этом есть много ресторанов, по которым текст и даты отзывов отсутствуют, но в Number_of_Reviews есть информация, что отзывы должны быть. Следовательно, это пропуск в данных, который нужно заполнить"
   ]
  },
  {
   "cell_type": "code",
   "execution_count": 232,
   "metadata": {
    "deletable": false,
    "editable": false
   },
   "outputs": [],
   "source": [
    "#функция по выбору даты наиболее свежего отзыва\n",
    "def Recent_date(data):\n",
    "    F_dates=[x for x in data.F_rev_date]\n",
    "    S_dates=[y for y in data.S_rev_date]\n",
    "    Recent_date= max(F_dates,S_dates) \n",
    "   \n",
    "    return pd.Series(Recent_date)"
   ]
  },
  {
   "cell_type": "code",
   "execution_count": 233,
   "metadata": {},
   "outputs": [],
   "source": [
    "#определяю разницу в днях между датой отзыва и фиксированной датой (год основания TripAdvisor)\n",
    "temp=Recent_date(data)- np.array(pd.to_datetime('2000-01-01'))"
   ]
  },
  {
   "cell_type": "code",
   "execution_count": 234,
   "metadata": {},
   "outputs": [],
   "source": [
    "#и добавляю в материнский датасет\n",
    "data['Most_recent_rev_date']=temp.dt.days"
   ]
  },
  {
   "cell_type": "code",
   "execution_count": 235,
   "metadata": {},
   "outputs": [
    {
     "data": {
      "text/plain": [
       "3       NaN\n",
       "8       NaN\n",
       "10      NaN\n",
       "14      NaN\n",
       "21      NaN\n",
       "         ..\n",
       "39961   NaN\n",
       "39966   NaN\n",
       "39968   NaN\n",
       "39971   NaN\n",
       "39974   NaN\n",
       "Name: Most_recent_rev_date, Length: 6465, dtype: float64"
      ]
     },
     "execution_count": 235,
     "metadata": {},
     "output_type": "execute_result"
    }
   ],
   "source": [
    "data[data.Most_recent_rev_date.isna()].Most_recent_rev_date"
   ]
  },
  {
   "cell_type": "code",
   "execution_count": 236,
   "metadata": {},
   "outputs": [],
   "source": [
    "#как было выявлено выше,у всех ресторанов датасета число отзывов >0, поэтому\n",
    "#заполняю NaN медианным значением по столбцу\n",
    "data['Most_recent_rev_date'].fillna(np.round(data.Most_recent_rev_date.mean()),inplace=True)"
   ]
  },
  {
   "cell_type": "code",
   "execution_count": 237,
   "metadata": {
    "code_folding": []
   },
   "outputs": [],
   "source": [
    "#отбрасываю не нужные столбцы\n",
    "data.drop(['Reviews','Rev_txt','F_rev_date','S_rev_date'],inplace=True, axis=1);"
   ]
  },
  {
   "cell_type": "markdown",
   "metadata": {},
   "source": [
    "#### Number_of_Reviews"
   ]
  },
  {
   "cell_type": "code",
   "execution_count": 238,
   "metadata": {
    "scrolled": true
   },
   "outputs": [
    {
     "data": {
      "text/plain": [
       "count    37437.000000\n",
       "mean       124.830195\n",
       "std        295.728711\n",
       "min          2.000000\n",
       "25%          9.000000\n",
       "50%         33.000000\n",
       "75%        115.000000\n",
       "max       9660.000000\n",
       "Name: Number_of_Reviews, dtype: float64"
      ]
     },
     "execution_count": 238,
     "metadata": {},
     "output_type": "execute_result"
    }
   ],
   "source": [
    "data.Number_of_Reviews.describe()"
   ]
  },
  {
   "cell_type": "markdown",
   "metadata": {},
   "source": [
    "в данных есть выбросы, избавимся от них "
   ]
  },
  {
   "cell_type": "code",
   "execution_count": 239,
   "metadata": {
    "deletable": false,
    "editable": false
   },
   "outputs": [],
   "source": [
    "#функция по удалению выбросов\n",
    "\n",
    "\n",
    "def outliers(column):\n",
    "    #определяю границы межквартильного диапазона\n",
    "    Q1 = column.quantile(0.25)\n",
    "    Q3 = column.quantile(0.75)\n",
    "    IQR = Q3 - Q1\n",
    "    l_boundary = Q1 - 1.5 * IQR\n",
    "    h_boundary = Q3 + 1.5 * IQR\n",
    "\n",
    "    #расчитываю число и долю выбросов и вывожу сообщение\n",
    "    outliers = column[~column.between(l_boundary, h_boundary)]\n",
    "    n_outl = outliers.count()\n",
    "    p_outl = np.round(n_outl * 100 / len(data), 2)\n",
    "    print('Minor boundries are ({},{})\\n There are {} or {} outlying values'\\\n",
    "          .format(l_boundary,h_boundary,n_outl,p_outl))\n",
    "\n",
    "    inp = input('Clear outliers?\\n Input Y (for yes) or N (for no): ')\n",
    "\n",
    "    #удаляю выбросы, если пользователь подтвердил это действие\n",
    "    if inp == 'Y':\n",
    "        if (type(l_boundary) == int) | (type(l_boundary) == np.float64):\n",
    "            column = column[column.between(l_boundary, h_boundary)]\n",
    "        else:\n",
    "            column = column[column.between(str(l_boundary), str(h_boundary))]\n",
    "    else:\n",
    "        column = column\n",
    "    #возвращаю столбец без выбросов\n",
    "    return column"
   ]
  },
  {
   "cell_type": "code",
   "execution_count": 240,
   "metadata": {
    "scrolled": false
   },
   "outputs": [
    {
     "name": "stdout",
     "output_type": "stream",
     "text": [
      "Minor boundries are (-150.0,274.0)\n",
      " There are 4345 or 10.87 outlying values\n",
      "Clear outliers?\n",
      " Input Y (for yes) or N (for no): Y\n"
     ]
    }
   ],
   "source": [
    "data.Number_of_Reviews=outliers(data.Number_of_Reviews)"
   ]
  },
  {
   "cell_type": "code",
   "execution_count": 241,
   "metadata": {
    "scrolled": true
   },
   "outputs": [
    {
     "data": {
      "text/plain": [
       "2       NaN\n",
       "8       NaN\n",
       "12      NaN\n",
       "21      NaN\n",
       "23      NaN\n",
       "         ..\n",
       "39966   NaN\n",
       "39968   NaN\n",
       "39969   NaN\n",
       "39972   NaN\n",
       "39976   NaN\n",
       "Name: Number_of_Reviews, Length: 6888, dtype: float64"
      ]
     },
     "execution_count": 241,
     "metadata": {},
     "output_type": "execute_result"
    }
   ],
   "source": [
    "data.Number_of_Reviews[data.Number_of_Reviews.isna()]"
   ]
  },
  {
   "cell_type": "markdown",
   "metadata": {},
   "source": [
    "пропусков слишком много и замена на медианное значение всего столбца сильно исказит картину. Заменим их медианным значением для каждого отдельно взятого города"
   ]
  },
  {
   "cell_type": "code",
   "execution_count": 242,
   "metadata": {},
   "outputs": [],
   "source": [
    "grouped_by_city=data.groupby(['City']).Number_of_Reviews"
   ]
  },
  {
   "cell_type": "code",
   "execution_count": 243,
   "metadata": {
    "scrolled": true
   },
   "outputs": [],
   "source": [
    "median=grouped_by_city.median().reset_index()"
   ]
  },
  {
   "cell_type": "code",
   "execution_count": 244,
   "metadata": {},
   "outputs": [],
   "source": [
    "data_clone=data[['City']].merge(median, how='left',on=\"City\")"
   ]
  },
  {
   "cell_type": "code",
   "execution_count": 245,
   "metadata": {},
   "outputs": [
    {
     "data": {
      "text/html": [
       "<div>\n",
       "<style scoped>\n",
       "    .dataframe tbody tr th:only-of-type {\n",
       "        vertical-align: middle;\n",
       "    }\n",
       "\n",
       "    .dataframe tbody tr th {\n",
       "        vertical-align: top;\n",
       "    }\n",
       "\n",
       "    .dataframe thead th {\n",
       "        text-align: right;\n",
       "    }\n",
       "</style>\n",
       "<table border=\"1\" class=\"dataframe\">\n",
       "  <thead>\n",
       "    <tr style=\"text-align: right;\">\n",
       "      <th></th>\n",
       "      <th>City</th>\n",
       "      <th>Number_of_Reviews</th>\n",
       "    </tr>\n",
       "  </thead>\n",
       "  <tbody>\n",
       "    <tr>\n",
       "      <th>0</th>\n",
       "      <td>Paris</td>\n",
       "      <td>36.0</td>\n",
       "    </tr>\n",
       "    <tr>\n",
       "      <th>1</th>\n",
       "      <td>Stockholm</td>\n",
       "      <td>16.0</td>\n",
       "    </tr>\n",
       "    <tr>\n",
       "      <th>2</th>\n",
       "      <td>London</td>\n",
       "      <td>27.0</td>\n",
       "    </tr>\n",
       "    <tr>\n",
       "      <th>3</th>\n",
       "      <td>Berlin</td>\n",
       "      <td>15.0</td>\n",
       "    </tr>\n",
       "    <tr>\n",
       "      <th>4</th>\n",
       "      <td>Munich</td>\n",
       "      <td>27.0</td>\n",
       "    </tr>\n",
       "    <tr>\n",
       "      <th>...</th>\n",
       "      <td>...</td>\n",
       "      <td>...</td>\n",
       "    </tr>\n",
       "    <tr>\n",
       "      <th>39975</th>\n",
       "      <td>Milan</td>\n",
       "      <td>30.0</td>\n",
       "    </tr>\n",
       "    <tr>\n",
       "      <th>39976</th>\n",
       "      <td>Paris</td>\n",
       "      <td>36.0</td>\n",
       "    </tr>\n",
       "    <tr>\n",
       "      <th>39977</th>\n",
       "      <td>Stockholm</td>\n",
       "      <td>16.0</td>\n",
       "    </tr>\n",
       "    <tr>\n",
       "      <th>39978</th>\n",
       "      <td>Warsaw</td>\n",
       "      <td>15.0</td>\n",
       "    </tr>\n",
       "    <tr>\n",
       "      <th>39979</th>\n",
       "      <td>Milan</td>\n",
       "      <td>30.0</td>\n",
       "    </tr>\n",
       "  </tbody>\n",
       "</table>\n",
       "<p>39980 rows × 2 columns</p>\n",
       "</div>"
      ],
      "text/plain": [
       "            City  Number_of_Reviews\n",
       "0          Paris               36.0\n",
       "1      Stockholm               16.0\n",
       "2         London               27.0\n",
       "3         Berlin               15.0\n",
       "4         Munich               27.0\n",
       "...          ...                ...\n",
       "39975      Milan               30.0\n",
       "39976      Paris               36.0\n",
       "39977  Stockholm               16.0\n",
       "39978     Warsaw               15.0\n",
       "39979      Milan               30.0\n",
       "\n",
       "[39980 rows x 2 columns]"
      ]
     },
     "execution_count": 245,
     "metadata": {},
     "output_type": "execute_result"
    }
   ],
   "source": [
    "data_clone"
   ]
  },
  {
   "cell_type": "code",
   "execution_count": 246,
   "metadata": {},
   "outputs": [],
   "source": [
    "data.Number_of_Reviews.fillna(data_clone.Number_of_Reviews,inplace=True)"
   ]
  },
  {
   "cell_type": "markdown",
   "metadata": {},
   "source": [
    "добавим в материнский датасет столбец, каждая запись которого будет соответствовать суммарному количеству отзывов по каждому отдельно взятому городу"
   ]
  },
  {
   "cell_type": "code",
   "execution_count": 247,
   "metadata": {
    "run_control": {
     "marked": false
    }
   },
   "outputs": [],
   "source": [
    "total=grouped_by_city.sum().reset_index()"
   ]
  },
  {
   "cell_type": "code",
   "execution_count": 248,
   "metadata": {},
   "outputs": [],
   "source": [
    "data_clone=data[['City']].merge(total, how='left',on=\"City\")"
   ]
  },
  {
   "cell_type": "code",
   "execution_count": 249,
   "metadata": {},
   "outputs": [],
   "source": [
    "data['Total_rev_by_city']=data_clone.Number_of_Reviews"
   ]
  },
  {
   "cell_type": "code",
   "execution_count": 250,
   "metadata": {},
   "outputs": [
    {
     "data": {
      "text/html": [
       "<div>\n",
       "<style scoped>\n",
       "    .dataframe tbody tr th:only-of-type {\n",
       "        vertical-align: middle;\n",
       "    }\n",
       "\n",
       "    .dataframe tbody tr th {\n",
       "        vertical-align: top;\n",
       "    }\n",
       "\n",
       "    .dataframe thead th {\n",
       "        text-align: right;\n",
       "    }\n",
       "</style>\n",
       "<table border=\"1\" class=\"dataframe\">\n",
       "  <thead>\n",
       "    <tr style=\"text-align: right;\">\n",
       "      <th></th>\n",
       "      <th>City</th>\n",
       "      <th>Ranking</th>\n",
       "      <th>Rating</th>\n",
       "      <th>Number_of_Reviews</th>\n",
       "      <th>Cuisine_Popularity</th>\n",
       "      <th>High</th>\n",
       "      <th>Low</th>\n",
       "      <th>Med</th>\n",
       "      <th>NaN</th>\n",
       "      <th>Most_recent_rev_date</th>\n",
       "      <th>Total_rev_by_city</th>\n",
       "    </tr>\n",
       "  </thead>\n",
       "  <tbody>\n",
       "    <tr>\n",
       "      <th>17919</th>\n",
       "      <td>Paris</td>\n",
       "      <td>4166.0</td>\n",
       "      <td>4.5</td>\n",
       "      <td>27.0</td>\n",
       "      <td>513.0</td>\n",
       "      <td>0</td>\n",
       "      <td>0</td>\n",
       "      <td>1</td>\n",
       "      <td>0</td>\n",
       "      <td>6470.0</td>\n",
       "      <td>279091.0</td>\n",
       "    </tr>\n",
       "    <tr>\n",
       "      <th>12248</th>\n",
       "      <td>Athens</td>\n",
       "      <td>773.0</td>\n",
       "      <td>4.5</td>\n",
       "      <td>22.0</td>\n",
       "      <td>6875.0</td>\n",
       "      <td>1</td>\n",
       "      <td>0</td>\n",
       "      <td>0</td>\n",
       "      <td>0</td>\n",
       "      <td>6188.0</td>\n",
       "      <td>23516.0</td>\n",
       "    </tr>\n",
       "    <tr>\n",
       "      <th>19761</th>\n",
       "      <td>Berlin</td>\n",
       "      <td>2631.0</td>\n",
       "      <td>4.0</td>\n",
       "      <td>16.0</td>\n",
       "      <td>11163.0</td>\n",
       "      <td>0</td>\n",
       "      <td>0</td>\n",
       "      <td>0</td>\n",
       "      <td>1</td>\n",
       "      <td>6390.0</td>\n",
       "      <td>69412.0</td>\n",
       "    </tr>\n",
       "    <tr>\n",
       "      <th>16614</th>\n",
       "      <td>Lisbon</td>\n",
       "      <td>2314.0</td>\n",
       "      <td>4.5</td>\n",
       "      <td>16.0</td>\n",
       "      <td>11163.0</td>\n",
       "      <td>0</td>\n",
       "      <td>0</td>\n",
       "      <td>1</td>\n",
       "      <td>0</td>\n",
       "      <td>5776.0</td>\n",
       "      <td>59500.0</td>\n",
       "    </tr>\n",
       "    <tr>\n",
       "      <th>29258</th>\n",
       "      <td>Copenhagen</td>\n",
       "      <td>1492.0</td>\n",
       "      <td>4.0</td>\n",
       "      <td>5.0</td>\n",
       "      <td>12558.0</td>\n",
       "      <td>0</td>\n",
       "      <td>0</td>\n",
       "      <td>0</td>\n",
       "      <td>1</td>\n",
       "      <td>6079.0</td>\n",
       "      <td>34904.5</td>\n",
       "    </tr>\n",
       "  </tbody>\n",
       "</table>\n",
       "</div>"
      ],
      "text/plain": [
       "             City  Ranking  Rating  Number_of_Reviews  Cuisine_Popularity  \\\n",
       "17919       Paris   4166.0     4.5               27.0               513.0   \n",
       "12248      Athens    773.0     4.5               22.0              6875.0   \n",
       "19761      Berlin   2631.0     4.0               16.0             11163.0   \n",
       "16614      Lisbon   2314.0     4.5               16.0             11163.0   \n",
       "29258  Copenhagen   1492.0     4.0                5.0             12558.0   \n",
       "\n",
       "       High  Low  Med  NaN  Most_recent_rev_date  Total_rev_by_city  \n",
       "17919     0    0    1    0                6470.0           279091.0  \n",
       "12248     1    0    0    0                6188.0            23516.0  \n",
       "19761     0    0    0    1                6390.0            69412.0  \n",
       "16614     0    0    1    0                5776.0            59500.0  \n",
       "29258     0    0    0    1                6079.0            34904.5  "
      ]
     },
     "execution_count": 250,
     "metadata": {},
     "output_type": "execute_result"
    }
   ],
   "source": [
    "data.sample(5)"
   ]
  },
  {
   "cell_type": "markdown",
   "metadata": {},
   "source": [
    "#### City"
   ]
  },
  {
   "cell_type": "markdown",
   "metadata": {},
   "source": [
    "выведем географическую принадлежность ресторанов"
   ]
  },
  {
   "cell_type": "code",
   "execution_count": 251,
   "metadata": {
    "scrolled": true
   },
   "outputs": [],
   "source": [
    "City_count=data.City.value_counts()"
   ]
  },
  {
   "cell_type": "code",
   "execution_count": 252,
   "metadata": {
    "scrolled": true
   },
   "outputs": [
    {
     "data": {
      "image/png": "[encoded data removed]",
      "text/plain": [
       "<Figure size 432x288 with 1 Axes>"
      ]
     },
     "metadata": {
      "needs_background": "light"
     },
     "output_type": "display_data"
    }
   ],
   "source": [
    "City_count.plot.bar();"
   ]
  },
  {
   "cell_type": "code",
   "execution_count": 253,
   "metadata": {
    "scrolled": true
   },
   "outputs": [
    {
     "data": {
      "text/plain": [
       "count      39980\n",
       "unique        31\n",
       "top       London\n",
       "freq        5757\n",
       "Name: City, dtype: object"
      ]
     },
     "execution_count": 253,
     "metadata": {},
     "output_type": "execute_result"
    }
   ],
   "source": [
    "data.City.describe()"
   ]
  },
  {
   "cell_type": "markdown",
   "metadata": {},
   "source": [
    "В датасете присутствуют данные о ресторанах из 31 города. При этом число ресторанов по городам распределено неравномерно. Используем частоту появления ресторана в конкретном городе в качестве \"ранга\" города и занесем столбец с соответствующей информацией в материнский датасет."
   ]
  },
  {
   "cell_type": "code",
   "execution_count": 254,
   "metadata": {
    "scrolled": true
   },
   "outputs": [],
   "source": [
    "City_count=City_count.reset_index()"
   ]
  },
  {
   "cell_type": "code",
   "execution_count": 255,
   "metadata": {
    "scrolled": true
   },
   "outputs": [],
   "source": [
    "City_count.columns=['City','Frequency']"
   ]
  },
  {
   "cell_type": "code",
   "execution_count": 256,
   "metadata": {},
   "outputs": [],
   "source": [
    "data=data.merge(City_count, how='left', on='City')"
   ]
  },
  {
   "cell_type": "code",
   "execution_count": 267,
   "metadata": {},
   "outputs": [],
   "source": [
    "#Столбец 'City' можно отбросить\n",
    "data.drop(['City'],inplace=True,axis=1)"
   ]
  },
  {
   "cell_type": "markdown",
   "metadata": {},
   "source": [
    "#### Ranking"
   ]
  },
  {
   "cell_type": "code",
   "execution_count": 268,
   "metadata": {},
   "outputs": [
    {
     "data": {
      "text/plain": [
       "count    39980.000000\n",
       "mean      3676.497249\n",
       "std       3709.500590\n",
       "min          1.000000\n",
       "25%        973.000000\n",
       "50%       2284.000000\n",
       "75%       5261.000000\n",
       "max      16444.000000\n",
       "Name: Ranking, dtype: float64"
      ]
     },
     "execution_count": 268,
     "metadata": {},
     "output_type": "execute_result"
    }
   ],
   "source": [
    "data.Ranking.describe()"
   ]
  },
  {
   "cell_type": "code",
   "execution_count": 269,
   "metadata": {
    "scrolled": true
   },
   "outputs": [
    {
     "data": {
      "image/png": "[encoded data removed]",
      "text/plain": [
       "<Figure size 432x288 with 1 Axes>"
      ]
     },
     "metadata": {
      "needs_background": "light"
     },
     "output_type": "display_data"
    }
   ],
   "source": [
    "data.Ranking.hist();"
   ]
  },
  {
   "cell_type": "markdown",
   "metadata": {},
   "source": [
    "#### Rating"
   ]
  },
  {
   "cell_type": "code",
   "execution_count": 270,
   "metadata": {},
   "outputs": [
    {
     "data": {
      "text/plain": [
       "count    39980.000000\n",
       "mean         3.992909\n",
       "std          0.668471\n",
       "min          1.000000\n",
       "25%          3.500000\n",
       "50%          4.000000\n",
       "75%          4.500000\n",
       "max          5.000000\n",
       "Name: Rating, dtype: float64"
      ]
     },
     "execution_count": 270,
     "metadata": {},
     "output_type": "execute_result"
    }
   ],
   "source": [
    "data.Rating.describe()"
   ]
  },
  {
   "cell_type": "code",
   "execution_count": 272,
   "metadata": {},
   "outputs": [
    {
     "data": {
      "image/png": "[encoded data removed]",
      "text/plain": [
       "<Figure size 432x288 with 1 Axes>"
      ]
     },
     "metadata": {
      "needs_background": "light"
     },
     "output_type": "display_data"
    }
   ],
   "source": [
    "data.Rating.hist();"
   ]
  },
  {
   "cell_type": "code",
   "execution_count": 273,
   "metadata": {},
   "outputs": [
    {
     "data": {
      "text/plain": [
       "array([3.5, 4. , 4.5, 5. , 3. , 2.5, 2. , 1. , 1.5])"
      ]
     },
     "execution_count": 273,
     "metadata": {},
     "output_type": "execute_result"
    }
   ],
   "source": [
    "data.Rating.unique()"
   ]
  },
  {
   "cell_type": "markdown",
   "metadata": {},
   "source": [
    "### Анализ"
   ]
  },
  {
   "cell_type": "code",
   "execution_count": 280,
   "metadata": {},
   "outputs": [
    {
     "data": {
      "text/html": [
       "<div>\n",
       "<style scoped>\n",
       "    .dataframe tbody tr th:only-of-type {\n",
       "        vertical-align: middle;\n",
       "    }\n",
       "\n",
       "    .dataframe tbody tr th {\n",
       "        vertical-align: top;\n",
       "    }\n",
       "\n",
       "    .dataframe thead th {\n",
       "        text-align: right;\n",
       "    }\n",
       "</style>\n",
       "<table border=\"1\" class=\"dataframe\">\n",
       "  <thead>\n",
       "    <tr style=\"text-align: right;\">\n",
       "      <th></th>\n",
       "      <th>Ranking</th>\n",
       "      <th>Rating</th>\n",
       "      <th>Number_of_Reviews</th>\n",
       "      <th>Cuisine_Popularity</th>\n",
       "      <th>High</th>\n",
       "      <th>Low</th>\n",
       "      <th>Med</th>\n",
       "      <th>NaN</th>\n",
       "      <th>Most_recent_rev_date</th>\n",
       "      <th>Total_rev_by_city</th>\n",
       "      <th>Frequency</th>\n",
       "    </tr>\n",
       "  </thead>\n",
       "  <tbody>\n",
       "    <tr>\n",
       "      <th>Ranking</th>\n",
       "      <td>1.000000</td>\n",
       "      <td>-0.368370</td>\n",
       "      <td>-0.186533</td>\n",
       "      <td>-0.350863</td>\n",
       "      <td>-0.088439</td>\n",
       "      <td>-0.014309</td>\n",
       "      <td>-0.179279</td>\n",
       "      <td>0.233051</td>\n",
       "      <td>-0.183870</td>\n",
       "      <td>0.695632</td>\n",
       "      <td>0.709207</td>\n",
       "    </tr>\n",
       "    <tr>\n",
       "      <th>Rating</th>\n",
       "      <td>-0.368370</td>\n",
       "      <td>1.000000</td>\n",
       "      <td>-0.025958</td>\n",
       "      <td>0.127215</td>\n",
       "      <td>0.060910</td>\n",
       "      <td>0.064184</td>\n",
       "      <td>-0.007658</td>\n",
       "      <td>-0.064733</td>\n",
       "      <td>0.091564</td>\n",
       "      <td>-0.051459</td>\n",
       "      <td>-0.061217</td>\n",
       "    </tr>\n",
       "    <tr>\n",
       "      <th>Number_of_Reviews</th>\n",
       "      <td>-0.186533</td>\n",
       "      <td>-0.025958</td>\n",
       "      <td>1.000000</td>\n",
       "      <td>0.351696</td>\n",
       "      <td>0.068032</td>\n",
       "      <td>0.006955</td>\n",
       "      <td>0.374759</td>\n",
       "      <td>-0.424150</td>\n",
       "      <td>0.218963</td>\n",
       "      <td>0.089213</td>\n",
       "      <td>0.063773</td>\n",
       "    </tr>\n",
       "    <tr>\n",
       "      <th>Cuisine_Popularity</th>\n",
       "      <td>-0.350863</td>\n",
       "      <td>0.127215</td>\n",
       "      <td>0.351696</td>\n",
       "      <td>1.000000</td>\n",
       "      <td>0.125557</td>\n",
       "      <td>-0.075546</td>\n",
       "      <td>0.309564</td>\n",
       "      <td>-0.315238</td>\n",
       "      <td>0.294373</td>\n",
       "      <td>-0.051157</td>\n",
       "      <td>-0.071357</td>\n",
       "    </tr>\n",
       "    <tr>\n",
       "      <th>High</th>\n",
       "      <td>-0.088439</td>\n",
       "      <td>0.060910</td>\n",
       "      <td>0.068032</td>\n",
       "      <td>0.125557</td>\n",
       "      <td>1.000000</td>\n",
       "      <td>-0.082899</td>\n",
       "      <td>-0.177410</td>\n",
       "      <td>-0.140088</td>\n",
       "      <td>0.055214</td>\n",
       "      <td>0.019691</td>\n",
       "      <td>0.015263</td>\n",
       "    </tr>\n",
       "    <tr>\n",
       "      <th>Low</th>\n",
       "      <td>-0.014309</td>\n",
       "      <td>0.064184</td>\n",
       "      <td>0.006955</td>\n",
       "      <td>-0.075546</td>\n",
       "      <td>-0.082899</td>\n",
       "      <td>1.000000</td>\n",
       "      <td>-0.398499</td>\n",
       "      <td>-0.314667</td>\n",
       "      <td>0.042773</td>\n",
       "      <td>0.006829</td>\n",
       "      <td>0.000634</td>\n",
       "    </tr>\n",
       "    <tr>\n",
       "      <th>Med</th>\n",
       "      <td>-0.179279</td>\n",
       "      <td>-0.007658</td>\n",
       "      <td>0.374759</td>\n",
       "      <td>0.309564</td>\n",
       "      <td>-0.177410</td>\n",
       "      <td>-0.398499</td>\n",
       "      <td>1.000000</td>\n",
       "      <td>-0.673407</td>\n",
       "      <td>0.221909</td>\n",
       "      <td>0.047386</td>\n",
       "      <td>0.035995</td>\n",
       "    </tr>\n",
       "    <tr>\n",
       "      <th>NaN</th>\n",
       "      <td>0.233051</td>\n",
       "      <td>-0.064733</td>\n",
       "      <td>-0.424150</td>\n",
       "      <td>-0.315238</td>\n",
       "      <td>-0.140088</td>\n",
       "      <td>-0.314667</td>\n",
       "      <td>-0.673407</td>\n",
       "      <td>1.000000</td>\n",
       "      <td>-0.286503</td>\n",
       "      <td>-0.062492</td>\n",
       "      <td>-0.044110</td>\n",
       "    </tr>\n",
       "    <tr>\n",
       "      <th>Most_recent_rev_date</th>\n",
       "      <td>-0.183870</td>\n",
       "      <td>0.091564</td>\n",
       "      <td>0.218963</td>\n",
       "      <td>0.294373</td>\n",
       "      <td>0.055214</td>\n",
       "      <td>0.042773</td>\n",
       "      <td>0.221909</td>\n",
       "      <td>-0.286503</td>\n",
       "      <td>1.000000</td>\n",
       "      <td>0.027750</td>\n",
       "      <td>0.025221</td>\n",
       "    </tr>\n",
       "    <tr>\n",
       "      <th>Total_rev_by_city</th>\n",
       "      <td>0.695632</td>\n",
       "      <td>-0.051459</td>\n",
       "      <td>0.089213</td>\n",
       "      <td>-0.051157</td>\n",
       "      <td>0.019691</td>\n",
       "      <td>0.006829</td>\n",
       "      <td>0.047386</td>\n",
       "      <td>-0.062492</td>\n",
       "      <td>0.027750</td>\n",
       "      <td>1.000000</td>\n",
       "      <td>0.982479</td>\n",
       "    </tr>\n",
       "    <tr>\n",
       "      <th>Frequency</th>\n",
       "      <td>0.709207</td>\n",
       "      <td>-0.061217</td>\n",
       "      <td>0.063773</td>\n",
       "      <td>-0.071357</td>\n",
       "      <td>0.015263</td>\n",
       "      <td>0.000634</td>\n",
       "      <td>0.035995</td>\n",
       "      <td>-0.044110</td>\n",
       "      <td>0.025221</td>\n",
       "      <td>0.982479</td>\n",
       "      <td>1.000000</td>\n",
       "    </tr>\n",
       "  </tbody>\n",
       "</table>\n",
       "</div>"
      ],
      "text/plain": [
       "                       Ranking    Rating  Number_of_Reviews  \\\n",
       "Ranking               1.000000 -0.368370          -0.186533   \n",
       "Rating               -0.368370  1.000000          -0.025958   \n",
       "Number_of_Reviews    -0.186533 -0.025958           1.000000   \n",
       "Cuisine_Popularity   -0.350863  0.127215           0.351696   \n",
       "High                 -0.088439  0.060910           0.068032   \n",
       "Low                  -0.014309  0.064184           0.006955   \n",
       "Med                  -0.179279 -0.007658           0.374759   \n",
       "NaN                   0.233051 -0.064733          -0.424150   \n",
       "Most_recent_rev_date -0.183870  0.091564           0.218963   \n",
       "Total_rev_by_city     0.695632 -0.051459           0.089213   \n",
       "Frequency             0.709207 -0.061217           0.063773   \n",
       "\n",
       "                      Cuisine_Popularity      High       Low       Med  \\\n",
       "Ranking                        -0.350863 -0.088439 -0.014309 -0.179279   \n",
       "Rating                          0.127215  0.060910  0.064184 -0.007658   \n",
       "Number_of_Reviews               0.351696  0.068032  0.006955  0.374759   \n",
       "Cuisine_Popularity              1.000000  0.125557 -0.075546  0.309564   \n",
       "High                            0.125557  1.000000 -0.082899 -0.177410   \n",
       "Low                            -0.075546 -0.082899  1.000000 -0.398499   \n",
       "Med                             0.309564 -0.177410 -0.398499  1.000000   \n",
       "NaN                            -0.315238 -0.140088 -0.314667 -0.673407   \n",
       "Most_recent_rev_date            0.294373  0.055214  0.042773  0.221909   \n",
       "Total_rev_by_city              -0.051157  0.019691  0.006829  0.047386   \n",
       "Frequency                      -0.071357  0.015263  0.000634  0.035995   \n",
       "\n",
       "                           NaN  Most_recent_rev_date  Total_rev_by_city  \\\n",
       "Ranking               0.233051             -0.183870           0.695632   \n",
       "Rating               -0.064733              0.091564          -0.051459   \n",
       "Number_of_Reviews    -0.424150              0.218963           0.089213   \n",
       "Cuisine_Popularity   -0.315238              0.294373          -0.051157   \n",
       "High                 -0.140088              0.055214           0.019691   \n",
       "Low                  -0.314667              0.042773           0.006829   \n",
       "Med                  -0.673407              0.221909           0.047386   \n",
       "NaN                   1.000000             -0.286503          -0.062492   \n",
       "Most_recent_rev_date -0.286503              1.000000           0.027750   \n",
       "Total_rev_by_city    -0.062492              0.027750           1.000000   \n",
       "Frequency            -0.044110              0.025221           0.982479   \n",
       "\n",
       "                      Frequency  \n",
       "Ranking                0.709207  \n",
       "Rating                -0.061217  \n",
       "Number_of_Reviews      0.063773  \n",
       "Cuisine_Popularity    -0.071357  \n",
       "High                   0.015263  \n",
       "Low                    0.000634  \n",
       "Med                    0.035995  \n",
       "NaN                   -0.044110  \n",
       "Most_recent_rev_date   0.025221  \n",
       "Total_rev_by_city      0.982479  \n",
       "Frequency              1.000000  "
      ]
     },
     "execution_count": 280,
     "metadata": {},
     "output_type": "execute_result"
    }
   ],
   "source": [
    "corelation=data.corr()\n",
    "corelation"
   ]
  },
  {
   "cell_type": "code",
   "execution_count": 278,
   "metadata": {},
   "outputs": [
    {
     "data": {
      "image/png": "[encoded data removed]",
      "text/plain": [
       "<Figure size 432x288 with 2 Axes>"
      ]
     },
     "metadata": {
      "needs_background": "light"
     },
     "output_type": "display_data"
    }
   ],
   "source": [
    "sns.heatmap(corelation);"
   ]
  },
  {
   "cell_type": "markdown",
   "metadata": {},
   "source": [
    "наблюдается рямая взаимосвязь между общей суммой отзывов по городу и числу ресторанов по городам. При этом кореляция Frequency с Ranking чуть выше, поэтому уберем столбец Total_rev_by_city. Других рямых кореляций нет."
   ]
  },
  {
   "cell_type": "code",
   "execution_count": 281,
   "metadata": {},
   "outputs": [],
   "source": [
    "data.drop(['Total_rev_by_city'],inplace=True,axis=1)"
   ]
  },
  {
   "cell_type": "markdown",
   "metadata": {},
   "source": [
    "### КОМЕНТЫ ДЛЯ СЕБЯ "
   ]
  },
  {
   "cell_type": "markdown",
   "metadata": {},
   "source": [
    "URL_TA - доп важной информации не несет (содержит код города g...., ID  в Tripadvisor d....., название ресторана, название города --- город у нас уже есть в столбце City, ID в TripAdvisor идет в столбце ID_TA, название ресторана в плане анализа, вероятно, не сильно важен )"
   ]
  },
  {
   "cell_type": "code",
   "execution_count": null,
   "metadata": {},
   "outputs": [],
   "source": [
    "# в случае, если все же разбивку кухонь сделаю по рангам \n",
    "cuisines_count.Count.value_counts(bins=4)"
   ]
  },
  {
   "cell_type": "code",
   "execution_count": null,
   "metadata": {},
   "outputs": [],
   "source": [
    "#Rev_txt что-нибудь придумать по поводу использования наиболее часто встречающихся слов"
   ]
  },
  {
   "cell_type": "code",
   "execution_count": null,
   "metadata": {},
   "outputs": [],
   "source": [
    "data.Rev_txt[0].replace(',','').lower().split(' ')"
   ]
  },
  {
   "cell_type": "code",
   "execution_count": null,
   "metadata": {},
   "outputs": [],
   "source": [
    "#Ranking можно попробовать очистить от выбросов "
   ]
  },
  {
   "cell_type": "code",
   "execution_count": null,
   "metadata": {},
   "outputs": [],
   "source": [
    "#по столбцу Review может стоит посчитать по каждому ресторану число отзывов 0, 1, или 2\n",
    "#проанализировать по какому принципу у реста бывает 1 или 2 отзыва , \n",
    "#может это зависит от возраста реста и тогда это может , теоретически влиять на рейтинг"
   ]
  },
  {
   "cell_type": "code",
   "execution_count": null,
   "metadata": {
    "scrolled": true
   },
   "outputs": [],
   "source": [
    "data.Most_recent_rev_date.hist();"
   ]
  },
  {
   "cell_type": "code",
   "execution_count": null,
   "metadata": {},
   "outputs": [],
   "source": []
  },
  {
   "cell_type": "code",
   "execution_count": null,
   "metadata": {},
   "outputs": [],
   "source": []
  },
  {
   "cell_type": "code",
   "execution_count": null,
   "metadata": {},
   "outputs": [],
   "source": []
  },
  {
   "cell_type": "code",
   "execution_count": null,
   "metadata": {},
   "outputs": [],
   "source": []
  },
  {
   "cell_type": "markdown",
   "metadata": {},
   "source": [
    "### MACHINE LEARNING"
   ]
  },
  {
   "cell_type": "code",
   "execution_count": null,
   "metadata": {},
   "outputs": [],
   "source": [
    "data.columns"
   ]
  },
  {
   "cell_type": "code",
   "execution_count": null,
   "metadata": {
    "scrolled": true
   },
   "outputs": [],
   "source": [
    "data.info()"
   ]
  },
  {
   "cell_type": "code",
   "execution_count": null,
   "metadata": {},
   "outputs": [],
   "source": [
    "# Разбиваем датафрейм на части, необходимые для обучения и тестирования модели  \n",
    "# Х - данные с информацией о ресторанах, у - целевая переменная (рейтинги ресторанов)  \n",
    "X = data.drop(['City', 'Cuisine_Style','Rev_txt','Rating'], axis = 1)  \n",
    "y = data['Rating']  \n",
    "  \n",
    "# Загружаем специальный инструмент для разбивки:  \n",
    "from sklearn.model_selection import train_test_split  \n",
    "  \n",
    "# Наборы данных с меткой \"train\" будут использоваться для обучения модели, \"test\" - для тестирования.  \n",
    "# Для тестирования мы будем использовать 25% от исходного датасета.  \n",
    "X_train, X_test, y_train, y_test = train_test_split(X, y, test_size=0.25, random_state=RANDOM_SEED) "
   ]
  },
  {
   "cell_type": "code",
   "execution_count": null,
   "metadata": {},
   "outputs": [],
   "source": [
    "X_train.shape, X_test.shape"
   ]
  },
  {
   "cell_type": "code",
   "execution_count": null,
   "metadata": {},
   "outputs": [],
   "source": [
    "# Импортируем необходимые библиотеки:  \n",
    "from sklearn.ensemble import RandomForestRegressor # инструмент для создания и обучения модели  \n",
    "from sklearn import metrics # инструменты для оценки точности модели  \n",
    "  \n",
    "# Создаём модель  \n",
    "regr = RandomForestRegressor(n_estimators=100, verbose=1, n_jobs=-1, random_state=RANDOM_SEED)  \n",
    "  \n",
    "# Обучаем модель на тестовом наборе данных  \n",
    "regr.fit(X_train, y_train)  \n",
    "  \n",
    "# Используем обученную модель для предсказания рейтинга ресторанов в тестовой выборке.  \n",
    "# Предсказанные значения записываем в переменную y_pred  \n",
    "y_pred = regr.predict(X_test)  "
   ]
  },
  {
   "cell_type": "code",
   "execution_count": null,
   "metadata": {},
   "outputs": [],
   "source": [
    "# Сравниваем предсказанные значения (y_pred) с реальными (y_test), и смотрим насколько они в среднем отличаются  \n",
    "# Метрика называется Mean Absolute Error (MAE) и показывает среднее отклонение предсказанных значений от фактических.  \n",
    "print('MAE:', metrics.mean_absolute_error(y_test, y_pred))  "
   ]
  },
  {
   "cell_type": "code",
   "execution_count": null,
   "metadata": {},
   "outputs": [],
   "source": []
  },
  {
   "cell_type": "code",
   "execution_count": null,
   "metadata": {},
   "outputs": [],
   "source": []
  },
  {
   "cell_type": "markdown",
   "metadata": {},
   "source": [
    "### Черновик"
   ]
  },
  {
   "cell_type": "code",
   "execution_count": null,
   "metadata": {},
   "outputs": [],
   "source": []
  },
  {
   "cell_type": "markdown",
   "metadata": {},
   "source": [
    "### INTRO AND DESCRIPTION"
   ]
  },
  {
   "cell_type": "markdown",
   "metadata": {},
   "source": [
    "This training notebook* is an attempt to solve the problem of the unfair ranking of restaurants in Trip Advisor. \n",
    "\n",
    "The task is the following. Based on the dataset provided, build a model which will evaluate and predict the real rating of the restaurant. In case of significant difference between the predicted rating and the current rating we may conclude that the current rating of the restaurant is most probably wrong.\n",
    "\n",
    "Description of dataset: \n",
    "\n",
    "- **Restaurant_id**: identification number of the restaurant;\n",
    "- **City**: the city of restaurant allocation;\n",
    "- **Cuisine Style**: the cuisine(s) the restaurant offers;\n",
    "- **Ranking**: position of the restaurant within in-city ranking;\n",
    "- **Rating**: rating of the restaurant according to Trip Advisor data (this is the indicator the model should predict);\n",
    "- **Price Range**: price range in the restaurant;\n",
    "- **Number of Reviews**: number of reviews on the restaurant;\n",
    "- **Reviews**: info on 2 reviews placed on the restaurant web-page;\n",
    "- **URL_TA**: URL of the restaurant web-page on Trip Advisor;\n",
    "- **ID_TA**: the restaurant id in Trip Advisor database\n",
    "\n",
    "Modeling process is divided into logical steps, therefore for better user experience, please, *use TOC*\n",
    "\n",
    "\\* - *Python v3 code is written in Jupyter Notebook*  \n",
    "\\** - *restaurant is for restaurant / chain of restaurants* \n",
    "  "
   ]
  },
  {
   "cell_type": "markdown",
   "metadata": {},
   "source": [
    "### LIBRARIES AND TOOLS"
   ]
  },
  {
   "cell_type": "code",
   "execution_count": 184,
   "metadata": {},
   "outputs": [],
   "source": [
    "import pandas as pd\n",
    "import numpy as np\n",
    "import math\n",
    "import datetime\n",
    "\n",
    "from collections import Counter, defaultdict\n",
    "\n",
    "import seaborn as sns\n",
    "import matplotlib.pyplot as plt\n",
    "\n",
    "import warnings\n",
    "warnings.simplefilter(\"ignore\")"
   ]
  },
  {
   "cell_type": "code",
   "execution_count": 185,
   "metadata": {},
   "outputs": [],
   "source": [
    "RANDOM_SEED = 42"
   ]
  },
  {
   "cell_type": "code",
   "execution_count": 186,
   "metadata": {},
   "outputs": [],
   "source": [
    "!pip freeze > requirements.txt"
   ]
  },
  {
   "cell_type": "markdown",
   "metadata": {},
   "source": [
    "### DATA PREVIEW AND CLEANING"
   ]
  },
  {
   "cell_type": "code",
   "execution_count": 187,
   "metadata": {},
   "outputs": [],
   "source": [
    "data=pd.read_csv('main_task.csv')"
   ]
  },
  {
   "cell_type": "code",
   "execution_count": 188,
   "metadata": {
    "scrolled": false
   },
   "outputs": [
    {
     "data": {
      "text/html": [
       "<div>\n",
       "<style scoped>\n",
       "    .dataframe tbody tr th:only-of-type {\n",
       "        vertical-align: middle;\n",
       "    }\n",
       "\n",
       "    .dataframe tbody tr th {\n",
       "        vertical-align: top;\n",
       "    }\n",
       "\n",
       "    .dataframe thead th {\n",
       "        text-align: right;\n",
       "    }\n",
       "</style>\n",
       "<table border=\"1\" class=\"dataframe\">\n",
       "  <thead>\n",
       "    <tr style=\"text-align: right;\">\n",
       "      <th></th>\n",
       "      <th>Restaurant_id</th>\n",
       "      <th>City</th>\n",
       "      <th>Cuisine Style</th>\n",
       "      <th>Ranking</th>\n",
       "      <th>Rating</th>\n",
       "      <th>Price Range</th>\n",
       "      <th>Number of Reviews</th>\n",
       "      <th>Reviews</th>\n",
       "      <th>URL_TA</th>\n",
       "      <th>ID_TA</th>\n",
       "    </tr>\n",
       "  </thead>\n",
       "  <tbody>\n",
       "    <tr>\n",
       "      <th>9643</th>\n",
       "      <td>id_908</td>\n",
       "      <td>Paris</td>\n",
       "      <td>['Asian', 'Thai', 'Vietnamese', 'Vegetarian Fr...</td>\n",
       "      <td>909.0</td>\n",
       "      <td>4.5</td>\n",
       "      <td>$$ - $$$</td>\n",
       "      <td>224.0</td>\n",
       "      <td>[['Very good asian food', 'Excellent Place and...</td>\n",
       "      <td>/Restaurant_Review-g187147-d7171607-Reviews-Th...</td>\n",
       "      <td>d7171607</td>\n",
       "    </tr>\n",
       "    <tr>\n",
       "      <th>8272</th>\n",
       "      <td>id_3422</td>\n",
       "      <td>Barcelona</td>\n",
       "      <td>NaN</td>\n",
       "      <td>3423.0</td>\n",
       "      <td>5.0</td>\n",
       "      <td>NaN</td>\n",
       "      <td>8.0</td>\n",
       "      <td>[['A great place to be', 'Just what we were lo...</td>\n",
       "      <td>/Restaurant_Review-g187497-d8462225-Reviews-Bi...</td>\n",
       "      <td>d8462225</td>\n",
       "    </tr>\n",
       "    <tr>\n",
       "      <th>6025</th>\n",
       "      <td>id_3176</td>\n",
       "      <td>Barcelona</td>\n",
       "      <td>['Latin', 'Argentinean']</td>\n",
       "      <td>3177.0</td>\n",
       "      <td>4.0</td>\n",
       "      <td>$</td>\n",
       "      <td>136.0</td>\n",
       "      <td>[['Empanadas buenas', 'Nice find'], ['08/14/20...</td>\n",
       "      <td>/Restaurant_Review-g187497-d3649232-Reviews-La...</td>\n",
       "      <td>d3649232</td>\n",
       "    </tr>\n",
       "    <tr>\n",
       "      <th>37796</th>\n",
       "      <td>id_196</td>\n",
       "      <td>Prague</td>\n",
       "      <td>['Bar', 'European', 'Pub', 'Czech', 'Eastern E...</td>\n",
       "      <td>197.0</td>\n",
       "      <td>4.5</td>\n",
       "      <td>$$ - $$$</td>\n",
       "      <td>572.0</td>\n",
       "      <td>[['Great Food', 'A must in Prague!'], ['01/06/...</td>\n",
       "      <td>/Restaurant_Review-g274707-d1569917-Reviews-U_...</td>\n",
       "      <td>d1569917</td>\n",
       "    </tr>\n",
       "    <tr>\n",
       "      <th>19591</th>\n",
       "      <td>id_995</td>\n",
       "      <td>Paris</td>\n",
       "      <td>['French', 'American', 'Fast Food', 'Vegetaria...</td>\n",
       "      <td>996.0</td>\n",
       "      <td>5.0</td>\n",
       "      <td>$$ - $$$</td>\n",
       "      <td>46.0</td>\n",
       "      <td>[['Delightful !', 'Best burgers'], ['12/16/201...</td>\n",
       "      <td>/Restaurant_Review-g187147-d12503729-Reviews-B...</td>\n",
       "      <td>d12503729</td>\n",
       "    </tr>\n",
       "    <tr>\n",
       "      <th>2617</th>\n",
       "      <td>id_1773</td>\n",
       "      <td>Copenhagen</td>\n",
       "      <td>NaN</td>\n",
       "      <td>1796.0</td>\n",
       "      <td>3.0</td>\n",
       "      <td>NaN</td>\n",
       "      <td>NaN</td>\n",
       "      <td>[['It is what it is.'], ['12/29/2017']]</td>\n",
       "      <td>/Restaurant_Review-g806262-d13008535-Reviews-J...</td>\n",
       "      <td>d13008535</td>\n",
       "    </tr>\n",
       "    <tr>\n",
       "      <th>9338</th>\n",
       "      <td>id_966</td>\n",
       "      <td>Rome</td>\n",
       "      <td>['Italian', 'Pizza', 'Vegetarian Friendly', 'V...</td>\n",
       "      <td>967.0</td>\n",
       "      <td>4.0</td>\n",
       "      <td>$</td>\n",
       "      <td>1171.0</td>\n",
       "      <td>[['Good but not great pizza... popular destin....</td>\n",
       "      <td>/Restaurant_Review-g187791-d1231075-Reviews-Al...</td>\n",
       "      <td>d1231075</td>\n",
       "    </tr>\n",
       "    <tr>\n",
       "      <th>9085</th>\n",
       "      <td>id_6133</td>\n",
       "      <td>Paris</td>\n",
       "      <td>['Healthy']</td>\n",
       "      <td>6134.0</td>\n",
       "      <td>4.0</td>\n",
       "      <td>$$ - $$$</td>\n",
       "      <td>55.0</td>\n",
       "      <td>[['Great value for price', 'good and resonable...</td>\n",
       "      <td>/Restaurant_Review-g187147-d3571359-Reviews-Ca...</td>\n",
       "      <td>d3571359</td>\n",
       "    </tr>\n",
       "    <tr>\n",
       "      <th>32236</th>\n",
       "      <td>id_1468</td>\n",
       "      <td>Brussels</td>\n",
       "      <td>['Lebanese', 'Mediterranean']</td>\n",
       "      <td>1469.0</td>\n",
       "      <td>4.5</td>\n",
       "      <td>NaN</td>\n",
       "      <td>4.0</td>\n",
       "      <td>[['A nice place!', 'Great food, but high price...</td>\n",
       "      <td>/Restaurant_Review-g188644-d13220914-Reviews-B...</td>\n",
       "      <td>d13220914</td>\n",
       "    </tr>\n",
       "    <tr>\n",
       "      <th>6214</th>\n",
       "      <td>id_2336</td>\n",
       "      <td>Lyon</td>\n",
       "      <td>NaN</td>\n",
       "      <td>2337.0</td>\n",
       "      <td>3.0</td>\n",
       "      <td>NaN</td>\n",
       "      <td>12.0</td>\n",
       "      <td>[[\"Just below Burger King's standards !\", 'Lun...</td>\n",
       "      <td>/Restaurant_Review-g187265-d11929254-Reviews-B...</td>\n",
       "      <td>d11929254</td>\n",
       "    </tr>\n",
       "  </tbody>\n",
       "</table>\n",
       "</div>"
      ],
      "text/plain": [
       "      Restaurant_id        City  \\\n",
       "9643         id_908       Paris   \n",
       "8272        id_3422   Barcelona   \n",
       "6025        id_3176   Barcelona   \n",
       "37796        id_196      Prague   \n",
       "19591        id_995       Paris   \n",
       "2617        id_1773  Copenhagen   \n",
       "9338         id_966        Rome   \n",
       "9085        id_6133       Paris   \n",
       "32236       id_1468    Brussels   \n",
       "6214        id_2336        Lyon   \n",
       "\n",
       "                                           Cuisine Style  Ranking  Rating  \\\n",
       "9643   ['Asian', 'Thai', 'Vietnamese', 'Vegetarian Fr...    909.0     4.5   \n",
       "8272                                                 NaN   3423.0     5.0   \n",
       "6025                            ['Latin', 'Argentinean']   3177.0     4.0   \n",
       "37796  ['Bar', 'European', 'Pub', 'Czech', 'Eastern E...    197.0     4.5   \n",
       "19591  ['French', 'American', 'Fast Food', 'Vegetaria...    996.0     5.0   \n",
       "2617                                                 NaN   1796.0     3.0   \n",
       "9338   ['Italian', 'Pizza', 'Vegetarian Friendly', 'V...    967.0     4.0   \n",
       "9085                                         ['Healthy']   6134.0     4.0   \n",
       "32236                      ['Lebanese', 'Mediterranean']   1469.0     4.5   \n",
       "6214                                                 NaN   2337.0     3.0   \n",
       "\n",
       "      Price Range  Number of Reviews  \\\n",
       "9643     $$ - $$$              224.0   \n",
       "8272          NaN                8.0   \n",
       "6025            $              136.0   \n",
       "37796    $$ - $$$              572.0   \n",
       "19591    $$ - $$$               46.0   \n",
       "2617          NaN                NaN   \n",
       "9338            $             1171.0   \n",
       "9085     $$ - $$$               55.0   \n",
       "32236         NaN                4.0   \n",
       "6214          NaN               12.0   \n",
       "\n",
       "                                                 Reviews  \\\n",
       "9643   [['Very good asian food', 'Excellent Place and...   \n",
       "8272   [['A great place to be', 'Just what we were lo...   \n",
       "6025   [['Empanadas buenas', 'Nice find'], ['08/14/20...   \n",
       "37796  [['Great Food', 'A must in Prague!'], ['01/06/...   \n",
       "19591  [['Delightful !', 'Best burgers'], ['12/16/201...   \n",
       "2617             [['It is what it is.'], ['12/29/2017']]   \n",
       "9338   [['Good but not great pizza... popular destin....   \n",
       "9085   [['Great value for price', 'good and resonable...   \n",
       "32236  [['A nice place!', 'Great food, but high price...   \n",
       "6214   [[\"Just below Burger King's standards !\", 'Lun...   \n",
       "\n",
       "                                                  URL_TA      ID_TA  \n",
       "9643   /Restaurant_Review-g187147-d7171607-Reviews-Th...   d7171607  \n",
       "8272   /Restaurant_Review-g187497-d8462225-Reviews-Bi...   d8462225  \n",
       "6025   /Restaurant_Review-g187497-d3649232-Reviews-La...   d3649232  \n",
       "37796  /Restaurant_Review-g274707-d1569917-Reviews-U_...   d1569917  \n",
       "19591  /Restaurant_Review-g187147-d12503729-Reviews-B...  d12503729  \n",
       "2617   /Restaurant_Review-g806262-d13008535-Reviews-J...  d13008535  \n",
       "9338   /Restaurant_Review-g187791-d1231075-Reviews-Al...   d1231075  \n",
       "9085   /Restaurant_Review-g187147-d3571359-Reviews-Ca...   d3571359  \n",
       "32236  /Restaurant_Review-g188644-d13220914-Reviews-B...  d13220914  \n",
       "6214   /Restaurant_Review-g187265-d11929254-Reviews-B...  d11929254  "
      ]
     },
     "execution_count": 188,
     "metadata": {},
     "output_type": "execute_result"
    }
   ],
   "source": [
    "data.sample(10)"
   ]
  },
  {
   "cell_type": "code",
   "execution_count": 189,
   "metadata": {},
   "outputs": [],
   "source": [
    "data.columns=['Rest_ID', 'City', 'Cuisine_Style', 'Ranking', 'Rating',\n",
    "       'Price_Range', 'Number_of_Reviews', 'Reviews', 'URL_TA', 'ID_TA']"
   ]
  },
  {
   "cell_type": "code",
   "execution_count": 190,
   "metadata": {
    "scrolled": false
   },
   "outputs": [
    {
     "name": "stdout",
     "output_type": "stream",
     "text": [
      "<class 'pandas.core.frame.DataFrame'>\n",
      "RangeIndex: 40000 entries, 0 to 39999\n",
      "Data columns (total 10 columns):\n",
      " #   Column             Non-Null Count  Dtype  \n",
      "---  ------             --------------  -----  \n",
      " 0   Rest_ID            40000 non-null  object \n",
      " 1   City               40000 non-null  object \n",
      " 2   Cuisine_Style      30717 non-null  object \n",
      " 3   Ranking            40000 non-null  float64\n",
      " 4   Rating             40000 non-null  float64\n",
      " 5   Price_Range        26114 non-null  object \n",
      " 6   Number_of_Reviews  37457 non-null  float64\n",
      " 7   Reviews            40000 non-null  object \n",
      " 8   URL_TA             40000 non-null  object \n",
      " 9   ID_TA              40000 non-null  object \n",
      "dtypes: float64(3), object(7)\n",
      "memory usage: 3.1+ MB\n"
     ]
    }
   ],
   "source": [
    "data.info()"
   ]
  },
  {
   "cell_type": "markdown",
   "metadata": {},
   "source": [
    "есть пропуски в данных Cuisine_Style, Price_range, Number_of_Reviews"
   ]
  },
  {
   "cell_type": "markdown",
   "metadata": {},
   "source": [
    "#### Restaurant_ID"
   ]
  },
  {
   "cell_type": "code",
   "execution_count": 191,
   "metadata": {},
   "outputs": [
    {
     "data": {
      "text/plain": [
       "11909"
      ]
     },
     "execution_count": 191,
     "metadata": {},
     "output_type": "execute_result"
    }
   ],
   "source": [
    "data.Rest_ID.nunique()"
   ]
  },
  {
   "cell_type": "markdown",
   "metadata": {},
   "source": [
    "т.е из 40 000 записей Restaurant_id около 28 000 повторяющиеся. Возможно, ID ресторана уникально в рамках своего или имеется огромное количество дублирующей информации. Проверим "
   ]
  },
  {
   "cell_type": "code",
   "execution_count": 192,
   "metadata": {},
   "outputs": [
    {
     "data": {
      "text/plain": [
       "City\n",
       "Amsterdam     1086\n",
       "Athens         628\n",
       "Barcelona     2734\n",
       "Berlin        2155\n",
       "Bratislava     301\n",
       "Brussels      1060\n",
       "Budapest       816\n",
       "Copenhagen     659\n",
       "Dublin         673\n",
       "Edinburgh      596\n",
       "Geneva         481\n",
       "Hamburg        949\n",
       "Helsinki       376\n",
       "Krakow         443\n",
       "Lisbon        1300\n",
       "Ljubljana      183\n",
       "London        5757\n",
       "Luxembourg     210\n",
       "Lyon           892\n",
       "Madrid        3108\n",
       "Milan         2133\n",
       "Munich         893\n",
       "Oporto         513\n",
       "Oslo           385\n",
       "Paris         4897\n",
       "Prague        1443\n",
       "Rome          2078\n",
       "Stockholm      820\n",
       "Vienna        1166\n",
       "Warsaw         727\n",
       "Zurich         538\n",
       "Name: Rest_ID, dtype: int64"
      ]
     },
     "metadata": {},
     "output_type": "display_data"
    },
    {
     "data": {
      "text/plain": [
       "40000"
      ]
     },
     "metadata": {},
     "output_type": "display_data"
    }
   ],
   "source": [
    "gr_b_city=data.groupby('City').Rest_ID.nunique()\n",
    "display (gr_b_city, gr_b_city.sum())"
   ]
  },
  {
   "cell_type": "markdown",
   "metadata": {},
   "source": [
    "Разбитые по городам ID уникальны и в сумме дают 40 000 записей, что подтверждает первую догадку: ID уникальны в рамках одного города. \n",
    "Однако этот столбец смысловой нагрузки не несет, поэтому в модель его включать не будем"
   ]
  },
  {
   "cell_type": "markdown",
   "metadata": {},
   "source": [
    "#### ID_TA"
   ]
  },
  {
   "cell_type": "code",
   "execution_count": 193,
   "metadata": {},
   "outputs": [
    {
     "data": {
      "text/plain": [
       "39980"
      ]
     },
     "execution_count": 193,
     "metadata": {},
     "output_type": "execute_result"
    }
   ],
   "source": [
    "data.ID_TA.nunique()"
   ]
  },
  {
   "cell_type": "markdown",
   "metadata": {},
   "source": [
    "т.е. есть 20 строк с повторяющимися ID_TA"
   ]
  },
  {
   "cell_type": "code",
   "execution_count": 194,
   "metadata": {},
   "outputs": [
    {
     "data": {
      "text/plain": [
       "Index(['d10047799', 'd11674463', 'd11698990', 'd11921719', 'd11999956',\n",
       "       'd13002276', 'd1315077', 'd2477531', 'd3161682', 'd3685055', 'd4600226',\n",
       "       'd697406', 'd7337366', 'd7342803', 'd7809594', 'd793170', 'd8753348',\n",
       "       'd9802625', 'd9877640', 'd987900'],\n",
       "      dtype='object', name='ID_TA')"
      ]
     },
     "execution_count": 194,
     "metadata": {},
     "output_type": "execute_result"
    }
   ],
   "source": [
    "id_ta_check=data.groupby('ID_TA').City.count()\n",
    "chklist=id_ta_check.index[id_ta_check>1]\n",
    "chklist"
   ]
  },
  {
   "cell_type": "code",
   "execution_count": 195,
   "metadata": {
    "scrolled": true
   },
   "outputs": [
    {
     "data": {
      "text/html": [
       "<div>\n",
       "<style scoped>\n",
       "    .dataframe tbody tr th:only-of-type {\n",
       "        vertical-align: middle;\n",
       "    }\n",
       "\n",
       "    .dataframe tbody tr th {\n",
       "        vertical-align: top;\n",
       "    }\n",
       "\n",
       "    .dataframe thead th {\n",
       "        text-align: right;\n",
       "    }\n",
       "</style>\n",
       "<table border=\"1\" class=\"dataframe\">\n",
       "  <thead>\n",
       "    <tr style=\"text-align: right;\">\n",
       "      <th></th>\n",
       "      <th>Rest_ID</th>\n",
       "      <th>City</th>\n",
       "      <th>Cuisine_Style</th>\n",
       "      <th>Ranking</th>\n",
       "      <th>Rating</th>\n",
       "      <th>Price_Range</th>\n",
       "      <th>Number_of_Reviews</th>\n",
       "      <th>Reviews</th>\n",
       "      <th>URL_TA</th>\n",
       "      <th>ID_TA</th>\n",
       "    </tr>\n",
       "  </thead>\n",
       "  <tbody>\n",
       "    <tr>\n",
       "      <th>13980</th>\n",
       "      <td>id_3239</td>\n",
       "      <td>Madrid</td>\n",
       "      <td>NaN</td>\n",
       "      <td>3241.0</td>\n",
       "      <td>5.0</td>\n",
       "      <td>NaN</td>\n",
       "      <td>13.0</td>\n",
       "      <td>[[], []]</td>\n",
       "      <td>/Restaurant_Review-g187514-d10047799-Reviews-E...</td>\n",
       "      <td>d10047799</td>\n",
       "    </tr>\n",
       "    <tr>\n",
       "      <th>38946</th>\n",
       "      <td>id_3242</td>\n",
       "      <td>Madrid</td>\n",
       "      <td>NaN</td>\n",
       "      <td>3244.0</td>\n",
       "      <td>5.0</td>\n",
       "      <td>NaN</td>\n",
       "      <td>13.0</td>\n",
       "      <td>[[], []]</td>\n",
       "      <td>/Restaurant_Review-g187514-d10047799-Reviews-E...</td>\n",
       "      <td>d10047799</td>\n",
       "    </tr>\n",
       "  </tbody>\n",
       "</table>\n",
       "</div>"
      ],
      "text/plain": [
       "       Rest_ID    City Cuisine_Style  Ranking  Rating Price_Range  \\\n",
       "13980  id_3239  Madrid           NaN   3241.0     5.0         NaN   \n",
       "38946  id_3242  Madrid           NaN   3244.0     5.0         NaN   \n",
       "\n",
       "       Number_of_Reviews   Reviews  \\\n",
       "13980               13.0  [[], []]   \n",
       "38946               13.0  [[], []]   \n",
       "\n",
       "                                                  URL_TA      ID_TA  \n",
       "13980  /Restaurant_Review-g187514-d10047799-Reviews-E...  d10047799  \n",
       "38946  /Restaurant_Review-g187514-d10047799-Reviews-E...  d10047799  "
      ]
     },
     "execution_count": 195,
     "metadata": {},
     "output_type": "execute_result"
    }
   ],
   "source": [
    "data[data.ID_TA=='d10047799']"
   ]
  },
  {
   "cell_type": "markdown",
   "metadata": {},
   "source": [
    "По данному конкретному ID_TA видно, что данные по ресторану в основном идентичны, а в двух столбцах различаются несущественно. Предположительно, такая же картина будет по остальным 20 повторяющимся ID_TA. Сопоставим их по соответствующим столбцам и уберем дубликаты."
   ]
  },
  {
   "cell_type": "code",
   "execution_count": 196,
   "metadata": {
    "scrolled": true
   },
   "outputs": [],
   "source": [
    "data=data.drop_duplicates(subset=['ID_TA','URL_TA','Reviews'],ignore_index=True)"
   ]
  },
  {
   "cell_type": "markdown",
   "metadata": {},
   "source": [
    "Столбцы Restaurant_ID, URL_TA, ID_TA теперь можно отбросить, так как никакой важной дополнительной информации они более не несут"
   ]
  },
  {
   "cell_type": "code",
   "execution_count": 197,
   "metadata": {
    "scrolled": true
   },
   "outputs": [
    {
     "name": "stdout",
     "output_type": "stream",
     "text": [
      "<class 'pandas.core.frame.DataFrame'>\n",
      "RangeIndex: 39980 entries, 0 to 39979\n",
      "Data columns (total 7 columns):\n",
      " #   Column             Non-Null Count  Dtype  \n",
      "---  ------             --------------  -----  \n",
      " 0   City               39980 non-null  object \n",
      " 1   Cuisine_Style      30701 non-null  object \n",
      " 2   Ranking            39980 non-null  float64\n",
      " 3   Rating             39980 non-null  float64\n",
      " 4   Price_Range        26101 non-null  object \n",
      " 5   Number_of_Reviews  37437 non-null  float64\n",
      " 6   Reviews            39980 non-null  object \n",
      "dtypes: float64(3), object(4)\n",
      "memory usage: 2.1+ MB\n"
     ]
    }
   ],
   "source": [
    "data=data.drop(['Rest_ID','URL_TA', 'ID_TA'],axis=1)\n",
    "data.info()"
   ]
  },
  {
   "cell_type": "markdown",
   "metadata": {},
   "source": [
    "#### Cuisine_Style"
   ]
  },
  {
   "cell_type": "code",
   "execution_count": 198,
   "metadata": {
    "scrolled": true
   },
   "outputs": [
    {
     "data": {
      "text/plain": [
       "36584                                    ['Mediterranean']\n",
       "31725    ['French', 'Cafe', 'European', 'Vegetarian Fri...\n",
       "6621              ['Mediterranean', 'Spanish', 'European']\n",
       "4709                                            ['Indian']\n",
       "3546                                                   NaN\n",
       "18916                                                  NaN\n",
       "33418                                            ['Pizza']\n",
       "326                                                    NaN\n",
       "4172                          ['Delicatessen', 'Wine Bar']\n",
       "26277                                          ['Italian']\n",
       "Name: Cuisine_Style, dtype: object"
      ]
     },
     "execution_count": 198,
     "metadata": {},
     "output_type": "execute_result"
    }
   ],
   "source": [
    "data.Cuisine_Style.sample(10)"
   ]
  },
  {
   "cell_type": "code",
   "execution_count": 199,
   "metadata": {},
   "outputs": [
    {
     "data": {
      "text/plain": [
       "str"
      ]
     },
     "execution_count": 199,
     "metadata": {},
     "output_type": "execute_result"
    }
   ],
   "source": [
    "type(data.iloc[18283].Cuisine_Style)"
   ]
  },
  {
   "cell_type": "markdown",
   "metadata": {},
   "source": [
    "Элементы столбца Cuisine_Style хоть и выглядят как списки с текстовыми элементами, но являются одной сплошной строкой с символами ' \"\",[,] ' . Для удобства работы исправим это также имея ввиду,что в столбце есть значения NaN, которые мы пока заменить не можем. "
   ]
  },
  {
   "cell_type": "code",
   "execution_count": 200,
   "metadata": {},
   "outputs": [],
   "source": [
    "symbs=[\"[\",\"]\",\"'\",\" \"]"
   ]
  },
  {
   "cell_type": "code",
   "execution_count": 201,
   "metadata": {},
   "outputs": [],
   "source": [
    "for symb in symbs:\n",
    "    data.Cuisine_Style=data.Cuisine_Style.map(lambda x: x.replace(symb,'') if type(x)==str else x)"
   ]
  },
  {
   "cell_type": "code",
   "execution_count": 202,
   "metadata": {},
   "outputs": [],
   "source": [
    "data.Cuisine_Style=data.Cuisine_Style.map(lambda x: x.split(',') if type(x)!=float else x)"
   ]
  },
  {
   "cell_type": "markdown",
   "metadata": {},
   "source": [
    "Просчитаем частоту появления той или иной кухни в ресторанах мира. Далее, если в ресторане просутствуют блюда из нескольких кухонь, то в доп. столбце проставим сумму рангов, присвоенных кухням.  "
   ]
  },
  {
   "cell_type": "code",
   "execution_count": 203,
   "metadata": {},
   "outputs": [],
   "source": [
    "cuisines_count=defaultdict(int) #создаю словарь с начальным нулевым значением "
   ]
  },
  {
   "cell_type": "code",
   "execution_count": 204,
   "metadata": {},
   "outputs": [],
   "source": [
    "#вывожу все кухни от каждого ресторана в общий список и подсчитываю частоту их появления\n",
    "for cuisine in [cuisine for record in data.Cuisine_Style if type(record)==list\n",
    "                        for cuisine in record]:\n",
    "    cuisines_count[cuisine]+=1"
   ]
  },
  {
   "cell_type": "code",
   "execution_count": 205,
   "metadata": {
    "code_folding": [],
    "editable": false
   },
   "outputs": [],
   "source": [
    "#функция по суммированию \"популярности\" кухонь, приготавливаемых в каждом отдельно взятом ресторане \n",
    "def popularity_calc (record):\n",
    "    pop_total=0\n",
    "    if str(record)=='nan': pop_total=np.nan\n",
    "    else: \n",
    "        for cuisine in record:\n",
    "            pop_total+=cuisines_count[cuisine]\n",
    "    return pop_total"
   ]
  },
  {
   "cell_type": "code",
   "execution_count": 206,
   "metadata": {
    "run_control": {
     "marked": true
    }
   },
   "outputs": [],
   "source": [
    "data['Cuisine_Popularity']=data.Cuisine_Style.map(popularity_calc)"
   ]
  },
  {
   "cell_type": "code",
   "execution_count": 207,
   "metadata": {},
   "outputs": [
    {
     "data": {
      "text/plain": [
       "0        14828.0\n",
       "1            NaN\n",
       "2        25894.0\n",
       "3            NaN\n",
       "4        13236.0\n",
       "          ...   \n",
       "39975    25738.0\n",
       "39976    29036.0\n",
       "39977     2619.0\n",
       "39978    23492.0\n",
       "39979     2788.0\n",
       "Name: Cuisine_Popularity, Length: 39980, dtype: float64"
      ]
     },
     "execution_count": 207,
     "metadata": {},
     "output_type": "execute_result"
    }
   ],
   "source": [
    "data['Cuisine_Popularity']"
   ]
  },
  {
   "cell_type": "code",
   "execution_count": 208,
   "metadata": {},
   "outputs": [
    {
     "data": {
      "text/plain": [
       "1        NaN\n",
       "3        NaN\n",
       "5        NaN\n",
       "8        NaN\n",
       "10       NaN\n",
       "        ... \n",
       "39961    NaN\n",
       "39963    NaN\n",
       "39966    NaN\n",
       "39968    NaN\n",
       "39973    NaN\n",
       "Name: Cuisine_Style, Length: 9279, dtype: object"
      ]
     },
     "execution_count": 208,
     "metadata": {},
     "output_type": "execute_result"
    }
   ],
   "source": [
    "data[data.Cuisine_Popularity.isna()].Cuisine_Style"
   ]
  },
  {
   "cell_type": "markdown",
   "metadata": {},
   "source": [
    "Слишком много пропусков: 9279 из 39973, т.е. больше 20%; замена на среднее по всему списку может сильно исказить картину. Будем заменять пропуски на медианное значение в рамках каждого отдельного города."
   ]
  },
  {
   "cell_type": "code",
   "execution_count": 209,
   "metadata": {},
   "outputs": [],
   "source": [
    "grouped_by_city=data.groupby(['City'])\n",
    "#создаю датафрейм с медианным значением \"популярности\" для каждого города\n",
    "#столбец 'City' мне нужен для следующего шага, поэтому применяю reset_index\n",
    "median=grouped_by_city.Cuisine_Popularity.quantile(0.5).reset_index()"
   ]
  },
  {
   "cell_type": "code",
   "execution_count": 210,
   "metadata": {
    "scrolled": true
   },
   "outputs": [
    {
     "data": {
      "text/html": [
       "<div>\n",
       "<style scoped>\n",
       "    .dataframe tbody tr th:only-of-type {\n",
       "        vertical-align: middle;\n",
       "    }\n",
       "\n",
       "    .dataframe tbody tr th {\n",
       "        vertical-align: top;\n",
       "    }\n",
       "\n",
       "    .dataframe thead th {\n",
       "        text-align: right;\n",
       "    }\n",
       "</style>\n",
       "<table border=\"1\" class=\"dataframe\">\n",
       "  <thead>\n",
       "    <tr style=\"text-align: right;\">\n",
       "      <th></th>\n",
       "      <th>City</th>\n",
       "      <th>Cuisine_Popularity</th>\n",
       "    </tr>\n",
       "  </thead>\n",
       "  <tbody>\n",
       "    <tr>\n",
       "      <th>0</th>\n",
       "      <td>Amsterdam</td>\n",
       "      <td>16313.0</td>\n",
       "    </tr>\n",
       "    <tr>\n",
       "      <th>1</th>\n",
       "      <td>Athens</td>\n",
       "      <td>7049.0</td>\n",
       "    </tr>\n",
       "    <tr>\n",
       "      <th>2</th>\n",
       "      <td>Barcelona</td>\n",
       "      <td>10333.0</td>\n",
       "    </tr>\n",
       "    <tr>\n",
       "      <th>3</th>\n",
       "      <td>Berlin</td>\n",
       "      <td>11163.0</td>\n",
       "    </tr>\n",
       "    <tr>\n",
       "      <th>4</th>\n",
       "      <td>Bratislava</td>\n",
       "      <td>10651.0</td>\n",
       "    </tr>\n",
       "    <tr>\n",
       "      <th>5</th>\n",
       "      <td>Brussels</td>\n",
       "      <td>12234.0</td>\n",
       "    </tr>\n",
       "    <tr>\n",
       "      <th>6</th>\n",
       "      <td>Budapest</td>\n",
       "      <td>13280.0</td>\n",
       "    </tr>\n",
       "    <tr>\n",
       "      <th>7</th>\n",
       "      <td>Copenhagen</td>\n",
       "      <td>12558.0</td>\n",
       "    </tr>\n",
       "    <tr>\n",
       "      <th>8</th>\n",
       "      <td>Dublin</td>\n",
       "      <td>15801.0</td>\n",
       "    </tr>\n",
       "    <tr>\n",
       "      <th>9</th>\n",
       "      <td>Edinburgh</td>\n",
       "      <td>16791.5</td>\n",
       "    </tr>\n",
       "    <tr>\n",
       "      <th>10</th>\n",
       "      <td>Geneva</td>\n",
       "      <td>14366.5</td>\n",
       "    </tr>\n",
       "    <tr>\n",
       "      <th>11</th>\n",
       "      <td>Hamburg</td>\n",
       "      <td>8956.0</td>\n",
       "    </tr>\n",
       "    <tr>\n",
       "      <th>12</th>\n",
       "      <td>Helsinki</td>\n",
       "      <td>11373.5</td>\n",
       "    </tr>\n",
       "    <tr>\n",
       "      <th>13</th>\n",
       "      <td>Krakow</td>\n",
       "      <td>15602.5</td>\n",
       "    </tr>\n",
       "    <tr>\n",
       "      <th>14</th>\n",
       "      <td>Lisbon</td>\n",
       "      <td>12489.0</td>\n",
       "    </tr>\n",
       "    <tr>\n",
       "      <th>15</th>\n",
       "      <td>Ljubljana</td>\n",
       "      <td>12770.0</td>\n",
       "    </tr>\n",
       "    <tr>\n",
       "      <th>16</th>\n",
       "      <td>London</td>\n",
       "      <td>11653.0</td>\n",
       "    </tr>\n",
       "    <tr>\n",
       "      <th>17</th>\n",
       "      <td>Luxembourg</td>\n",
       "      <td>13245.0</td>\n",
       "    </tr>\n",
       "    <tr>\n",
       "      <th>18</th>\n",
       "      <td>Lyon</td>\n",
       "      <td>3695.5</td>\n",
       "    </tr>\n",
       "    <tr>\n",
       "      <th>19</th>\n",
       "      <td>Madrid</td>\n",
       "      <td>6271.0</td>\n",
       "    </tr>\n",
       "    <tr>\n",
       "      <th>20</th>\n",
       "      <td>Milan</td>\n",
       "      <td>12169.5</td>\n",
       "    </tr>\n",
       "    <tr>\n",
       "      <th>21</th>\n",
       "      <td>Munich</td>\n",
       "      <td>12229.0</td>\n",
       "    </tr>\n",
       "    <tr>\n",
       "      <th>22</th>\n",
       "      <td>Oporto</td>\n",
       "      <td>13128.0</td>\n",
       "    </tr>\n",
       "    <tr>\n",
       "      <th>23</th>\n",
       "      <td>Oslo</td>\n",
       "      <td>11981.0</td>\n",
       "    </tr>\n",
       "    <tr>\n",
       "      <th>24</th>\n",
       "      <td>Paris</td>\n",
       "      <td>8803.0</td>\n",
       "    </tr>\n",
       "    <tr>\n",
       "      <th>25</th>\n",
       "      <td>Prague</td>\n",
       "      <td>10651.0</td>\n",
       "    </tr>\n",
       "    <tr>\n",
       "      <th>26</th>\n",
       "      <td>Rome</td>\n",
       "      <td>17146.0</td>\n",
       "    </tr>\n",
       "    <tr>\n",
       "      <th>27</th>\n",
       "      <td>Stockholm</td>\n",
       "      <td>11639.0</td>\n",
       "    </tr>\n",
       "    <tr>\n",
       "      <th>28</th>\n",
       "      <td>Vienna</td>\n",
       "      <td>12247.0</td>\n",
       "    </tr>\n",
       "    <tr>\n",
       "      <th>29</th>\n",
       "      <td>Warsaw</td>\n",
       "      <td>11733.0</td>\n",
       "    </tr>\n",
       "    <tr>\n",
       "      <th>30</th>\n",
       "      <td>Zurich</td>\n",
       "      <td>16346.0</td>\n",
       "    </tr>\n",
       "  </tbody>\n",
       "</table>\n",
       "</div>"
      ],
      "text/plain": [
       "          City  Cuisine_Popularity\n",
       "0    Amsterdam             16313.0\n",
       "1       Athens              7049.0\n",
       "2    Barcelona             10333.0\n",
       "3       Berlin             11163.0\n",
       "4   Bratislava             10651.0\n",
       "5     Brussels             12234.0\n",
       "6     Budapest             13280.0\n",
       "7   Copenhagen             12558.0\n",
       "8       Dublin             15801.0\n",
       "9    Edinburgh             16791.5\n",
       "10      Geneva             14366.5\n",
       "11     Hamburg              8956.0\n",
       "12    Helsinki             11373.5\n",
       "13      Krakow             15602.5\n",
       "14      Lisbon             12489.0\n",
       "15   Ljubljana             12770.0\n",
       "16      London             11653.0\n",
       "17  Luxembourg             13245.0\n",
       "18        Lyon              3695.5\n",
       "19      Madrid              6271.0\n",
       "20       Milan             12169.5\n",
       "21      Munich             12229.0\n",
       "22      Oporto             13128.0\n",
       "23        Oslo             11981.0\n",
       "24       Paris              8803.0\n",
       "25      Prague             10651.0\n",
       "26        Rome             17146.0\n",
       "27   Stockholm             11639.0\n",
       "28      Vienna             12247.0\n",
       "29      Warsaw             11733.0\n",
       "30      Zurich             16346.0"
      ]
     },
     "execution_count": 210,
     "metadata": {},
     "output_type": "execute_result"
    }
   ],
   "source": [
    "median"
   ]
  },
  {
   "cell_type": "code",
   "execution_count": 211,
   "metadata": {},
   "outputs": [],
   "source": [
    "#создаю клон датафрейма data.City и создаю привязку город - медианная \"популярность\"\n",
    "#при этом в клоне сохраняю индексацию родительского датасета \n",
    "data_clone=data[['City']].merge(median, how='left',on=\"City\")"
   ]
  },
  {
   "cell_type": "code",
   "execution_count": 212,
   "metadata": {},
   "outputs": [],
   "source": [
    "#заменяю NaN в родительском датасете используя маску, заполненную медианными \n",
    "#значениями. Благодаря одинаковым названиям столбцов в клоне и родительском датасете\n",
    "#и сохраненному индексу маска ложится правильно\n",
    "data.Cuisine_Popularity.fillna(data_clone.Cuisine_Popularity,inplace=True)"
   ]
  },
  {
   "cell_type": "code",
   "execution_count": 213,
   "metadata": {},
   "outputs": [],
   "source": [
    "#столбец Cuisine_Style можно отбросить\n",
    "data=data.drop(['Cuisine_Style'],axis=1)"
   ]
  },
  {
   "cell_type": "markdown",
   "metadata": {},
   "source": [
    "#### Price_Range"
   ]
  },
  {
   "cell_type": "code",
   "execution_count": 214,
   "metadata": {},
   "outputs": [
    {
     "data": {
      "text/plain": [
       "31040    $$ - $$$\n",
       "29393           $\n",
       "29388           $\n",
       "14930         NaN\n",
       "8555     $$ - $$$\n",
       "21884        $$$$\n",
       "21822         NaN\n",
       "15139    $$ - $$$\n",
       "37104         NaN\n",
       "18742    $$ - $$$\n",
       "Name: Price_Range, dtype: object"
      ]
     },
     "execution_count": 214,
     "metadata": {},
     "output_type": "execute_result"
    }
   ],
   "source": [
    "data.Price_Range.sample(10)"
   ]
  },
  {
   "cell_type": "code",
   "execution_count": 215,
   "metadata": {},
   "outputs": [
    {
     "data": {
      "text/plain": [
       "$$ - $$$    18402\n",
       "$            6276\n",
       "$$$$         1423\n",
       "Name: Price_Range, dtype: int64"
      ]
     },
     "execution_count": 215,
     "metadata": {},
     "output_type": "execute_result"
    }
   ],
   "source": [
    "data.Price_Range.value_counts()"
   ]
  },
  {
   "cell_type": "code",
   "execution_count": 216,
   "metadata": {},
   "outputs": [],
   "source": [
    "#в датасете представлены рестораны трех ценовых категорий \n",
    "#для удобства заменяю названия категорий\n",
    "data.Price_Range.replace({'$$ - $$$':'Med','$':'Low', '$$$$':'High'},inplace=True)"
   ]
  },
  {
   "cell_type": "code",
   "execution_count": 217,
   "metadata": {},
   "outputs": [
    {
     "data": {
      "text/plain": [
       "1        NaN\n",
       "3        NaN\n",
       "5        NaN\n",
       "7        NaN\n",
       "8        NaN\n",
       "        ... \n",
       "39968    NaN\n",
       "39969    NaN\n",
       "39970    NaN\n",
       "39973    NaN\n",
       "39977    NaN\n",
       "Name: Price_Range, Length: 13879, dtype: object"
      ]
     },
     "execution_count": 217,
     "metadata": {},
     "output_type": "execute_result"
    }
   ],
   "source": [
    "data[data.Price_Range.isna()].Price_Range"
   ]
  },
  {
   "cell_type": "markdown",
   "metadata": {},
   "source": [
    "Слишком много пропусков, заполнение каким-либо значением сильно исказит реальную картину. Но эти данные могут быть для получения dummy индикаторов  "
   ]
  },
  {
   "cell_type": "code",
   "execution_count": 218,
   "metadata": {},
   "outputs": [],
   "source": [
    "#вывожу dummy столбцы\n",
    "#данные с пропусками будут отмечены в отдельном столбце NaN\n",
    "dummies=pd.get_dummies(data.Price_Range,dummy_na=True)\n",
    "#добавляю dummy столбцы к материнскому датасету с правого края\n",
    "for i in range(len(dummies.columns)):\n",
    "    data.insert(7+i,dummies.columns[i],dummies[dummies.columns[i]])"
   ]
  },
  {
   "cell_type": "code",
   "execution_count": 219,
   "metadata": {},
   "outputs": [],
   "source": [
    "#столбец Price Range более не нужен, удаляю\n",
    "data.drop('Price_Range',inplace=True,axis=1);"
   ]
  },
  {
   "cell_type": "markdown",
   "metadata": {},
   "source": [
    "#### Reviews"
   ]
  },
  {
   "cell_type": "code",
   "execution_count": 220,
   "metadata": {},
   "outputs": [
    {
     "data": {
      "text/plain": [
       "30547    [['Great food, but bring a dictionary'], ['03/...\n",
       "29301    [['Wow! What an experience!', 'Find your happi...\n",
       "36854                                             [[], []]\n",
       "34294    [['Nice food and wine but expensive', 'Great f...\n",
       "17348    [['Excellent acoustics and view', 'Club Ziggo'...\n",
       "33634                                             [[], []]\n",
       "16016    [['Eat there only if you absolutely will only....\n",
       "16448    [['Takeaway Menu', 'Takeaway'], ['06/06/2017',...\n",
       "27950    [['Excellent place to dine @ Courtyard Marrio....\n",
       "1118     [['Nice place good food', 'Nice and cozy'], ['...\n",
       "Name: Reviews, dtype: object"
      ]
     },
     "execution_count": 220,
     "metadata": {},
     "output_type": "execute_result"
    }
   ],
   "source": [
    "data.Reviews.sample(10)"
   ]
  },
  {
   "cell_type": "code",
   "execution_count": 221,
   "metadata": {
    "scrolled": true
   },
   "outputs": [
    {
     "data": {
      "text/plain": [
       "\"[['Good', 'Best croissants in Lisbon'], ['05/30/2017', '08/16/2015']]\""
      ]
     },
     "execution_count": 221,
     "metadata": {},
     "output_type": "execute_result"
    }
   ],
   "source": [
    "data.Reviews[8911]"
   ]
  },
  {
   "cell_type": "code",
   "execution_count": 222,
   "metadata": {},
   "outputs": [
    {
     "data": {
      "text/plain": [
       "\"[['Good food, good price.'], ['09/18/2016']]\""
      ]
     },
     "execution_count": 222,
     "metadata": {},
     "output_type": "execute_result"
    }
   ],
   "source": [
    "data.Reviews[2626]"
   ]
  },
  {
   "cell_type": "code",
   "execution_count": 223,
   "metadata": {},
   "outputs": [
    {
     "data": {
      "text/plain": [
       "'[[], []]'"
      ]
     },
     "execution_count": 223,
     "metadata": {},
     "output_type": "execute_result"
    }
   ],
   "source": [
    "data.Reviews[11785]"
   ]
  },
  {
   "cell_type": "markdown",
   "metadata": {},
   "source": [
    "формат данных в столбце Reviews текстовый и выглядит как [[....], [...]], где вместо .... и ... либо пустота, либо текст отзыва и дата (1 или 2), соответственно"
   ]
  },
  {
   "cell_type": "code",
   "execution_count": 224,
   "metadata": {
    "editable": false
   },
   "outputs": [],
   "source": [
    "#функция удаления лишних символов\n",
    "def remove_symb(record,symbs): #symbs - внешняя переменная, содержит перечень символов на удаление \n",
    "    for symb in symbs:\n",
    "        if type(record)==str:\n",
    "            record=record.replace(symb,\"\")\n",
    "        else: continue\n",
    "    return record"
   ]
  },
  {
   "cell_type": "code",
   "execution_count": 225,
   "metadata": {
    "editable": false
   },
   "outputs": [],
   "source": [
    "#функция для разбивки записей в столбце Reviews. \n",
    "#На выходе получаем данные для 3 столбцов: текста отзыва, первой даты и второй, если таковая есть\n",
    "def rev_split (record):\n",
    "    \n",
    "    global symbs\n",
    "    temp=record.split('], [')\n",
    "    if temp==['[[', ']]']:\n",
    "        Rev_txt='NA'\n",
    "    else: Rev_txt=remove_symb(temp[0],[symb for symb in symbs])\n",
    "        \n",
    "    if ',' in temp[1]:\n",
    "        F_rev_date=remove_symb(temp[1],[symb for symb in symbs]).split(',')[0]\n",
    "        S_rev_date=remove_symb(temp[1],[symb for symb in symbs]).split(',')[1]\n",
    "    else: \n",
    "        F_rev_date=remove_symb(temp[1],[symb for symb in symbs])\n",
    "        S_rev_date=0\n",
    "    \n",
    "    return Rev_txt, F_rev_date, S_rev_date"
   ]
  },
  {
   "cell_type": "code",
   "execution_count": 226,
   "metadata": {},
   "outputs": [],
   "source": [
    "#создаю временный датасет с тремя столбцами \n",
    "temp_db=data.Reviews.map(rev_split)"
   ]
  },
  {
   "cell_type": "code",
   "execution_count": 227,
   "metadata": {},
   "outputs": [],
   "source": [
    "#добавляю полученные столбцы в материнский датасет\n",
    "Rev_txt=[]\n",
    "F_rev_date=[]\n",
    "S_rev_date=[]\n",
    "\n",
    "for record in temp_db:\n",
    "    Rev_txt.append(record[0])\n",
    "    F_rev_date.append(record[1])\n",
    "    S_rev_date.append(record[2])\n",
    "    \n",
    "data['Rev_txt']=Rev_txt\n",
    "data['F_rev_date']=F_rev_date\n",
    "data['S_rev_date']=S_rev_date"
   ]
  },
  {
   "cell_type": "code",
   "execution_count": 228,
   "metadata": {
    "run_control": {
     "marked": true
    },
    "scrolled": true
   },
   "outputs": [],
   "source": [
    "#выставляю формат даты в полученных столбцах\n",
    "data[['F_rev_date','S_rev_date']]=data[['F_rev_date','S_rev_date']].applymap(lambda x: pd.to_datetime(x))"
   ]
  },
  {
   "cell_type": "code",
   "execution_count": 229,
   "metadata": {},
   "outputs": [
    {
     "data": {
      "image/png": "[encoded data removed]",
      "text/plain": [
       "<Figure size 432x288 with 1 Axes>"
      ]
     },
     "metadata": {
      "needs_background": "light"
     },
     "output_type": "display_data"
    }
   ],
   "source": [
    "data.F_rev_date.hist();"
   ]
  },
  {
   "cell_type": "code",
   "execution_count": 230,
   "metadata": {},
   "outputs": [
    {
     "data": {
      "image/png": "[encoded data removed]",
      "text/plain": [
       "<Figure size 432x288 with 1 Axes>"
      ]
     },
     "metadata": {
      "needs_background": "light"
     },
     "output_type": "display_data"
    }
   ],
   "source": [
    "data.S_rev_date.hist();"
   ]
  },
  {
   "cell_type": "code",
   "execution_count": 231,
   "metadata": {},
   "outputs": [
    {
     "data": {
      "text/plain": [
       "Series([], Name: Reviews, dtype: object)"
      ]
     },
     "execution_count": 231,
     "metadata": {},
     "output_type": "execute_result"
    }
   ],
   "source": [
    "data[data.Number_of_Reviews==0].Reviews"
   ]
  },
  {
   "cell_type": "markdown",
   "metadata": {},
   "source": [
    "из графиков видно, что основной объем отзывов приходится на даты от 2018-2019 годов. При этом есть много ресторанов, по которым текст и даты отзывов отсутствуют, но в Number_of_Reviews есть информация, что отзывы должны быть. Следовательно, это пропуск в данных, который нужно заполнить"
   ]
  },
  {
   "cell_type": "code",
   "execution_count": 232,
   "metadata": {
    "editable": false
   },
   "outputs": [],
   "source": [
    "#функция по выбору даты наиболее свежего отзыва\n",
    "def Recent_date(data):\n",
    "    F_dates=[x for x in data.F_rev_date]\n",
    "    S_dates=[y for y in data.S_rev_date]\n",
    "    Recent_date= max(F_dates,S_dates) \n",
    "   \n",
    "    return pd.Series(Recent_date)"
   ]
  },
  {
   "cell_type": "code",
   "execution_count": 233,
   "metadata": {},
   "outputs": [],
   "source": [
    "#определяю разницу в днях между датой отзыва и фиксированной датой (год основания TripAdvisor)\n",
    "temp=Recent_date(data)- np.array(pd.to_datetime('2000-01-01'))"
   ]
  },
  {
   "cell_type": "code",
   "execution_count": 234,
   "metadata": {},
   "outputs": [],
   "source": [
    "#и добавляю в материнский датасет\n",
    "data['Most_recent_rev_date']=temp.dt.days"
   ]
  },
  {
   "cell_type": "code",
   "execution_count": 235,
   "metadata": {},
   "outputs": [
    {
     "data": {
      "text/plain": [
       "3       NaN\n",
       "8       NaN\n",
       "10      NaN\n",
       "14      NaN\n",
       "21      NaN\n",
       "         ..\n",
       "39961   NaN\n",
       "39966   NaN\n",
       "39968   NaN\n",
       "39971   NaN\n",
       "39974   NaN\n",
       "Name: Most_recent_rev_date, Length: 6465, dtype: float64"
      ]
     },
     "execution_count": 235,
     "metadata": {},
     "output_type": "execute_result"
    }
   ],
   "source": [
    "data[data.Most_recent_rev_date.isna()].Most_recent_rev_date"
   ]
  },
  {
   "cell_type": "code",
   "execution_count": 236,
   "metadata": {},
   "outputs": [],
   "source": [
    "#как было выявлено выше,у всех ресторанов датасета число отзывов >0, поэтому\n",
    "#заполняю NaN медианным значением по столбцу\n",
    "data['Most_recent_rev_date'].fillna(np.round(data.Most_recent_rev_date.mean()),inplace=True)"
   ]
  },
  {
   "cell_type": "code",
   "execution_count": 237,
   "metadata": {
    "code_folding": []
   },
   "outputs": [],
   "source": [
    "#отбрасываю не нужные столбцы\n",
    "data.drop(['Reviews','Rev_txt','F_rev_date','S_rev_date'],inplace=True, axis=1);"
   ]
  },
  {
   "cell_type": "markdown",
   "metadata": {},
   "source": [
    "#### Number_of_Reviews"
   ]
  },
  {
   "cell_type": "code",
   "execution_count": 238,
   "metadata": {
    "scrolled": true
   },
   "outputs": [
    {
     "data": {
      "text/plain": [
       "count    37437.000000\n",
       "mean       124.830195\n",
       "std        295.728711\n",
       "min          2.000000\n",
       "25%          9.000000\n",
       "50%         33.000000\n",
       "75%        115.000000\n",
       "max       9660.000000\n",
       "Name: Number_of_Reviews, dtype: float64"
      ]
     },
     "execution_count": 238,
     "metadata": {},
     "output_type": "execute_result"
    }
   ],
   "source": [
    "data.Number_of_Reviews.describe()"
   ]
  },
  {
   "cell_type": "markdown",
   "metadata": {},
   "source": [
    "в данных есть выбросы, избавимся от них "
   ]
  },
  {
   "cell_type": "code",
   "execution_count": 239,
   "metadata": {
    "editable": false
   },
   "outputs": [],
   "source": [
    "#функция по удалению выбросов\n",
    "\n",
    "\n",
    "def outliers(column):\n",
    "    #определяю границы межквартильного диапазона\n",
    "    Q1 = column.quantile(0.25)\n",
    "    Q3 = column.quantile(0.75)\n",
    "    IQR = Q3 - Q1\n",
    "    l_boundary = Q1 - 1.5 * IQR\n",
    "    h_boundary = Q3 + 1.5 * IQR\n",
    "\n",
    "    #расчитываю число и долю выбросов и вывожу сообщение\n",
    "    outliers = column[~column.between(l_boundary, h_boundary)]\n",
    "    n_outl = outliers.count()\n",
    "    p_outl = np.round(n_outl * 100 / len(data), 2)\n",
    "    print('Minor boundries are ({},{})\\n There are {} or {} outlying values'\\\n",
    "          .format(l_boundary,h_boundary,n_outl,p_outl))\n",
    "\n",
    "    inp = input('Clear outliers?\\n Input Y (for yes) or N (for no): ')\n",
    "\n",
    "    #удаляю выбросы, если пользователь подтвердил это действие\n",
    "    if inp == 'Y':\n",
    "        if (type(l_boundary) == int) | (type(l_boundary) == np.float64):\n",
    "            column = column[column.between(l_boundary, h_boundary)]\n",
    "        else:\n",
    "            column = column[column.between(str(l_boundary), str(h_boundary))]\n",
    "    else:\n",
    "        column = column\n",
    "    #возвращаю столбец без выбросов\n",
    "    return column"
   ]
  },
  {
   "cell_type": "code",
   "execution_count": 240,
   "metadata": {
    "scrolled": false
   },
   "outputs": [
    {
     "name": "stdout",
     "output_type": "stream",
     "text": [
      "Minor boundries are (-150.0,274.0)\n",
      " There are 4345 or 10.87 outlying values\n",
      "Clear outliers?\n",
      " Input Y (for yes) or N (for no): Y\n"
     ]
    }
   ],
   "source": [
    "data.Number_of_Reviews=outliers(data.Number_of_Reviews)"
   ]
  },
  {
   "cell_type": "code",
   "execution_count": 241,
   "metadata": {
    "scrolled": true
   },
   "outputs": [
    {
     "data": {
      "text/plain": [
       "2       NaN\n",
       "8       NaN\n",
       "12      NaN\n",
       "21      NaN\n",
       "23      NaN\n",
       "         ..\n",
       "39966   NaN\n",
       "39968   NaN\n",
       "39969   NaN\n",
       "39972   NaN\n",
       "39976   NaN\n",
       "Name: Number_of_Reviews, Length: 6888, dtype: float64"
      ]
     },
     "execution_count": 241,
     "metadata": {},
     "output_type": "execute_result"
    }
   ],
   "source": [
    "data.Number_of_Reviews[data.Number_of_Reviews.isna()]"
   ]
  },
  {
   "cell_type": "markdown",
   "metadata": {},
   "source": [
    "пропусков слишком много и замена на медианное значение всего столбца сильно исказит картину. Заменим их медианным значением для каждого отдельно взятого города"
   ]
  },
  {
   "cell_type": "code",
   "execution_count": 242,
   "metadata": {},
   "outputs": [],
   "source": [
    "grouped_by_city=data.groupby(['City']).Number_of_Reviews"
   ]
  },
  {
   "cell_type": "code",
   "execution_count": 243,
   "metadata": {
    "scrolled": true
   },
   "outputs": [],
   "source": [
    "median=grouped_by_city.median().reset_index()"
   ]
  },
  {
   "cell_type": "code",
   "execution_count": 244,
   "metadata": {},
   "outputs": [],
   "source": [
    "data_clone=data[['City']].merge(median, how='left',on=\"City\")"
   ]
  },
  {
   "cell_type": "code",
   "execution_count": 245,
   "metadata": {},
   "outputs": [
    {
     "data": {
      "text/html": [
       "<div>\n",
       "<style scoped>\n",
       "    .dataframe tbody tr th:only-of-type {\n",
       "        vertical-align: middle;\n",
       "    }\n",
       "\n",
       "    .dataframe tbody tr th {\n",
       "        vertical-align: top;\n",
       "    }\n",
       "\n",
       "    .dataframe thead th {\n",
       "        text-align: right;\n",
       "    }\n",
       "</style>\n",
       "<table border=\"1\" class=\"dataframe\">\n",
       "  <thead>\n",
       "    <tr style=\"text-align: right;\">\n",
       "      <th></th>\n",
       "      <th>City</th>\n",
       "      <th>Number_of_Reviews</th>\n",
       "    </tr>\n",
       "  </thead>\n",
       "  <tbody>\n",
       "    <tr>\n",
       "      <th>0</th>\n",
       "      <td>Paris</td>\n",
       "      <td>36.0</td>\n",
       "    </tr>\n",
       "    <tr>\n",
       "      <th>1</th>\n",
       "      <td>Stockholm</td>\n",
       "      <td>16.0</td>\n",
       "    </tr>\n",
       "    <tr>\n",
       "      <th>2</th>\n",
       "      <td>London</td>\n",
       "      <td>27.0</td>\n",
       "    </tr>\n",
       "    <tr>\n",
       "      <th>3</th>\n",
       "      <td>Berlin</td>\n",
       "      <td>15.0</td>\n",
       "    </tr>\n",
       "    <tr>\n",
       "      <th>4</th>\n",
       "      <td>Munich</td>\n",
       "      <td>27.0</td>\n",
       "    </tr>\n",
       "    <tr>\n",
       "      <th>...</th>\n",
       "      <td>...</td>\n",
       "      <td>...</td>\n",
       "    </tr>\n",
       "    <tr>\n",
       "      <th>39975</th>\n",
       "      <td>Milan</td>\n",
       "      <td>30.0</td>\n",
       "    </tr>\n",
       "    <tr>\n",
       "      <th>39976</th>\n",
       "      <td>Paris</td>\n",
       "      <td>36.0</td>\n",
       "    </tr>\n",
       "    <tr>\n",
       "      <th>39977</th>\n",
       "      <td>Stockholm</td>\n",
       "      <td>16.0</td>\n",
       "    </tr>\n",
       "    <tr>\n",
       "      <th>39978</th>\n",
       "      <td>Warsaw</td>\n",
       "      <td>15.0</td>\n",
       "    </tr>\n",
       "    <tr>\n",
       "      <th>39979</th>\n",
       "      <td>Milan</td>\n",
       "      <td>30.0</td>\n",
       "    </tr>\n",
       "  </tbody>\n",
       "</table>\n",
       "<p>39980 rows × 2 columns</p>\n",
       "</div>"
      ],
      "text/plain": [
       "            City  Number_of_Reviews\n",
       "0          Paris               36.0\n",
       "1      Stockholm               16.0\n",
       "2         London               27.0\n",
       "3         Berlin               15.0\n",
       "4         Munich               27.0\n",
       "...          ...                ...\n",
       "39975      Milan               30.0\n",
       "39976      Paris               36.0\n",
       "39977  Stockholm               16.0\n",
       "39978     Warsaw               15.0\n",
       "39979      Milan               30.0\n",
       "\n",
       "[39980 rows x 2 columns]"
      ]
     },
     "execution_count": 245,
     "metadata": {},
     "output_type": "execute_result"
    }
   ],
   "source": [
    "data_clone"
   ]
  },
  {
   "cell_type": "code",
   "execution_count": 246,
   "metadata": {},
   "outputs": [],
   "source": [
    "data.Number_of_Reviews.fillna(data_clone.Number_of_Reviews,inplace=True)"
   ]
  },
  {
   "cell_type": "markdown",
   "metadata": {},
   "source": [
    "добавим в материнский датасет столбец, каждая запись которого будет соответствовать суммарному количеству отзывов по каждому отдельно взятому городу"
   ]
  },
  {
   "cell_type": "code",
   "execution_count": 247,
   "metadata": {
    "run_control": {
     "marked": false
    }
   },
   "outputs": [],
   "source": [
    "total=grouped_by_city.sum().reset_index()"
   ]
  },
  {
   "cell_type": "code",
   "execution_count": 248,
   "metadata": {},
   "outputs": [],
   "source": [
    "data_clone=data[['City']].merge(total, how='left',on=\"City\")"
   ]
  },
  {
   "cell_type": "code",
   "execution_count": 249,
   "metadata": {},
   "outputs": [],
   "source": [
    "data['Total_rev_by_city']=data_clone.Number_of_Reviews"
   ]
  },
  {
   "cell_type": "code",
   "execution_count": 250,
   "metadata": {},
   "outputs": [
    {
     "data": {
      "text/html": [
       "<div>\n",
       "<style scoped>\n",
       "    .dataframe tbody tr th:only-of-type {\n",
       "        vertical-align: middle;\n",
       "    }\n",
       "\n",
       "    .dataframe tbody tr th {\n",
       "        vertical-align: top;\n",
       "    }\n",
       "\n",
       "    .dataframe thead th {\n",
       "        text-align: right;\n",
       "    }\n",
       "</style>\n",
       "<table border=\"1\" class=\"dataframe\">\n",
       "  <thead>\n",
       "    <tr style=\"text-align: right;\">\n",
       "      <th></th>\n",
       "      <th>City</th>\n",
       "      <th>Ranking</th>\n",
       "      <th>Rating</th>\n",
       "      <th>Number_of_Reviews</th>\n",
       "      <th>Cuisine_Popularity</th>\n",
       "      <th>High</th>\n",
       "      <th>Low</th>\n",
       "      <th>Med</th>\n",
       "      <th>NaN</th>\n",
       "      <th>Most_recent_rev_date</th>\n",
       "      <th>Total_rev_by_city</th>\n",
       "    </tr>\n",
       "  </thead>\n",
       "  <tbody>\n",
       "    <tr>\n",
       "      <th>17919</th>\n",
       "      <td>Paris</td>\n",
       "      <td>4166.0</td>\n",
       "      <td>4.5</td>\n",
       "      <td>27.0</td>\n",
       "      <td>513.0</td>\n",
       "      <td>0</td>\n",
       "      <td>0</td>\n",
       "      <td>1</td>\n",
       "      <td>0</td>\n",
       "      <td>6470.0</td>\n",
       "      <td>279091.0</td>\n",
       "    </tr>\n",
       "    <tr>\n",
       "      <th>12248</th>\n",
       "      <td>Athens</td>\n",
       "      <td>773.0</td>\n",
       "      <td>4.5</td>\n",
       "      <td>22.0</td>\n",
       "      <td>6875.0</td>\n",
       "      <td>1</td>\n",
       "      <td>0</td>\n",
       "      <td>0</td>\n",
       "      <td>0</td>\n",
       "      <td>6188.0</td>\n",
       "      <td>23516.0</td>\n",
       "    </tr>\n",
       "    <tr>\n",
       "      <th>19761</th>\n",
       "      <td>Berlin</td>\n",
       "      <td>2631.0</td>\n",
       "      <td>4.0</td>\n",
       "      <td>16.0</td>\n",
       "      <td>11163.0</td>\n",
       "      <td>0</td>\n",
       "      <td>0</td>\n",
       "      <td>0</td>\n",
       "      <td>1</td>\n",
       "      <td>6390.0</td>\n",
       "      <td>69412.0</td>\n",
       "    </tr>\n",
       "    <tr>\n",
       "      <th>16614</th>\n",
       "      <td>Lisbon</td>\n",
       "      <td>2314.0</td>\n",
       "      <td>4.5</td>\n",
       "      <td>16.0</td>\n",
       "      <td>11163.0</td>\n",
       "      <td>0</td>\n",
       "      <td>0</td>\n",
       "      <td>1</td>\n",
       "      <td>0</td>\n",
       "      <td>5776.0</td>\n",
       "      <td>59500.0</td>\n",
       "    </tr>\n",
       "    <tr>\n",
       "      <th>29258</th>\n",
       "      <td>Copenhagen</td>\n",
       "      <td>1492.0</td>\n",
       "      <td>4.0</td>\n",
       "      <td>5.0</td>\n",
       "      <td>12558.0</td>\n",
       "      <td>0</td>\n",
       "      <td>0</td>\n",
       "      <td>0</td>\n",
       "      <td>1</td>\n",
       "      <td>6079.0</td>\n",
       "      <td>34904.5</td>\n",
       "    </tr>\n",
       "  </tbody>\n",
       "</table>\n",
       "</div>"
      ],
      "text/plain": [
       "             City  Ranking  Rating  Number_of_Reviews  Cuisine_Popularity  \\\n",
       "17919       Paris   4166.0     4.5               27.0               513.0   \n",
       "12248      Athens    773.0     4.5               22.0              6875.0   \n",
       "19761      Berlin   2631.0     4.0               16.0             11163.0   \n",
       "16614      Lisbon   2314.0     4.5               16.0             11163.0   \n",
       "29258  Copenhagen   1492.0     4.0                5.0             12558.0   \n",
       "\n",
       "       High  Low  Med  NaN  Most_recent_rev_date  Total_rev_by_city  \n",
       "17919     0    0    1    0                6470.0           279091.0  \n",
       "12248     1    0    0    0                6188.0            23516.0  \n",
       "19761     0    0    0    1                6390.0            69412.0  \n",
       "16614     0    0    1    0                5776.0            59500.0  \n",
       "29258     0    0    0    1                6079.0            34904.5  "
      ]
     },
     "execution_count": 250,
     "metadata": {},
     "output_type": "execute_result"
    }
   ],
   "source": [
    "data.sample(5)"
   ]
  },
  {
   "cell_type": "markdown",
   "metadata": {},
   "source": [
    "#### City"
   ]
  },
  {
   "cell_type": "markdown",
   "metadata": {},
   "source": [
    "выведем географическую принадлежность ресторанов"
   ]
  },
  {
   "cell_type": "code",
   "execution_count": 251,
   "metadata": {
    "scrolled": true
   },
   "outputs": [],
   "source": [
    "City_count=data.City.value_counts()"
   ]
  },
  {
   "cell_type": "code",
   "execution_count": 252,
   "metadata": {
    "scrolled": true
   },
   "outputs": [
    {
     "data": {
      "image/png": "[encoded data removed]",
      "text/plain": [
       "<Figure size 432x288 with 1 Axes>"
      ]
     },
     "metadata": {
      "needs_background": "light"
     },
     "output_type": "display_data"
    }
   ],
   "source": [
    "City_count.plot.bar();"
   ]
  },
  {
   "cell_type": "code",
   "execution_count": 253,
   "metadata": {
    "scrolled": true
   },
   "outputs": [
    {
     "data": {
      "text/plain": [
       "count      39980\n",
       "unique        31\n",
       "top       London\n",
       "freq        5757\n",
       "Name: City, dtype: object"
      ]
     },
     "execution_count": 253,
     "metadata": {},
     "output_type": "execute_result"
    }
   ],
   "source": [
    "data.City.describe()"
   ]
  },
  {
   "cell_type": "markdown",
   "metadata": {},
   "source": [
    "В датасете присутствуют данные о ресторанах из 31 города. При этом число ресторанов по городам распределено неравномерно. Используем частоту появления ресторана в конкретном городе в качестве \"ранга\" города и занесем столбец с соответствующей информацией в материнский датасет."
   ]
  },
  {
   "cell_type": "code",
   "execution_count": 254,
   "metadata": {
    "scrolled": true
   },
   "outputs": [],
   "source": [
    "City_count=City_count.reset_index()"
   ]
  },
  {
   "cell_type": "code",
   "execution_count": 255,
   "metadata": {
    "scrolled": true
   },
   "outputs": [],
   "source": [
    "City_count.columns=['City','Frequency']"
   ]
  },
  {
   "cell_type": "code",
   "execution_count": 256,
   "metadata": {},
   "outputs": [],
   "source": [
    "data=data.merge(City_count, how='left', on='City')"
   ]
  },
  {
   "cell_type": "code",
   "execution_count": 267,
   "metadata": {},
   "outputs": [],
   "source": [
    "#Столбец 'City' можно отбросить\n",
    "data.drop(['City'],inplace=True,axis=1)"
   ]
  },
  {
   "cell_type": "markdown",
   "metadata": {},
   "source": [
    "#### Ranking"
   ]
  },
  {
   "cell_type": "code",
   "execution_count": 268,
   "metadata": {},
   "outputs": [
    {
     "data": {
      "text/plain": [
       "count    39980.000000\n",
       "mean      3676.497249\n",
       "std       3709.500590\n",
       "min          1.000000\n",
       "25%        973.000000\n",
       "50%       2284.000000\n",
       "75%       5261.000000\n",
       "max      16444.000000\n",
       "Name: Ranking, dtype: float64"
      ]
     },
     "execution_count": 268,
     "metadata": {},
     "output_type": "execute_result"
    }
   ],
   "source": [
    "data.Ranking.describe()"
   ]
  },
  {
   "cell_type": "code",
   "execution_count": 269,
   "metadata": {
    "scrolled": true
   },
   "outputs": [
    {
     "data": {
      "image/png": "[encoded data removed]",
      "text/plain": [
       "<Figure size 432x288 with 1 Axes>"
      ]
     },
     "metadata": {
      "needs_background": "light"
     },
     "output_type": "display_data"
    }
   ],
   "source": [
    "data.Ranking.hist();"
   ]
  },
  {
   "cell_type": "markdown",
   "metadata": {},
   "source": [
    "#### Rating"
   ]
  },
  {
   "cell_type": "code",
   "execution_count": 270,
   "metadata": {},
   "outputs": [
    {
     "data": {
      "text/plain": [
       "count    39980.000000\n",
       "mean         3.992909\n",
       "std          0.668471\n",
       "min          1.000000\n",
       "25%          3.500000\n",
       "50%          4.000000\n",
       "75%          4.500000\n",
       "max          5.000000\n",
       "Name: Rating, dtype: float64"
      ]
     },
     "execution_count": 270,
     "metadata": {},
     "output_type": "execute_result"
    }
   ],
   "source": [
    "data.Rating.describe()"
   ]
  },
  {
   "cell_type": "code",
   "execution_count": 272,
   "metadata": {},
   "outputs": [
    {
     "data": {
      "image/png": "[encoded data removed]",
      "text/plain": [
       "<Figure size 432x288 with 1 Axes>"
      ]
     },
     "metadata": {
      "needs_background": "light"
     },
     "output_type": "display_data"
    }
   ],
   "source": [
    "data.Rating.hist();"
   ]
  },
  {
   "cell_type": "code",
   "execution_count": 273,
   "metadata": {},
   "outputs": [
    {
     "data": {
      "text/plain": [
       "array([3.5, 4. , 4.5, 5. , 3. , 2.5, 2. , 1. , 1.5])"
      ]
     },
     "execution_count": 273,
     "metadata": {},
     "output_type": "execute_result"
    }
   ],
   "source": [
    "data.Rating.unique()"
   ]
  },
  {
   "cell_type": "markdown",
   "metadata": {},
   "source": [
    "### Анализ"
   ]
  },
  {
   "cell_type": "code",
   "execution_count": 280,
   "metadata": {},
   "outputs": [
    {
     "data": {
      "text/html": [
       "<div>\n",
       "<style scoped>\n",
       "    .dataframe tbody tr th:only-of-type {\n",
       "        vertical-align: middle;\n",
       "    }\n",
       "\n",
       "    .dataframe tbody tr th {\n",
       "        vertical-align: top;\n",
       "    }\n",
       "\n",
       "    .dataframe thead th {\n",
       "        text-align: right;\n",
       "    }\n",
       "</style>\n",
       "<table border=\"1\" class=\"dataframe\">\n",
       "  <thead>\n",
       "    <tr style=\"text-align: right;\">\n",
       "      <th></th>\n",
       "      <th>Ranking</th>\n",
       "      <th>Rating</th>\n",
       "      <th>Number_of_Reviews</th>\n",
       "      <th>Cuisine_Popularity</th>\n",
       "      <th>High</th>\n",
       "      <th>Low</th>\n",
       "      <th>Med</th>\n",
       "      <th>NaN</th>\n",
       "      <th>Most_recent_rev_date</th>\n",
       "      <th>Total_rev_by_city</th>\n",
       "      <th>Frequency</th>\n",
       "    </tr>\n",
       "  </thead>\n",
       "  <tbody>\n",
       "    <tr>\n",
       "      <th>Ranking</th>\n",
       "      <td>1.000000</td>\n",
       "      <td>-0.368370</td>\n",
       "      <td>-0.186533</td>\n",
       "      <td>-0.350863</td>\n",
       "      <td>-0.088439</td>\n",
       "      <td>-0.014309</td>\n",
       "      <td>-0.179279</td>\n",
       "      <td>0.233051</td>\n",
       "      <td>-0.183870</td>\n",
       "      <td>0.695632</td>\n",
       "      <td>0.709207</td>\n",
       "    </tr>\n",
       "    <tr>\n",
       "      <th>Rating</th>\n",
       "      <td>-0.368370</td>\n",
       "      <td>1.000000</td>\n",
       "      <td>-0.025958</td>\n",
       "      <td>0.127215</td>\n",
       "      <td>0.060910</td>\n",
       "      <td>0.064184</td>\n",
       "      <td>-0.007658</td>\n",
       "      <td>-0.064733</td>\n",
       "      <td>0.091564</td>\n",
       "      <td>-0.051459</td>\n",
       "      <td>-0.061217</td>\n",
       "    </tr>\n",
       "    <tr>\n",
       "      <th>Number_of_Reviews</th>\n",
       "      <td>-0.186533</td>\n",
       "      <td>-0.025958</td>\n",
       "      <td>1.000000</td>\n",
       "      <td>0.351696</td>\n",
       "      <td>0.068032</td>\n",
       "      <td>0.006955</td>\n",
       "      <td>0.374759</td>\n",
       "      <td>-0.424150</td>\n",
       "      <td>0.218963</td>\n",
       "      <td>0.089213</td>\n",
       "      <td>0.063773</td>\n",
       "    </tr>\n",
       "    <tr>\n",
       "      <th>Cuisine_Popularity</th>\n",
       "      <td>-0.350863</td>\n",
       "      <td>0.127215</td>\n",
       "      <td>0.351696</td>\n",
       "      <td>1.000000</td>\n",
       "      <td>0.125557</td>\n",
       "      <td>-0.075546</td>\n",
       "      <td>0.309564</td>\n",
       "      <td>-0.315238</td>\n",
       "      <td>0.294373</td>\n",
       "      <td>-0.051157</td>\n",
       "      <td>-0.071357</td>\n",
       "    </tr>\n",
       "    <tr>\n",
       "      <th>High</th>\n",
       "      <td>-0.088439</td>\n",
       "      <td>0.060910</td>\n",
       "      <td>0.068032</td>\n",
       "      <td>0.125557</td>\n",
       "      <td>1.000000</td>\n",
       "      <td>-0.082899</td>\n",
       "      <td>-0.177410</td>\n",
       "      <td>-0.140088</td>\n",
       "      <td>0.055214</td>\n",
       "      <td>0.019691</td>\n",
       "      <td>0.015263</td>\n",
       "    </tr>\n",
       "    <tr>\n",
       "      <th>Low</th>\n",
       "      <td>-0.014309</td>\n",
       "      <td>0.064184</td>\n",
       "      <td>0.006955</td>\n",
       "      <td>-0.075546</td>\n",
       "      <td>-0.082899</td>\n",
       "      <td>1.000000</td>\n",
       "      <td>-0.398499</td>\n",
       "      <td>-0.314667</td>\n",
       "      <td>0.042773</td>\n",
       "      <td>0.006829</td>\n",
       "      <td>0.000634</td>\n",
       "    </tr>\n",
       "    <tr>\n",
       "      <th>Med</th>\n",
       "      <td>-0.179279</td>\n",
       "      <td>-0.007658</td>\n",
       "      <td>0.374759</td>\n",
       "      <td>0.309564</td>\n",
       "      <td>-0.177410</td>\n",
       "      <td>-0.398499</td>\n",
       "      <td>1.000000</td>\n",
       "      <td>-0.673407</td>\n",
       "      <td>0.221909</td>\n",
       "      <td>0.047386</td>\n",
       "      <td>0.035995</td>\n",
       "    </tr>\n",
       "    <tr>\n",
       "      <th>NaN</th>\n",
       "      <td>0.233051</td>\n",
       "      <td>-0.064733</td>\n",
       "      <td>-0.424150</td>\n",
       "      <td>-0.315238</td>\n",
       "      <td>-0.140088</td>\n",
       "      <td>-0.314667</td>\n",
       "      <td>-0.673407</td>\n",
       "      <td>1.000000</td>\n",
       "      <td>-0.286503</td>\n",
       "      <td>-0.062492</td>\n",
       "      <td>-0.044110</td>\n",
       "    </tr>\n",
       "    <tr>\n",
       "      <th>Most_recent_rev_date</th>\n",
       "      <td>-0.183870</td>\n",
       "      <td>0.091564</td>\n",
       "      <td>0.218963</td>\n",
       "      <td>0.294373</td>\n",
       "      <td>0.055214</td>\n",
       "      <td>0.042773</td>\n",
       "      <td>0.221909</td>\n",
       "      <td>-0.286503</td>\n",
       "      <td>1.000000</td>\n",
       "      <td>0.027750</td>\n",
       "      <td>0.025221</td>\n",
       "    </tr>\n",
       "    <tr>\n",
       "      <th>Total_rev_by_city</th>\n",
       "      <td>0.695632</td>\n",
       "      <td>-0.051459</td>\n",
       "      <td>0.089213</td>\n",
       "      <td>-0.051157</td>\n",
       "      <td>0.019691</td>\n",
       "      <td>0.006829</td>\n",
       "      <td>0.047386</td>\n",
       "      <td>-0.062492</td>\n",
       "      <td>0.027750</td>\n",
       "      <td>1.000000</td>\n",
       "      <td>0.982479</td>\n",
       "    </tr>\n",
       "    <tr>\n",
       "      <th>Frequency</th>\n",
       "      <td>0.709207</td>\n",
       "      <td>-0.061217</td>\n",
       "      <td>0.063773</td>\n",
       "      <td>-0.071357</td>\n",
       "      <td>0.015263</td>\n",
       "      <td>0.000634</td>\n",
       "      <td>0.035995</td>\n",
       "      <td>-0.044110</td>\n",
       "      <td>0.025221</td>\n",
       "      <td>0.982479</td>\n",
       "      <td>1.000000</td>\n",
       "    </tr>\n",
       "  </tbody>\n",
       "</table>\n",
       "</div>"
      ],
      "text/plain": [
       "                       Ranking    Rating  Number_of_Reviews  \\\n",
       "Ranking               1.000000 -0.368370          -0.186533   \n",
       "Rating               -0.368370  1.000000          -0.025958   \n",
       "Number_of_Reviews    -0.186533 -0.025958           1.000000   \n",
       "Cuisine_Popularity   -0.350863  0.127215           0.351696   \n",
       "High                 -0.088439  0.060910           0.068032   \n",
       "Low                  -0.014309  0.064184           0.006955   \n",
       "Med                  -0.179279 -0.007658           0.374759   \n",
       "NaN                   0.233051 -0.064733          -0.424150   \n",
       "Most_recent_rev_date -0.183870  0.091564           0.218963   \n",
       "Total_rev_by_city     0.695632 -0.051459           0.089213   \n",
       "Frequency             0.709207 -0.061217           0.063773   \n",
       "\n",
       "                      Cuisine_Popularity      High       Low       Med  \\\n",
       "Ranking                        -0.350863 -0.088439 -0.014309 -0.179279   \n",
       "Rating                          0.127215  0.060910  0.064184 -0.007658   \n",
       "Number_of_Reviews               0.351696  0.068032  0.006955  0.374759   \n",
       "Cuisine_Popularity              1.000000  0.125557 -0.075546  0.309564   \n",
       "High                            0.125557  1.000000 -0.082899 -0.177410   \n",
       "Low                            -0.075546 -0.082899  1.000000 -0.398499   \n",
       "Med                             0.309564 -0.177410 -0.398499  1.000000   \n",
       "NaN                            -0.315238 -0.140088 -0.314667 -0.673407   \n",
       "Most_recent_rev_date            0.294373  0.055214  0.042773  0.221909   \n",
       "Total_rev_by_city              -0.051157  0.019691  0.006829  0.047386   \n",
       "Frequency                      -0.071357  0.015263  0.000634  0.035995   \n",
       "\n",
       "                           NaN  Most_recent_rev_date  Total_rev_by_city  \\\n",
       "Ranking               0.233051             -0.183870           0.695632   \n",
       "Rating               -0.064733              0.091564          -0.051459   \n",
       "Number_of_Reviews    -0.424150              0.218963           0.089213   \n",
       "Cuisine_Popularity   -0.315238              0.294373          -0.051157   \n",
       "High                 -0.140088              0.055214           0.019691   \n",
       "Low                  -0.314667              0.042773           0.006829   \n",
       "Med                  -0.673407              0.221909           0.047386   \n",
       "NaN                   1.000000             -0.286503          -0.062492   \n",
       "Most_recent_rev_date -0.286503              1.000000           0.027750   \n",
       "Total_rev_by_city    -0.062492              0.027750           1.000000   \n",
       "Frequency            -0.044110              0.025221           0.982479   \n",
       "\n",
       "                      Frequency  \n",
       "Ranking                0.709207  \n",
       "Rating                -0.061217  \n",
       "Number_of_Reviews      0.063773  \n",
       "Cuisine_Popularity    -0.071357  \n",
       "High                   0.015263  \n",
       "Low                    0.000634  \n",
       "Med                    0.035995  \n",
       "NaN                   -0.044110  \n",
       "Most_recent_rev_date   0.025221  \n",
       "Total_rev_by_city      0.982479  \n",
       "Frequency              1.000000  "
      ]
     },
     "execution_count": 280,
     "metadata": {},
     "output_type": "execute_result"
    }
   ],
   "source": [
    "corelation=data.corr()\n",
    "corelation"
   ]
  },
  {
   "cell_type": "code",
   "execution_count": 278,
   "metadata": {},
   "outputs": [
    {
     "data": {
      "image/png": "[encoded data removed]",
      "text/plain": [
       "<Figure size 432x288 with 2 Axes>"
      ]
     },
     "metadata": {
      "needs_background": "light"
     },
     "output_type": "display_data"
    }
   ],
   "source": [
    "sns.heatmap(corelation);"
   ]
  },
  {
   "cell_type": "markdown",
   "metadata": {},
   "source": [
    "наблюдается рямая взаимосвязь между общей суммой отзывов по городу и числу ресторанов по городам. При этом кореляция Frequency с Ranking чуть выше, поэтому уберем столбец Total_rev_by_city. Других рямых кореляций нет."
   ]
  },
  {
   "cell_type": "code",
   "execution_count": 281,
   "metadata": {},
   "outputs": [],
   "source": [
    "data.drop(['Total_rev_by_city'],inplace=True,axis=1)"
   ]
  },
  {
   "cell_type": "markdown",
   "metadata": {},
   "source": [
    "### КОМЕНТЫ ДЛЯ СЕБЯ "
   ]
  },
  {
   "cell_type": "markdown",
   "metadata": {},
   "source": [
    "URL_TA - доп важной информации не несет (содержит код города g...., ID  в Tripadvisor d....., название ресторана, название города --- город у нас уже есть в столбце City, ID в TripAdvisor идет в столбце ID_TA, название ресторана в плане анализа, вероятно, не сильно важен )"
   ]
  },
  {
   "cell_type": "code",
   "execution_count": null,
   "metadata": {},
   "outputs": [],
   "source": [
    "# в случае, если все же разбивку кухонь сделаю по рангам \n",
    "cuisines_count.Count.value_counts(bins=4)"
   ]
  },
  {
   "cell_type": "code",
   "execution_count": null,
   "metadata": {},
   "outputs": [],
   "source": [
    "#Rev_txt что-нибудь придумать по поводу использования наиболее часто встречающихся слов"
   ]
  },
  {
   "cell_type": "code",
   "execution_count": null,
   "metadata": {},
   "outputs": [],
   "source": [
    "data.Rev_txt[0].replace(',','').lower().split(' ')"
   ]
  },
  {
   "cell_type": "code",
   "execution_count": null,
   "metadata": {},
   "outputs": [],
   "source": [
    "#Ranking можно попробовать очистить от выбросов "
   ]
  },
  {
   "cell_type": "code",
   "execution_count": null,
   "metadata": {},
   "outputs": [],
   "source": [
    "#по столбцу Review может стоит посчитать по каждому ресторану число отзывов 0, 1, или 2\n",
    "#проанализировать по какому принципу у реста бывает 1 или 2 отзыва , \n",
    "#может это зависит от возраста реста и тогда это может , теоретически влиять на рейтинг"
   ]
  },
  {
   "cell_type": "code",
   "execution_count": null,
   "metadata": {
    "scrolled": true
   },
   "outputs": [],
   "source": [
    "data.Most_recent_rev_date.hist();"
   ]
  }
 ],
 "metadata": {
  "kernelspec": {
   "display_name": "Python 3",
   "language": "python",
   "name": "python3"
  },
  "language_info": {
   "codemirror_mode": {
    "name": "ipython",
    "version": 3
   },
   "file_extension": ".py",
   "mimetype": "text/x-python",
   "name": "python",
   "nbconvert_exporter": "python",
   "pygments_lexer": "ipython3",
   "version": "3.8.8"
  },
  "toc": {
   "base_numbering": 1,
   "nav_menu": {},
   "number_sections": true,
   "sideBar": true,
   "skip_h1_title": false,
   "title_cell": "Table of Contents",
   "title_sidebar": "Contents",
   "toc_cell": false,
   "toc_position": {
    "height": "calc(100% - 180px)",
    "left": "10px",
    "top": "150px",
    "width": "215.188px"
   },
   "toc_section_display": true,
   "toc_window_display": true
  },
  "varInspector": {
   "cols": {
    "lenName": 16,
    "lenType": 16,
    "lenVar": 40
   },
   "kernels_config": {
    "python": {
     "delete_cmd_postfix": "",
     "delete_cmd_prefix": "del ",
     "library": "var_list.py",
     "varRefreshCmd": "print(var_dic_list())"
    },
    "r": {
     "delete_cmd_postfix": ") ",
     "delete_cmd_prefix": "rm(",
     "library": "var_list.r",
     "varRefreshCmd": "cat(var_dic_list()) "
    }
   },
   "types_to_exclude": [
    "module",
    "function",
    "builtin_function_or_method",
    "instance",
    "_Feature"
   ],
   "window_display": false
  }
 },
 "nbformat": 4,
 "nbformat_minor": 4
}
