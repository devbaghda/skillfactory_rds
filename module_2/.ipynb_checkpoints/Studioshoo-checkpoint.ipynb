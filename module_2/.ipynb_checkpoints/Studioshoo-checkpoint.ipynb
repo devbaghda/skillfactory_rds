{
 "cells": [
  {
   "cell_type": "code",
   "execution_count": 269,
   "metadata": {},
   "outputs": [],
   "source": [
    "import pandas as pd\n",
    "import datetime as dt"
   ]
  },
  {
   "cell_type": "code",
   "execution_count": 270,
   "metadata": {},
   "outputs": [],
   "source": [
    "FM=pd.read_csv(r'C:\\Users\\devba\\Desktop\\St_S.csv',delimiter=';')"
   ]
  },
  {
   "cell_type": "code",
   "execution_count": 271,
   "metadata": {},
   "outputs": [
    {
     "data": {
      "text/html": [
       "<div>\n",
       "<style scoped>\n",
       "    .dataframe tbody tr th:only-of-type {\n",
       "        vertical-align: middle;\n",
       "    }\n",
       "\n",
       "    .dataframe tbody tr th {\n",
       "        vertical-align: top;\n",
       "    }\n",
       "\n",
       "    .dataframe thead th {\n",
       "        text-align: right;\n",
       "    }\n",
       "</style>\n",
       "<table border=\"1\" class=\"dataframe\">\n",
       "  <thead>\n",
       "    <tr style=\"text-align: right;\">\n",
       "      <th></th>\n",
       "      <th>Дата</th>\n",
       "      <th>Категория</th>\n",
       "      <th>Статья</th>\n",
       "      <th>Комментарий</th>\n",
       "      <th>Приход</th>\n",
       "      <th>Расход</th>\n",
       "    </tr>\n",
       "  </thead>\n",
       "  <tbody>\n",
       "    <tr>\n",
       "      <th>0</th>\n",
       "      <td>02.09.2019</td>\n",
       "      <td>Люда зп август</td>\n",
       "      <td>зп</td>\n",
       "      <td>оплачено</td>\n",
       "      <td>NaN</td>\n",
       "      <td>90 000,00</td>\n",
       "    </tr>\n",
       "    <tr>\n",
       "      <th>1</th>\n",
       "      <td>02.09.2019</td>\n",
       "      <td>Юля зп август</td>\n",
       "      <td>зп</td>\n",
       "      <td>оплачено</td>\n",
       "      <td>NaN</td>\n",
       "      <td>30 000,00</td>\n",
       "    </tr>\n",
       "    <tr>\n",
       "      <th>2</th>\n",
       "      <td>02.09.2019</td>\n",
       "      <td>Лена зп август</td>\n",
       "      <td>зп</td>\n",
       "      <td>оплачено</td>\n",
       "      <td>NaN</td>\n",
       "      <td>36 364,00</td>\n",
       "    </tr>\n",
       "    <tr>\n",
       "      <th>3</th>\n",
       "      <td>02.09.2019</td>\n",
       "      <td>Уборка за вых 31,01 августа</td>\n",
       "      <td>студия</td>\n",
       "      <td>оплачено</td>\n",
       "      <td>NaN</td>\n",
       "      <td>600,00</td>\n",
       "    </tr>\n",
       "    <tr>\n",
       "      <th>4</th>\n",
       "      <td>02.09.2019</td>\n",
       "      <td>Уборка коридор</td>\n",
       "      <td>студия</td>\n",
       "      <td>оплачено</td>\n",
       "      <td>NaN</td>\n",
       "      <td>1000,00</td>\n",
       "    </tr>\n",
       "  </tbody>\n",
       "</table>\n",
       "</div>"
      ],
      "text/plain": [
       "         Дата                    Категория  Статья Комментарий Приход  \\\n",
       "0  02.09.2019               Люда зп август      зп    оплачено    NaN   \n",
       "1  02.09.2019                Юля зп август      зп    оплачено    NaN   \n",
       "2  02.09.2019               Лена зп август      зп    оплачено    NaN   \n",
       "3  02.09.2019  Уборка за вых 31,01 августа  студия    оплачено    NaN   \n",
       "4  02.09.2019               Уборка коридор  студия    оплачено    NaN   \n",
       "\n",
       "      Расход  \n",
       "0  90 000,00  \n",
       "1  30 000,00  \n",
       "2  36 364,00  \n",
       "3     600,00  \n",
       "4    1000,00  "
      ]
     },
     "execution_count": 271,
     "metadata": {},
     "output_type": "execute_result"
    }
   ],
   "source": [
    "FM.head()"
   ]
  },
  {
   "cell_type": "code",
   "execution_count": 272,
   "metadata": {},
   "outputs": [
    {
     "name": "stdout",
     "output_type": "stream",
     "text": [
      "<class 'pandas.core.frame.DataFrame'>\n",
      "RangeIndex: 872 entries, 0 to 871\n",
      "Data columns (total 6 columns):\n",
      " #   Column       Non-Null Count  Dtype \n",
      "---  ------       --------------  ----- \n",
      " 0   Дата         872 non-null    object\n",
      " 1   Категория    872 non-null    object\n",
      " 2   Статья       872 non-null    object\n",
      " 3   Комментарий  872 non-null    object\n",
      " 4   Приход       136 non-null    object\n",
      " 5   Расход       736 non-null    object\n",
      "dtypes: object(6)\n",
      "memory usage: 41.0+ KB\n"
     ]
    }
   ],
   "source": [
    "FM.info()"
   ]
  },
  {
   "cell_type": "code",
   "execution_count": 273,
   "metadata": {},
   "outputs": [],
   "source": [
    "FM.columns=['date','category','type','comment','income','cost']"
   ]
  },
  {
   "cell_type": "code",
   "execution_count": 274,
   "metadata": {},
   "outputs": [
    {
     "data": {
      "text/html": [
       "<div>\n",
       "<style scoped>\n",
       "    .dataframe tbody tr th:only-of-type {\n",
       "        vertical-align: middle;\n",
       "    }\n",
       "\n",
       "    .dataframe tbody tr th {\n",
       "        vertical-align: top;\n",
       "    }\n",
       "\n",
       "    .dataframe thead th {\n",
       "        text-align: right;\n",
       "    }\n",
       "</style>\n",
       "<table border=\"1\" class=\"dataframe\">\n",
       "  <thead>\n",
       "    <tr style=\"text-align: right;\">\n",
       "      <th></th>\n",
       "      <th>date</th>\n",
       "      <th>category</th>\n",
       "      <th>type</th>\n",
       "      <th>comment</th>\n",
       "      <th>income</th>\n",
       "      <th>cost</th>\n",
       "    </tr>\n",
       "  </thead>\n",
       "  <tbody>\n",
       "    <tr>\n",
       "      <th>0</th>\n",
       "      <td>02.09.2019</td>\n",
       "      <td>Люда зп август</td>\n",
       "      <td>зп</td>\n",
       "      <td>оплачено</td>\n",
       "      <td>NaN</td>\n",
       "      <td>90 000,00</td>\n",
       "    </tr>\n",
       "    <tr>\n",
       "      <th>1</th>\n",
       "      <td>02.09.2019</td>\n",
       "      <td>Юля зп август</td>\n",
       "      <td>зп</td>\n",
       "      <td>оплачено</td>\n",
       "      <td>NaN</td>\n",
       "      <td>30 000,00</td>\n",
       "    </tr>\n",
       "    <tr>\n",
       "      <th>2</th>\n",
       "      <td>02.09.2019</td>\n",
       "      <td>Лена зп август</td>\n",
       "      <td>зп</td>\n",
       "      <td>оплачено</td>\n",
       "      <td>NaN</td>\n",
       "      <td>36 364,00</td>\n",
       "    </tr>\n",
       "    <tr>\n",
       "      <th>3</th>\n",
       "      <td>02.09.2019</td>\n",
       "      <td>Уборка за вых 31,01 августа</td>\n",
       "      <td>студия</td>\n",
       "      <td>оплачено</td>\n",
       "      <td>NaN</td>\n",
       "      <td>600,00</td>\n",
       "    </tr>\n",
       "    <tr>\n",
       "      <th>4</th>\n",
       "      <td>02.09.2019</td>\n",
       "      <td>Уборка коридор</td>\n",
       "      <td>студия</td>\n",
       "      <td>оплачено</td>\n",
       "      <td>NaN</td>\n",
       "      <td>1000,00</td>\n",
       "    </tr>\n",
       "  </tbody>\n",
       "</table>\n",
       "</div>"
      ],
      "text/plain": [
       "         date                     category    type   comment income       cost\n",
       "0  02.09.2019               Люда зп август      зп  оплачено    NaN  90 000,00\n",
       "1  02.09.2019                Юля зп август      зп  оплачено    NaN  30 000,00\n",
       "2  02.09.2019               Лена зп август      зп  оплачено    NaN  36 364,00\n",
       "3  02.09.2019  Уборка за вых 31,01 августа  студия  оплачено    NaN     600,00\n",
       "4  02.09.2019               Уборка коридор  студия  оплачено    NaN    1000,00"
      ]
     },
     "execution_count": 274,
     "metadata": {},
     "output_type": "execute_result"
    }
   ],
   "source": [
    "FM.head()"
   ]
  },
  {
   "cell_type": "code",
   "execution_count": 275,
   "metadata": {},
   "outputs": [
    {
     "data": {
      "text/plain": [
       "count            872\n",
       "unique           197\n",
       "top       20.08.2020\n",
       "freq              25\n",
       "Name: date, dtype: object"
      ]
     },
     "execution_count": 275,
     "metadata": {},
     "output_type": "execute_result"
    }
   ],
   "source": [
    "FM.date.describe()"
   ]
  },
  {
   "cell_type": "code",
   "execution_count": 276,
   "metadata": {},
   "outputs": [],
   "source": [
    "FM.date=pd.to_datetime(FM.date, format=\"%d.%m.%Y\")   "
   ]
  },
  {
   "cell_type": "code",
   "execution_count": 277,
   "metadata": {},
   "outputs": [
    {
     "data": {
      "text/plain": [
       "count                     872\n",
       "unique                    197\n",
       "top       2020-08-20 00:00:00\n",
       "freq                       25\n",
       "first     2019-09-02 00:00:00\n",
       "last      2020-09-20 00:00:00\n",
       "Name: date, dtype: object"
      ]
     },
     "execution_count": 277,
     "metadata": {},
     "output_type": "execute_result"
    }
   ],
   "source": [
    "FM.date.describe()"
   ]
  },
  {
   "cell_type": "code",
   "execution_count": 278,
   "metadata": {},
   "outputs": [
    {
     "data": {
      "text/plain": [
       "count                    872\n",
       "unique                   331\n",
       "top       Комисии Альфа Банк\n",
       "freq                      58\n",
       "Name: category, dtype: object"
      ]
     },
     "execution_count": 278,
     "metadata": {},
     "output_type": "execute_result"
    }
   ],
   "source": [
    "FM.category.describe()"
   ]
  },
  {
   "cell_type": "code",
   "execution_count": 279,
   "metadata": {},
   "outputs": [],
   "source": [
    "FM.income=FM.income.apply(lambda x: 0 if pd.isna(x)==True else x)\n",
    "FM.income=FM.income.apply(lambda x: int(pd.to_numeric(str(x).replace(' ','').replace(',','.'))))"
   ]
  },
  {
   "cell_type": "code",
   "execution_count": 280,
   "metadata": {},
   "outputs": [],
   "source": [
    "FM.cost=FM.cost.apply(lambda x: 0 if pd.isna(x)==True else x)\n",
    "FM.cost=FM.cost.apply(lambda x: int(pd.to_numeric(str(x).replace(' ','').replace(',','.'))))"
   ]
  },
  {
   "cell_type": "code",
   "execution_count": 281,
   "metadata": {},
   "outputs": [
    {
     "data": {
      "text/html": [
       "<div>\n",
       "<style scoped>\n",
       "    .dataframe tbody tr th:only-of-type {\n",
       "        vertical-align: middle;\n",
       "    }\n",
       "\n",
       "    .dataframe tbody tr th {\n",
       "        vertical-align: top;\n",
       "    }\n",
       "\n",
       "    .dataframe thead th {\n",
       "        text-align: right;\n",
       "    }\n",
       "</style>\n",
       "<table border=\"1\" class=\"dataframe\">\n",
       "  <thead>\n",
       "    <tr style=\"text-align: right;\">\n",
       "      <th></th>\n",
       "      <th>date</th>\n",
       "      <th>category</th>\n",
       "      <th>type</th>\n",
       "      <th>comment</th>\n",
       "      <th>income</th>\n",
       "      <th>cost</th>\n",
       "    </tr>\n",
       "  </thead>\n",
       "  <tbody>\n",
       "    <tr>\n",
       "      <th>0</th>\n",
       "      <td>2019-09-02</td>\n",
       "      <td>Люда зп август</td>\n",
       "      <td>зп</td>\n",
       "      <td>оплачено</td>\n",
       "      <td>0</td>\n",
       "      <td>90000</td>\n",
       "    </tr>\n",
       "    <tr>\n",
       "      <th>1</th>\n",
       "      <td>2019-09-02</td>\n",
       "      <td>Юля зп август</td>\n",
       "      <td>зп</td>\n",
       "      <td>оплачено</td>\n",
       "      <td>0</td>\n",
       "      <td>30000</td>\n",
       "    </tr>\n",
       "    <tr>\n",
       "      <th>2</th>\n",
       "      <td>2019-09-02</td>\n",
       "      <td>Лена зп август</td>\n",
       "      <td>зп</td>\n",
       "      <td>оплачено</td>\n",
       "      <td>0</td>\n",
       "      <td>36364</td>\n",
       "    </tr>\n",
       "    <tr>\n",
       "      <th>3</th>\n",
       "      <td>2019-09-02</td>\n",
       "      <td>Уборка за вых 31,01 августа</td>\n",
       "      <td>студия</td>\n",
       "      <td>оплачено</td>\n",
       "      <td>0</td>\n",
       "      <td>600</td>\n",
       "    </tr>\n",
       "    <tr>\n",
       "      <th>4</th>\n",
       "      <td>2019-09-02</td>\n",
       "      <td>Уборка коридор</td>\n",
       "      <td>студия</td>\n",
       "      <td>оплачено</td>\n",
       "      <td>0</td>\n",
       "      <td>1000</td>\n",
       "    </tr>\n",
       "  </tbody>\n",
       "</table>\n",
       "</div>"
      ],
      "text/plain": [
       "        date                     category    type   comment  income   cost\n",
       "0 2019-09-02               Люда зп август      зп  оплачено       0  90000\n",
       "1 2019-09-02                Юля зп август      зп  оплачено       0  30000\n",
       "2 2019-09-02               Лена зп август      зп  оплачено       0  36364\n",
       "3 2019-09-02  Уборка за вых 31,01 августа  студия  оплачено       0    600\n",
       "4 2019-09-02               Уборка коридор  студия  оплачено       0   1000"
      ]
     },
     "execution_count": 281,
     "metadata": {},
     "output_type": "execute_result"
    }
   ],
   "source": [
    "FM.head()"
   ]
  },
  {
   "cell_type": "code",
   "execution_count": 282,
   "metadata": {},
   "outputs": [
    {
     "data": {
      "text/plain": [
       "24236272"
      ]
     },
     "execution_count": 282,
     "metadata": {},
     "output_type": "execute_result"
    }
   ],
   "source": [
    "FM.income.sum()"
   ]
  },
  {
   "cell_type": "code",
   "execution_count": 283,
   "metadata": {},
   "outputs": [
    {
     "data": {
      "text/plain": [
       "20216304"
      ]
     },
     "execution_count": 283,
     "metadata": {},
     "output_type": "execute_result"
    }
   ],
   "source": [
    "FM.cost.sum()"
   ]
  },
  {
   "cell_type": "code",
   "execution_count": 284,
   "metadata": {},
   "outputs": [
    {
     "data": {
      "text/plain": [
       "4019968"
      ]
     },
     "execution_count": 284,
     "metadata": {},
     "output_type": "execute_result"
    }
   ],
   "source": [
    "FM.income.sum()-FM.cost.sum()"
   ]
  },
  {
   "cell_type": "code",
   "execution_count": 285,
   "metadata": {},
   "outputs": [
    {
     "data": {
      "text/plain": [
       "зп                       327\n",
       "студия                   205\n",
       "агентские                107\n",
       "проект                    96\n",
       "комиссии                  63\n",
       "фин-юр                    26\n",
       "налоги                    17\n",
       "виз                       14\n",
       "аренда                     6\n",
       "дивиденды                  5\n",
       "агенсткие за договора      2\n",
       "агентские                  2\n",
       "возмещения                 1\n",
       "непридвиденный расход      1\n",
       "Name: type, dtype: int64"
      ]
     },
     "execution_count": 285,
     "metadata": {},
     "output_type": "execute_result"
    }
   ],
   "source": [
    "FM.type.value_counts()"
   ]
  },
  {
   "cell_type": "code",
   "execution_count": 286,
   "metadata": {},
   "outputs": [
    {
     "data": {
      "text/plain": [
       "type\n",
       "агенсткие за договора     180000\n",
       "агентские                3144155\n",
       "агентские                 176657\n",
       "аренда                    230000\n",
       "виз                       525710\n",
       "возмещения                 36733\n",
       "дивиденды                2392500\n",
       "зп                       8319782\n",
       "комиссии                  577725\n",
       "налоги                   1343106\n",
       "непридвиденный расход     332764\n",
       "проект                     23000\n",
       "студия                   2212172\n",
       "фин-юр                    722000\n",
       "Name: cost, dtype: int64"
      ]
     },
     "execution_count": 286,
     "metadata": {},
     "output_type": "execute_result"
    }
   ],
   "source": [
    "FM.groupby('type').cost.sum()"
   ]
  },
  {
   "cell_type": "code",
   "execution_count": 287,
   "metadata": {},
   "outputs": [
    {
     "data": {
      "text/plain": [
       "type\n",
       "агенсткие за договора           0\n",
       "агентские                 3584826\n",
       "агентские                       0\n",
       "аренда                          0\n",
       "виз                             0\n",
       "возмещения                      0\n",
       "дивиденды                       0\n",
       "зп                              0\n",
       "комиссии                        0\n",
       "налоги                          0\n",
       "непридвиденный расход           0\n",
       "проект                   20613946\n",
       "студия                      37500\n",
       "фин-юр                          0\n",
       "Name: income, dtype: int64"
      ]
     },
     "execution_count": 287,
     "metadata": {},
     "output_type": "execute_result"
    }
   ],
   "source": [
    "FM.groupby('type').income.sum()"
   ]
  },
  {
   "cell_type": "code",
   "execution_count": 288,
   "metadata": {},
   "outputs": [
    {
     "data": {
      "text/plain": [
       "оплачено    736\n",
       "пришло      136\n",
       "Name: comment, dtype: int64"
      ]
     },
     "execution_count": 288,
     "metadata": {},
     "output_type": "execute_result"
    }
   ],
   "source": [
    "FM.comment.value_counts()"
   ]
  },
  {
   "cell_type": "code",
   "execution_count": 348,
   "metadata": {},
   "outputs": [
    {
     "data": {
      "text/plain": [
       "date\n",
       "1     911000\n",
       "2    2316780\n",
       "3    1734640\n",
       "4     486800\n",
       "5    1198936\n",
       "6    2533725\n",
       "7    3001025\n",
       "8    3423671\n",
       "9    1484782\n",
       "Name: income, dtype: int64"
      ]
     },
     "execution_count": 348,
     "metadata": {},
     "output_type": "execute_result"
    }
   ],
   "source": [
    "FM[FM.date.dt.year==2020].groupby(FM.date.dt.month).income.sum()"
   ]
  },
  {
   "cell_type": "code",
   "execution_count": 347,
   "metadata": {},
   "outputs": [
    {
     "data": {
      "text/plain": [
       "date\n",
       "1     371752\n",
       "2    1811017\n",
       "3    1981653\n",
       "4    2167996\n",
       "5     446909\n",
       "6    2300915\n",
       "7    2401148\n",
       "8    2354546\n",
       "9    1944878\n",
       "Name: cost, dtype: int64"
      ]
     },
     "execution_count": 347,
     "metadata": {},
     "output_type": "execute_result"
    }
   ],
   "source": [
    "FM[FM.date.dt.year==2020].groupby(FM.date.dt.month).cost.sum()"
   ]
  },
  {
   "cell_type": "code",
   "execution_count": 352,
   "metadata": {},
   "outputs": [],
   "source": [
    "PRF=FM.pivot_table(index=FM[FM.date.dt.year==2020].date.dt.month,values=['income','cost'],aggfunc='sum')"
   ]
  },
  {
   "cell_type": "code",
   "execution_count": 357,
   "metadata": {},
   "outputs": [],
   "source": [
    "PRF"
   ]
  },
  {
   "cell_type": "code",
   "execution_count": 353,
   "metadata": {},
   "outputs": [],
   "source": [
    "PRF=PRF.insert(2,'profit',PRF.income-PRF.cost,allow_duplicates=True)"
   ]
  },
  {
   "cell_type": "code",
   "execution_count": 356,
   "metadata": {},
   "outputs": [],
   "source": [
    "PRF"
   ]
  },
  {
   "cell_type": "code",
   "execution_count": 354,
   "metadata": {},
   "outputs": [
    {
     "ename": "AttributeError",
     "evalue": "'NoneType' object has no attribute 'plot'",
     "output_type": "error",
     "traceback": [
      "\u001b[1;31m---------------------------------------------------------------------------\u001b[0m",
      "\u001b[1;31mAttributeError\u001b[0m                            Traceback (most recent call last)",
      "\u001b[1;32m<ipython-input-354-74dadc010168>\u001b[0m in \u001b[0;36m<module>\u001b[1;34m\u001b[0m\n\u001b[1;32m----> 1\u001b[1;33m \u001b[0mPRF\u001b[0m\u001b[1;33m.\u001b[0m\u001b[0mplot\u001b[0m\u001b[1;33m(\u001b[0m\u001b[0mkind\u001b[0m\u001b[1;33m=\u001b[0m\u001b[1;34m'bar'\u001b[0m\u001b[1;33m,\u001b[0m\u001b[0mfigsize\u001b[0m\u001b[1;33m=\u001b[0m\u001b[1;33m(\u001b[0m\u001b[1;36m14\u001b[0m\u001b[1;33m,\u001b[0m\u001b[1;36m8\u001b[0m\u001b[1;33m)\u001b[0m\u001b[1;33m,\u001b[0m\u001b[0malign\u001b[0m\u001b[1;33m=\u001b[0m\u001b[1;34m'center'\u001b[0m\u001b[1;33m,\u001b[0m\u001b[0mgrid\u001b[0m\u001b[1;33m=\u001b[0m\u001b[1;32mTrue\u001b[0m\u001b[1;33m)\u001b[0m\u001b[1;33m\u001b[0m\u001b[1;33m\u001b[0m\u001b[0m\n\u001b[0m",
      "\u001b[1;31mAttributeError\u001b[0m: 'NoneType' object has no attribute 'plot'"
     ]
    }
   ],
   "source": [
    "PRF.plot(kind='bar',figsize=(14,8),align='center',grid=True)"
   ]
  },
  {
   "cell_type": "code",
   "execution_count": null,
   "metadata": {},
   "outputs": [],
   "source": []
  }
 ],
 "metadata": {
  "kernelspec": {
   "display_name": "Python 3",
   "language": "python",
   "name": "python3"
  },
  "language_info": {
   "codemirror_mode": {
    "name": "ipython",
    "version": 3
   },
   "file_extension": ".py",
   "mimetype": "text/x-python",
   "name": "python",
   "nbconvert_exporter": "python",
   "pygments_lexer": "ipython3",
   "version": "3.7.6"
  },
  "toc": {
   "base_numbering": 1,
   "nav_menu": {},
   "number_sections": true,
   "sideBar": true,
   "skip_h1_title": false,
   "title_cell": "Table of Contents",
   "title_sidebar": "Contents",
   "toc_cell": false,
   "toc_position": {},
   "toc_section_display": true,
   "toc_window_display": false
  }
 },
 "nbformat": 4,
 "nbformat_minor": 4
}
